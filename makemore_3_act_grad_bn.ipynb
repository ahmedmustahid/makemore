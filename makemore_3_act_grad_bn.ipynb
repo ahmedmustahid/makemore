{
 "cells": [
  {
   "cell_type": "code",
   "execution_count": 1,
   "id": "057f18f1-ff83-4212-97ed-e71d582c5ec5",
   "metadata": {},
   "outputs": [],
   "source": [
    "import torch\n",
    "import torch.nn.functional as F\n",
    "import matplotlib.pyplot as plt\n",
    "%matplotlib inline"
   ]
  },
  {
   "cell_type": "markdown",
   "id": "dae8ce3d-d45f-490a-8708-27f6a4fc2603",
   "metadata": {},
   "source": [
    "### Preparing Dataset"
   ]
  },
  {
   "cell_type": "code",
   "execution_count": 2,
   "id": "3a734f49-4307-4d83-93c4-8f2f5186bdc1",
   "metadata": {},
   "outputs": [],
   "source": [
    "words = open(\"names.txt\", \"r\").read().splitlines()"
   ]
  },
  {
   "cell_type": "code",
   "execution_count": 3,
   "id": "74504b8b-371d-43c7-bbf0-c3e46f814287",
   "metadata": {},
   "outputs": [
    {
     "data": {
      "text/plain": [
       "27"
      ]
     },
     "execution_count": 3,
     "metadata": {},
     "output_type": "execute_result"
    }
   ],
   "source": [
    "chars = sorted(list(set(\"\".join(words))))\n",
    "stoi = {s:i+1 for i,s in enumerate(chars)}\n",
    "stoi[\".\"] = 0\n",
    "itos = {i:s for s,i in stoi.items()}\n",
    "vocab_size = len(stoi)\n",
    "vocab_size"
   ]
  },
  {
   "cell_type": "code",
   "execution_count": 4,
   "id": "9993298e-8bf6-45fb-ad2a-623acf3cd75d",
   "metadata": {},
   "outputs": [],
   "source": [
    "\n",
    "\n",
    "block_size = 3\n",
    "def build_dataset(words):\n",
    "    block_size = 3\n",
    "    X, Y = [], []\n",
    "    \n",
    "    for w in words:\n",
    "    \n",
    "        context = [0] * block_size\n",
    "        for ch in w+\".\":\n",
    "            ix = stoi[ch]\n",
    "            X.append(context)\n",
    "            Y.append(ix)\n",
    "    \n",
    "            context = context[1:]+[ix]\n",
    "    \n",
    "    X = torch.tensor(X)\n",
    "    Y = torch.tensor(Y)   \n",
    "\n",
    "    return X, Y\n",
    "\n",
    "import random\n",
    "random.seed(42)\n",
    "random.shuffle(words)\n",
    "\n",
    "n1 = int(0.8*len(words))\n",
    "n2 = int(0.9*len(words))\n",
    "\n",
    "Xtr, Ytr = build_dataset(words[:n1])\n",
    "Xdev, Ydev = build_dataset(words[n1:n2])\n",
    "Xte, Yte = build_dataset(words[n2:])"
   ]
  },
  {
   "cell_type": "markdown",
   "id": "b32fb4b4-bcff-42ae-b12e-bdea8ee3f7b0",
   "metadata": {},
   "source": [
    "### Creating layers"
   ]
  },
  {
   "cell_type": "code",
   "execution_count": 12,
   "id": "cad89185-78ec-413e-a390-bb27620426bf",
   "metadata": {},
   "outputs": [
    {
     "name": "stdout",
     "output_type": "stream",
     "text": [
      "num of parameters: 11897\n"
     ]
    }
   ],
   "source": [
    "g = torch.Generator().manual_seed(2147483647)\n",
    "\n",
    "n_embed = 10\n",
    "n_hidden = 200\n",
    "\n",
    "C = torch.randn((27, n_embed), generator = g) #embedding matrix\n",
    "\n",
    "W1 = torch.randn((n_embed * block_size, n_hidden), generator=g)\n",
    "b1 = torch.randn(n_hidden, generator=g)\n",
    "\n",
    "\n",
    "W2 = torch.randn((n_hidden, vocab_size), generator=g)\n",
    "b2 = torch.randn(vocab_size, generator=g)\n",
    "\n",
    "parameters = [C, W1, W2, b1, b2]\n",
    "\n",
    "for p in parameters:\n",
    "    p.requires_grad = True\n",
    "\n",
    "print(f\"num of parameters: {sum(p.nelement() for p in parameters)}\")"
   ]
  },
  {
   "cell_type": "code",
   "execution_count": 13,
   "id": "7bed572b-d348-45d9-a67b-a8545807eab8",
   "metadata": {},
   "outputs": [],
   "source": [
    "device = torch.device(\"cuda\" if torch.cuda.is_available() else \"cpu\")\n",
    "\n",
    "Xtr.to(device), Ytr.to(device)\n",
    "for p in parameters:\n",
    "    p.to(device)"
   ]
  },
  {
   "cell_type": "code",
   "execution_count": 16,
   "id": "85c92dc1-6419-46a4-9395-c6c286ebf6d0",
   "metadata": {},
   "outputs": [
    {
     "name": "stdout",
     "output_type": "stream",
     "text": [
      "      0/ 200000: 26.7832\n",
      "  10000/ 200000: 2.9658\n",
      "  20000/ 200000: 2.2589\n",
      "  30000/ 200000: 2.2723\n",
      "  40000/ 200000: 2.1396\n",
      "  50000/ 200000: 1.7821\n",
      "  60000/ 200000: 2.2356\n",
      "  70000/ 200000: 2.3465\n",
      "  80000/ 200000: 1.9260\n",
      "  90000/ 200000: 1.7438\n",
      " 100000/ 200000: 2.5454\n",
      " 110000/ 200000: 2.1703\n",
      " 120000/ 200000: 2.6916\n",
      " 130000/ 200000: 1.8312\n",
      " 140000/ 200000: 1.8955\n",
      " 150000/ 200000: 2.3153\n",
      " 160000/ 200000: 1.7943\n",
      " 170000/ 200000: 1.9758\n",
      " 180000/ 200000: 2.4061\n",
      " 190000/ 200000: 2.1174\n"
     ]
    }
   ],
   "source": [
    "\n",
    "max_steps = 200000\n",
    "batch_size = 32\n",
    "lossi = []\n",
    "\n",
    "for i in range(max_steps):\n",
    "\n",
    "    #minibatch\n",
    "    ix = torch.randint(0, Xtr.shape[0], (batch_size,))\n",
    "    Xb, Yb = Xtr[ix], Ytr[ix]\n",
    "\n",
    "    emb = C[Xb]\n",
    "    h = torch.tanh(emb.view(-1, block_size * n_embed) @ W1 + b1)\n",
    "    logits = h @ W2 + b2\n",
    "\n",
    "    loss = F.cross_entropy(logits, Yb)\n",
    "    \n",
    "    for p in parameters:\n",
    "        p.grad = None\n",
    "\n",
    "    loss.backward()\n",
    "\n",
    "    lr = 0.1 if i<100000 else 0.01\n",
    "    for p in parameters:\n",
    "        p.data += -lr * p.grad\n",
    "        \n",
    "    # track stats\n",
    "    if i % 10000 == 0: # print every once in a while\n",
    "      print(f'{i:7d}/{max_steps:7d}: {loss.item():.4f}')\n",
    "    lossi.append(loss.log10().item())\n",
    "      \n"
   ]
  },
  {
   "cell_type": "code",
   "execution_count": 18,
   "id": "541a2d95-0541-49d6-b993-03c680cfb6ee",
   "metadata": {},
   "outputs": [
    {
     "data": {
      "text/plain": [
       "[<matplotlib.lines.Line2D at 0x74d272833d10>]"
      ]
     },
     "execution_count": 18,
     "metadata": {},
     "output_type": "execute_result"
    },
    {
     "data": {
      "image/png": "[encoded data removed]",
      "text/plain": [
       "<Figure size 640x480 with 1 Axes>"
      ]
     },
     "metadata": {},
     "output_type": "display_data"
    }
   ],
   "source": [
    "plt.plot(list(range(200000)), lossi)"
   ]
  },
  {
   "cell_type": "markdown",
   "id": "9fe249e4-6bb5-4ebc-9c17-4a233b16f116",
   "metadata": {},
   "source": [
    "### Evaluation"
   ]
  },
  {
   "cell_type": "code",
   "execution_count": 19,
   "id": "6d70178e-ed89-4929-a693-bad38da1925e",
   "metadata": {},
   "outputs": [
    {
     "name": "stdout",
     "output_type": "stream",
     "text": [
      "train 2.1158761978149414\n",
      "dev 2.168163776397705\n"
     ]
    }
   ],
   "source": [
    "@torch.no_grad()\n",
    "def split_loss(split):\n",
    "    x, y = {\n",
    "       \"train\" : (Xtr, Ytr),\n",
    "        \"test\" : (Xte, Yte),\n",
    "        \"dev\": (Xdev, Ydev)\n",
    "    }[split] \n",
    "    emb = C[x]\n",
    "    h = torch.tanh(emb.view(emb.shape[0], -1) @ W1 + b1)\n",
    "    logits = h @ W2 + b2\n",
    "    loss = F.cross_entropy(logits, y)\n",
    "    print(split, loss.item()) \n",
    "\n",
    "split_loss(\"train\")\n",
    "split_loss(\"dev\")"
   ]
  },
  {
   "cell_type": "code",
   "execution_count": 20,
   "id": "238aee8b-80f3-4a21-a8d9-e2885680f20c",
   "metadata": {},
   "outputs": [],
   "source": [
    "torch.cuda.empty_cache() "
   ]
  },
  {
   "cell_type": "markdown",
   "id": "823580fb-a39e-41b0-bbc8-bac4c6d2cbc4",
   "metadata": {},
   "source": [
    "### Sample from the model"
   ]
  },
  {
   "cell_type": "code",
   "execution_count": 30,
   "id": "c7d84476-e24b-41a0-8c21-bd409c1af0a3",
   "metadata": {},
   "outputs": [
    {
     "name": "stdout",
     "output_type": "stream",
     "text": [
      "mona.\n",
      "mayah.\n",
      "seel.\n",
      "nihahaley.\n",
      "thrus.\n",
      "jarlei.\n",
      "aderedielin.\n",
      "emilopaleigh.\n",
      "estanaraelynn.\n",
      "hone.\n"
     ]
    }
   ],
   "source": [
    "g = torch.Generator().manual_seed(2147483647 + 10)\n",
    "\n",
    "for _ in range(10):\n",
    "    out = []\n",
    "    context = [0] * block_size\n",
    "    while True:\n",
    "        emb = C[torch.tensor([context])]\n",
    "        h = torch.tanh(emb.view(1, -1) @ W1 + b1)\n",
    "        logits = h @ W2 + b2\n",
    "        prob = F.softmax(logits, dim=1)\n",
    "\n",
    "        ix = torch.multinomial(prob, num_samples=1, generator = g)\n",
    "        out.append(ix.item())\n",
    "        context = context[1:]+[ix]\n",
    "\n",
    "        if ix==0:\n",
    "            break\n",
    "    print(''.join(itos[i] for i in out))"
   ]
  },
  {
   "cell_type": "markdown",
   "id": "f747ea81-6595-4217-a227-0ca760cbe16f",
   "metadata": {},
   "source": [
    "### First Problem: Initialization"
   ]
  },
  {
   "cell_type": "markdown",
   "id": "1f356e41-738a-4570-8e7f-437889c86282",
   "metadata": {},
   "source": [
    "instead of starting from random distribution, we can start from a specific one because we can predict our loss => because each of the 27 letters has equal probability."
   ]
  },
  {
   "cell_type": "code",
   "execution_count": 31,
   "id": "f8bb8104-b9aa-43d5-ad0d-545030d95b17",
   "metadata": {},
   "outputs": [],
   "source": [
    "probOneLetter = 1/27.0"
   ]
  },
  {
   "cell_type": "code",
   "execution_count": 35,
   "id": "f4a84b99-f3d6-412e-befa-2fd3e44d59c2",
   "metadata": {},
   "outputs": [
    {
     "data": {
      "text/plain": [
       "tensor([3.2958])"
      ]
     },
     "execution_count": 35,
     "metadata": {},
     "output_type": "execute_result"
    }
   ],
   "source": [
    "lossInitial = -torch.tensor([probOneLetter]).log()\n",
    "lossInitial"
   ]
  },
  {
   "cell_type": "markdown",
   "id": "6f99111f-1469-4cf8-84cb-424c7f0957a4",
   "metadata": {},
   "source": [
    "this is much lower than our starting loss"
   ]
  },
  {
   "cell_type": "code",
   "execution_count": 37,
   "id": "7bb67797-3df7-48d6-9cc9-915842f53cc6",
   "metadata": {},
   "outputs": [
    {
     "name": "stdout",
     "output_type": "stream",
     "text": [
      "probs=tensor([0.2500, 0.2500, 0.2500, 0.2500])\n",
      "loss=tensor(1.3863)\n"
     ]
    }
   ],
   "source": [
    "logits = torch.tensor([0.0, 0.0, 0.0, 0.0])\n",
    "probs = F.softmax(logits, dim=0)\n",
    "print(f\"{probs=}\")\n",
    "loss = -probs[2].log()\n",
    "print(f\"{loss=}\")"
   ]
  },
  {
   "cell_type": "code",
   "execution_count": 38,
   "id": "ad3f3d47-d6b5-4699-9fbb-9b0de06f4507",
   "metadata": {},
   "outputs": [
    {
     "name": "stdout",
     "output_type": "stream",
     "text": [
      "probs=tensor([0.0066, 0.0066, 0.9802, 0.0066])\n",
      "loss=tensor(0.0200)\n"
     ]
    }
   ],
   "source": [
    "logits = torch.tensor([0.0, 0.0, 5.0, 0.0])\n",
    "probs = F.softmax(logits, dim=0)\n",
    "print(f\"{probs=}\")\n",
    "loss = -probs[2].log()\n",
    "print(f\"{loss=}\")"
   ]
  },
  {
   "cell_type": "code",
   "execution_count": 39,
   "id": "394ef786-8f02-415d-9d79-2105ebf94d9c",
   "metadata": {},
   "outputs": [
    {
     "name": "stdout",
     "output_type": "stream",
     "text": [
      "probs=tensor([0.0066, 0.9802, 0.0066, 0.0066])\n",
      "loss=tensor(5.0200)\n"
     ]
    }
   ],
   "source": [
    "logits = torch.tensor([0.0, 5.0, 0.0, 0.0])\n",
    "probs = F.softmax(logits, dim=0)\n",
    "print(f\"{probs=}\")\n",
    "loss = -probs[2].log()\n",
    "print(f\"{loss=}\")"
   ]
  },
  {
   "cell_type": "code",
   "execution_count": 40,
   "id": "a9b60802-0b34-4370-9c41-271f0fa867e1",
   "metadata": {},
   "outputs": [
    {
     "name": "stdout",
     "output_type": "stream",
     "text": [
      "probs=tensor([3.1741e-04, 9.4620e-01, 6.3754e-03, 4.7108e-02])\n",
      "loss=tensor(5.0553)\n"
     ]
    }
   ],
   "source": [
    "logits = torch.tensor([-3.0, 5.0, 0.0, 2.0])\n",
    "probs = F.softmax(logits, dim=0)\n",
    "print(f\"{probs=}\")\n",
    "loss = -probs[2].log()\n",
    "print(f\"{loss=}\")"
   ]
  },
  {
   "cell_type": "code",
   "execution_count": 42,
   "id": "7b9c5b82-75d6-4aaf-bf35-7f800af7a2eb",
   "metadata": {},
   "outputs": [
    {
     "name": "stdout",
     "output_type": "stream",
     "text": [
      "probs=tensor([0.6503, 0.0434, 0.1308, 0.1755])\n",
      "loss=tensor(2.0339)\n",
      "logits=tensor([ 0.9438, -1.7630, -0.6597, -0.3661])\n"
     ]
    }
   ],
   "source": [
    "logits = torch.randn(4)\n",
    "probs = F.softmax(logits, dim=0)\n",
    "print(f\"{probs=}\")\n",
    "loss = -probs[2].log()\n",
    "print(f\"{loss=}\")\n",
    "print(f\"{logits=}\")"
   ]
  },
  {
   "cell_type": "markdown",
   "id": "c2e2fd8b-e55b-46d8-a888-24ac4f8c2b45",
   "metadata": {},
   "source": [
    "Extreme values will produce higher loss. May even produce inf"
   ]
  },
  {
   "cell_type": "code",
   "execution_count": 43,
   "id": "950bae72-72cb-4012-a0ec-38e61f9bffbc",
   "metadata": {},
   "outputs": [
    {
     "name": "stdout",
     "output_type": "stream",
     "text": [
      "probs=tensor([4.5005e-12, 2.0077e-13, 3.5192e-03, 9.9648e-01])\n",
      "loss=tensor(5.6495)\n",
      "logits=tensor([-12.1436, -15.2534,   8.3337,  13.9797])\n"
     ]
    }
   ],
   "source": [
    "logits = torch.randn(4) *10\n",
    "probs = F.softmax(logits, dim=0)\n",
    "print(f\"{probs=}\")\n",
    "loss = -probs[2].log()\n",
    "print(f\"{loss=}\")\n",
    "print(f\"{logits=}\")"
   ]
  },
  {
   "cell_type": "code",
   "execution_count": 44,
   "id": "cd27b31c-ecc1-485e-9724-960804ed1fb2",
   "metadata": {},
   "outputs": [
    {
     "name": "stdout",
     "output_type": "stream",
     "text": [
      "probs=tensor([9.9961e-01, 7.5035e-27, 0.0000e+00, 3.9313e-04])\n",
      "loss=tensor(inf)\n",
      "logits=tensor([  94.7214,   34.5674, -194.5307,   86.8804])\n"
     ]
    }
   ],
   "source": [
    "logits = torch.randn(4) *100\n",
    "probs = F.softmax(logits, dim=0)\n",
    "print(f\"{probs=}\")\n",
    "loss = -probs[2].log()\n",
    "print(f\"{loss=}\")\n",
    "print(f\"{logits=}\")"
   ]
  },
  {
   "cell_type": "markdown",
   "id": "906be4a3-9de9-4935-80fc-6c2136414e36",
   "metadata": {},
   "source": [
    "loss will be less if logits are equals or all zeros"
   ]
  },
  {
   "cell_type": "markdown",
   "id": "a589b1bb-6392-4704-8729-b8a1052c478b",
   "metadata": {},
   "source": [
    "#### Rerun the loop"
   ]
  },
  {
   "cell_type": "code",
   "execution_count": 45,
   "id": "b3a8c735-be6c-4926-b953-b7dfbe512143",
   "metadata": {},
   "outputs": [
    {
     "name": "stdout",
     "output_type": "stream",
     "text": [
      "num of parameters: 11897\n"
     ]
    }
   ],
   "source": [
    "g = torch.Generator().manual_seed(2147483647)\n",
    "\n",
    "n_embed = 10\n",
    "n_hidden = 200\n",
    "\n",
    "C = torch.randn((27, n_embed), generator = g) #embedding matrix\n",
    "\n",
    "W1 = torch.randn((n_embed * block_size, n_hidden), generator=g)\n",
    "b1 = torch.randn(n_hidden, generator=g)\n",
    "\n",
    "\n",
    "W2 = torch.randn((n_hidden, vocab_size), generator=g)\n",
    "b2 = torch.randn(vocab_size, generator=g)\n",
    "\n",
    "parameters = [C, W1, W2, b1, b2]\n",
    "\n",
    "for p in parameters:\n",
    "    p.requires_grad = True\n",
    "\n",
    "print(f\"num of parameters: {sum(p.nelement() for p in parameters)}\")"
   ]
  },
  {
   "cell_type": "code",
   "execution_count": 46,
   "id": "a0e299ef-1de6-48f1-9c71-c4fb25bfa1dc",
   "metadata": {},
   "outputs": [
    {
     "name": "stdout",
     "output_type": "stream",
     "text": [
      "      0/ 200000: 24.0617\n"
     ]
    }
   ],
   "source": [
    "max_steps = 200000\n",
    "batch_size = 32\n",
    "lossi = []\n",
    "\n",
    "for i in range(max_steps):\n",
    "\n",
    "    #minibatch\n",
    "    ix = torch.randint(0, Xtr.shape[0], (batch_size,))\n",
    "    Xb, Yb = Xtr[ix], Ytr[ix]\n",
    "\n",
    "    emb = C[Xb]\n",
    "    h = torch.tanh(emb.view(-1, block_size * n_embed) @ W1 + b1)\n",
    "    logits = h @ W2 + b2\n",
    "\n",
    "    loss = F.cross_entropy(logits, Yb)\n",
    "    \n",
    "    for p in parameters:\n",
    "        p.grad = None\n",
    "\n",
    "    loss.backward()\n",
    "\n",
    "    lr = 0.1 if i<100000 else 0.01\n",
    "    for p in parameters:\n",
    "        p.data += -lr * p.grad\n",
    "        \n",
    "    # track stats\n",
    "    if i % 10000 == 0: # print every once in a while\n",
    "      print(f'{i:7d}/{max_steps:7d}: {loss.item():.4f}')\n",
    "    lossi.append(loss.log10().item())\n",
    "    break #we only want initial loss"
   ]
  },
  {
   "cell_type": "markdown",
   "id": "bd79725d-c925-49cf-8d1a-dd8bd4525668",
   "metadata": {},
   "source": [
    "Lets make b2 as 0 and multiply a small number to W2"
   ]
  },
  {
   "cell_type": "code",
   "execution_count": 47,
   "id": "21550817-1db4-4567-872f-f16208bec333",
   "metadata": {},
   "outputs": [
    {
     "name": "stdout",
     "output_type": "stream",
     "text": [
      "num of parameters: 11897\n"
     ]
    }
   ],
   "source": [
    "g = torch.Generator().manual_seed(2147483647)\n",
    "\n",
    "n_embed = 10\n",
    "n_hidden = 200\n",
    "\n",
    "C = torch.randn((27, n_embed), generator = g) #embedding matrix\n",
    "\n",
    "W1 = torch.randn((n_embed * block_size, n_hidden), generator=g)\n",
    "b1 = torch.randn(n_hidden, generator=g)\n",
    "\n",
    "\n",
    "W2 = torch.randn((n_hidden, vocab_size), generator=g) * 0.01\n",
    "b2 = torch.randn(vocab_size, generator=g) * 0\n",
    "\n",
    "parameters = [C, W1, W2, b1, b2]\n",
    "\n",
    "for p in parameters:\n",
    "    p.requires_grad = True\n",
    "\n",
    "print(f\"num of parameters: {sum(p.nelement() for p in parameters)}\")"
   ]
  },
  {
   "cell_type": "code",
   "execution_count": 48,
   "id": "0d2fb782-cfe5-4f04-8d8f-b2e717e2eb9c",
   "metadata": {},
   "outputs": [
    {
     "name": "stdout",
     "output_type": "stream",
     "text": [
      "      0/ 200000: 3.2982\n"
     ]
    }
   ],
   "source": [
    "max_steps = 200000\n",
    "batch_size = 32\n",
    "lossi = []\n",
    "\n",
    "for i in range(max_steps):\n",
    "\n",
    "    #minibatch\n",
    "    ix = torch.randint(0, Xtr.shape[0], (batch_size,))\n",
    "    Xb, Yb = Xtr[ix], Ytr[ix]\n",
    "\n",
    "    emb = C[Xb]\n",
    "    h = torch.tanh(emb.view(-1, block_size * n_embed) @ W1 + b1)\n",
    "    logits = h @ W2 + b2\n",
    "\n",
    "    loss = F.cross_entropy(logits, Yb)\n",
    "    \n",
    "    for p in parameters:\n",
    "        p.grad = None\n",
    "\n",
    "    loss.backward()\n",
    "\n",
    "    lr = 0.1 if i<100000 else 0.01\n",
    "    for p in parameters:\n",
    "        p.data += -lr * p.grad\n",
    "        \n",
    "    # track stats\n",
    "    if i % 10000 == 0: # print every once in a while\n",
    "      print(f'{i:7d}/{max_steps:7d}: {loss.item():.4f}')\n",
    "    lossi.append(loss.log10().item())\n",
    "    break #we only want initial loss"
   ]
  },
  {
   "cell_type": "markdown",
   "id": "4191bfa1-e97b-448b-8bd2-1b52509e185a",
   "metadata": {},
   "source": [
    "Let's keep this setting and run the model"
   ]
  },
  {
   "cell_type": "markdown",
   "id": "337ce781-1740-43b4-8086-c07f308ad40a",
   "metadata": {},
   "source": [
    "#### Rerun the model at new setting"
   ]
  },
  {
   "cell_type": "code",
   "execution_count": 6,
   "id": "85a7587c-66de-4deb-b58c-798a15f105f0",
   "metadata": {},
   "outputs": [
    {
     "name": "stdout",
     "output_type": "stream",
     "text": [
      "num of parameters: 11897\n"
     ]
    }
   ],
   "source": [
    "g = torch.Generator().manual_seed(2147483647)\n",
    "\n",
    "n_embed = 10\n",
    "n_hidden = 200\n",
    "\n",
    "C = torch.randn((27, n_embed), generator = g) #embedding matrix\n",
    "\n",
    "W1 = torch.randn((n_embed * block_size, n_hidden), generator=g)\n",
    "b1 = torch.randn(n_hidden, generator=g)\n",
    "\n",
    "\n",
    "W2 = torch.randn((n_hidden, vocab_size), generator=g) * 0.01\n",
    "b2 = torch.randn(vocab_size, generator=g) * 0\n",
    "\n",
    "parameters = [C, W1, W2, b1, b2]\n",
    "\n",
    "for p in parameters:\n",
    "    p.requires_grad = True\n",
    "\n",
    "print(f\"num of parameters: {sum(p.nelement() for p in parameters)}\")"
   ]
  },
  {
   "cell_type": "code",
   "execution_count": 7,
   "id": "e32c7006-8596-48ed-b255-b2a797b8af03",
   "metadata": {},
   "outputs": [
    {
     "data": {
      "text/plain": [
       "False"
      ]
     },
     "execution_count": 7,
     "metadata": {},
     "output_type": "execute_result"
    }
   ],
   "source": [
    "Xtr.is_cuda"
   ]
  },
  {
   "cell_type": "code",
   "execution_count": 8,
   "id": "4b204df1-c812-4476-b3ce-00c028c17b69",
   "metadata": {},
   "outputs": [],
   "source": [
    "device = torch.device(\"cuda\" if torch.cuda.is_available() else \"cpu\")\n",
    "\n",
    "Xtr.to(device), Ytr.to(device)\n",
    "for p in parameters:\n",
    "    p.to(device)"
   ]
  },
  {
   "cell_type": "code",
   "execution_count": 9,
   "id": "62615078-4fc9-49f4-8ac1-da692db09d61",
   "metadata": {},
   "outputs": [
    {
     "name": "stdout",
     "output_type": "stream",
     "text": [
      "      0/ 200000: 3.2928\n",
      "  10000/ 200000: 2.3158\n",
      "  20000/ 200000: 2.5892\n",
      "  30000/ 200000: 2.2148\n",
      "  40000/ 200000: 1.9304\n",
      "  50000/ 200000: 2.1316\n",
      "  60000/ 200000: 2.4017\n",
      "  70000/ 200000: 2.2869\n",
      "  80000/ 200000: 2.4929\n",
      "  90000/ 200000: 2.2804\n",
      " 100000/ 200000: 1.8168\n",
      " 110000/ 200000: 2.4273\n",
      " 120000/ 200000: 2.2647\n",
      " 130000/ 200000: 2.3374\n",
      " 140000/ 200000: 2.0427\n",
      " 150000/ 200000: 1.6251\n",
      " 160000/ 200000: 2.0266\n",
      " 170000/ 200000: 2.3210\n",
      " 180000/ 200000: 2.1497\n",
      " 190000/ 200000: 2.2820\n"
     ]
    }
   ],
   "source": [
    "max_steps = 200000\n",
    "batch_size = 32\n",
    "lossi = []\n",
    "\n",
    "for i in range(max_steps):\n",
    "\n",
    "    #minibatch\n",
    "    ix = torch.randint(0, Xtr.shape[0], (batch_size,))\n",
    "    Xb, Yb = Xtr[ix], Ytr[ix]\n",
    "\n",
    "    emb = C[Xb]\n",
    "    h = torch.tanh(emb.view(-1, block_size * n_embed) @ W1 + b1)\n",
    "    logits = h @ W2 + b2\n",
    "\n",
    "    loss = F.cross_entropy(logits, Yb)\n",
    "    \n",
    "    for p in parameters:\n",
    "        p.grad = None\n",
    "\n",
    "    loss.backward()\n",
    "\n",
    "    lr = 0.1 if i<100000 else 0.01\n",
    "    for p in parameters:\n",
    "        p.data += -lr * p.grad\n",
    "        \n",
    "    # track stats\n",
    "    if i % 10000 == 0: # print every once in a while\n",
    "      print(f'{i:7d}/{max_steps:7d}: {loss.item():.4f}')\n",
    "    lossi.append(loss.log10().item())"
   ]
  },
  {
   "cell_type": "code",
   "execution_count": 10,
   "id": "504e1290-9761-491a-b977-447c7f4cce01",
   "metadata": {},
   "outputs": [
    {
     "name": "stdout",
     "output_type": "stream",
     "text": [
      "train 2.068723201751709\n",
      "dev 2.12954044342041\n"
     ]
    }
   ],
   "source": [
    "@torch.no_grad()\n",
    "def split_loss(split):\n",
    "    x, y = {\n",
    "       \"train\" : (Xtr, Ytr),\n",
    "        \"test\" : (Xte, Yte),\n",
    "        \"dev\": (Xdev, Ydev)\n",
    "    }[split] \n",
    "    emb = C[x]\n",
    "    h = torch.tanh(emb.view(emb.shape[0], -1) @ W1 + b1)\n",
    "    logits = h @ W2 + b2\n",
    "    loss = F.cross_entropy(logits, y)\n",
    "    print(split, loss.item()) \n",
    "\n",
    "split_loss(\"train\")\n",
    "split_loss(\"dev\")"
   ]
  },
  {
   "cell_type": "code",
   "execution_count": 11,
   "id": "e14d8e96-9bba-4baa-a40c-87117b34704d",
   "metadata": {},
   "outputs": [],
   "source": [
    "torch.cuda.empty_cache() "
   ]
  },
  {
   "cell_type": "markdown",
   "id": "07626fd1-ad6f-49a3-ae40-b1fbcb2a7f93",
   "metadata": {},
   "source": [
    "This result is much better than the previous 2.17 dev loss. Reason is we are spending more time to train the nn rather than to squash down the weights that were previously random."
   ]
  },
  {
   "cell_type": "markdown",
   "id": "ac18d235-c3d6-4f96-b2a4-e04f42b060ba",
   "metadata": {},
   "source": [
    "### 2nd Problem: Issue with h"
   ]
  },
  {
   "cell_type": "code",
   "execution_count": 12,
   "id": "9043f280-caae-4bf1-be6b-3ee754123aff",
   "metadata": {},
   "outputs": [
    {
     "name": "stdout",
     "output_type": "stream",
     "text": [
      "num of parameters: 11897\n"
     ]
    }
   ],
   "source": [
    "g = torch.Generator().manual_seed(2147483647)\n",
    "\n",
    "n_embed = 10\n",
    "n_hidden = 200\n",
    "\n",
    "C = torch.randn((27, n_embed), generator = g) #embedding matrix\n",
    "\n",
    "W1 = torch.randn((n_embed * block_size, n_hidden), generator=g)\n",
    "b1 = torch.randn(n_hidden, generator=g)\n",
    "\n",
    "\n",
    "W2 = torch.randn((n_hidden, vocab_size), generator=g) * 0.01\n",
    "b2 = torch.randn(vocab_size, generator=g) * 0\n",
    "\n",
    "parameters = [C, W1, W2, b1, b2]\n",
    "\n",
    "for p in parameters:\n",
    "    p.requires_grad = True\n",
    "\n",
    "print(f\"num of parameters: {sum(p.nelement() for p in parameters)}\")"
   ]
  },
  {
   "cell_type": "code",
   "execution_count": 13,
   "id": "ca88446e-fbfd-494d-b7f3-78c1a595b167",
   "metadata": {},
   "outputs": [
    {
     "name": "stdout",
     "output_type": "stream",
     "text": [
      "      0/ 200000: 3.3167\n"
     ]
    }
   ],
   "source": [
    "max_steps = 200000\n",
    "batch_size = 32\n",
    "lossi = []\n",
    "\n",
    "for i in range(max_steps):\n",
    "\n",
    "    #minibatch\n",
    "    ix = torch.randint(0, Xtr.shape[0], (batch_size,))\n",
    "    Xb, Yb = Xtr[ix], Ytr[ix]\n",
    "\n",
    "    emb = C[Xb]\n",
    "    h = torch.tanh(emb.view(-1, block_size * n_embed) @ W1 + b1)\n",
    "    logits = h @ W2 + b2\n",
    "\n",
    "    loss = F.cross_entropy(logits, Yb)\n",
    "    \n",
    "    for p in parameters:\n",
    "        p.grad = None\n",
    "\n",
    "    loss.backward()\n",
    "\n",
    "    lr = 0.1 if i<100000 else 0.01\n",
    "    for p in parameters:\n",
    "        p.data += -lr * p.grad\n",
    "        \n",
    "    # track stats\n",
    "    if i % 10000 == 0: # print every once in a while\n",
    "      print(f'{i:7d}/{max_steps:7d}: {loss.item():.4f}')\n",
    "    lossi.append(loss.log10().item())\n",
    "    break"
   ]
  },
  {
   "cell_type": "code",
   "execution_count": 14,
   "id": "2cdb7122-a4b4-42c6-a578-5accfb02f632",
   "metadata": {},
   "outputs": [
    {
     "data": {
      "text/plain": [
       "tensor([[-1.0000,  0.9604, -0.1418,  ..., -0.1266,  1.0000,  1.0000],\n",
       "        [-1.0000,  0.9604, -0.1418,  ..., -0.1266,  1.0000,  1.0000],\n",
       "        [-1.0000,  0.9604, -0.1418,  ..., -0.1266,  1.0000,  1.0000],\n",
       "        ...,\n",
       "        [ 0.9877, -0.9999,  0.9916,  ...,  0.9767, -1.0000, -0.9991],\n",
       "        [ 1.0000, -1.0000,  0.9950,  ...,  0.9999, -1.0000, -1.0000],\n",
       "        [-0.7953, -0.1111,  0.9982,  ..., -1.0000,  0.9273,  1.0000]],\n",
       "       grad_fn=<TanhBackward0>)"
      ]
     },
     "execution_count": 14,
     "metadata": {},
     "output_type": "execute_result"
    }
   ],
   "source": [
    "h"
   ]
  },
  {
   "cell_type": "markdown",
   "id": "37024705-0888-4b0f-b1cc-de1cd90fb234",
   "metadata": {},
   "source": [
    "h has a lots of 1 and -1"
   ]
  },
  {
   "cell_type": "code",
   "execution_count": 15,
   "id": "5ea64271-dba2-431a-93a7-ae585c2f42d2",
   "metadata": {},
   "outputs": [
    {
     "data": {
      "text/plain": [
       "torch.Size([6400])"
      ]
     },
     "execution_count": 15,
     "metadata": {},
     "output_type": "execute_result"
    }
   ],
   "source": [
    "h.view(-1).shape"
   ]
  },
  {
   "cell_type": "code",
   "execution_count": 18,
   "id": "b3681a64-9e51-46f4-8eda-4502072633e2",
   "metadata": {},
   "outputs": [
    {
     "data": {
      "image/png": "[encoded data removed]",
      "text/plain": [
       "<Figure size 640x480 with 1 Axes>"
      ]
     },
     "metadata": {},
     "output_type": "display_data"
    }
   ],
   "source": [
    "plt.hist(h.view(-1).tolist(), 50);"
   ]
  },
  {
   "cell_type": "markdown",
   "id": "81578702-b1c8-4de1-9f00-6dacfb3cb227",
   "metadata": {},
   "source": [
    "check the pre activations"
   ]
  },
  {
   "cell_type": "code",
   "execution_count": 20,
   "id": "91d252eb-8e61-495f-91b4-1282bb1945b7",
   "metadata": {},
   "outputs": [
    {
     "data": {
      "text/plain": [
       "(array([  1.,   1.,   0.,   3.,   4.,   3.,   0.,  14.,   8.,  21.,  20.,\n",
       "         32.,  68.,  66.,  80., 131., 186., 196., 253., 238., 316., 322.,\n",
       "        377., 399., 396., 415., 422., 369., 383., 350., 268., 249., 171.,\n",
       "        135., 159.,  96.,  82.,  50.,  38.,  22.,  21.,  11.,  10.,   8.,\n",
       "          2.,   1.,   1.,   0.,   1.,   1.]),\n",
       " array([-21.45806694, -20.58893295, -19.71979897, -18.85066498,\n",
       "        -17.98153099, -17.112397  , -16.24326302, -15.37412903,\n",
       "        -14.50499504, -13.63586105, -12.76672707, -11.89759308,\n",
       "        -11.02845909, -10.1593251 ,  -9.29019112,  -8.42105713,\n",
       "         -7.55192314,  -6.68278915,  -5.81365517,  -4.94452118,\n",
       "         -4.07538719,  -3.2062532 ,  -2.33711922,  -1.46798523,\n",
       "         -0.59885124,   0.27028275,   1.13941673,   2.00855072,\n",
       "          2.87768471,   3.7468187 ,   4.61595268,   5.48508667,\n",
       "          6.35422066,   7.22335464,   8.09248863,   8.96162262,\n",
       "          9.83075661,  10.69989059,  11.56902458,  12.43815857,\n",
       "         13.30729256,  14.17642654,  15.04556053,  15.91469452,\n",
       "         16.78382851,  17.65296249,  18.52209648,  19.39123047,\n",
       "         20.26036446,  21.12949844,  21.99863243]),\n",
       " <BarContainer object of 50 artists>)"
      ]
     },
     "execution_count": 20,
     "metadata": {},
     "output_type": "execute_result"
    },
    {
     "data": {
      "image/png": "[encoded data removed]",
      "text/plain": [
       "<Figure size 640x480 with 1 Axes>"
      ]
     },
     "metadata": {},
     "output_type": "display_data"
    }
   ],
   "source": [
    "hpreact = emb.view(-1, block_size * n_embed) @ W1 + b1\n",
    "plt.hist(hpreact.view(-1).tolist(), 50)"
   ]
  },
  {
   "cell_type": "markdown",
   "id": "ee2fd498-042f-411f-aa69-26c1c3713016",
   "metadata": {},
   "source": [
    "if the points are near the flat region of tanh, the gradient will be 0 (derivative (1-tanh**2) and tanh is mostly 1,-1). "
   ]
  },
  {
   "cell_type": "code",
   "execution_count": 21,
   "id": "a121da31-ea31-49c4-9a69-76c2dab6d109",
   "metadata": {},
   "outputs": [
    {
     "data": {
      "text/plain": [
       "<matplotlib.image.AxesImage at 0x75a1f3f08f50>"
      ]
     },
     "execution_count": 21,
     "metadata": {},
     "output_type": "execute_result"
    },
    {
     "data": {
      "image/png": "[encoded data removed]",
      "text/plain": [
       "<Figure size 2000x1000 with 1 Axes>"
      ]
     },
     "metadata": {},
     "output_type": "display_data"
    }
   ],
   "source": [
    "plt.figure(figsize=(20,10))\n",
    "plt.imshow(h.abs()>0.99, cmap=\"gray\", interpolation=\"nearest\")"
   ]
  },
  {
   "cell_type": "markdown",
   "id": "571a75f6-6996-42a6-b3b7-3cd2cf608599",
   "metadata": {},
   "source": [
    "y axis corresponds to 200 hidden layers. Most white (ie value 1) means most are on the flat region of tanh. But there is no white vertical line. If there were a vertical line it would represent a dead neuron ie the neuron wheren grad is always 0.\n"
   ]
  },
  {
   "cell_type": "markdown",
   "id": "0c8adcf3-34c9-4ad4-b2d9-132a0c147365",
   "metadata": {},
   "source": [
    "hpreact is causing the issue because it is very far off from zero. It needs to be brought closer to zero. let's multiply W1 by 0.1"
   ]
  },
  {
   "cell_type": "code",
   "execution_count": 22,
   "id": "b44af31c-21f7-4674-a08f-c2777a146692",
   "metadata": {},
   "outputs": [
    {
     "name": "stdout",
     "output_type": "stream",
     "text": [
      "num of parameters: 11897\n"
     ]
    }
   ],
   "source": [
    "g = torch.Generator().manual_seed(2147483647)\n",
    "\n",
    "n_embed = 10\n",
    "n_hidden = 200\n",
    "\n",
    "C = torch.randn((27, n_embed), generator = g) #embedding matrix\n",
    "\n",
    "W1 = torch.randn((n_embed * block_size, n_hidden), generator=g) * 0.1\n",
    "b1 = torch.randn(n_hidden, generator=g) * 0.01\n",
    "\n",
    "\n",
    "W2 = torch.randn((n_hidden, vocab_size), generator=g) * 0.01\n",
    "b2 = torch.randn(vocab_size, generator=g) * 0\n",
    "\n",
    "parameters = [C, W1, W2, b1, b2]\n",
    "\n",
    "for p in parameters:\n",
    "    p.requires_grad = True\n",
    "\n",
    "print(f\"num of parameters: {sum(p.nelement() for p in parameters)}\")"
   ]
  },
  {
   "cell_type": "code",
   "execution_count": 23,
   "id": "5817a88d-e26c-4940-9e3c-9d7cbce337c1",
   "metadata": {},
   "outputs": [
    {
     "name": "stdout",
     "output_type": "stream",
     "text": [
      "      0/ 200000: 3.3136\n"
     ]
    }
   ],
   "source": [
    "max_steps = 200000\n",
    "batch_size = 32\n",
    "lossi = []\n",
    "\n",
    "for i in range(max_steps):\n",
    "\n",
    "    #minibatch\n",
    "    ix = torch.randint(0, Xtr.shape[0], (batch_size,))\n",
    "    Xb, Yb = Xtr[ix], Ytr[ix]\n",
    "\n",
    "    emb = C[Xb]\n",
    "    h = torch.tanh(emb.view(-1, block_size * n_embed) @ W1 + b1)\n",
    "    logits = h @ W2 + b2\n",
    "\n",
    "    loss = F.cross_entropy(logits, Yb)\n",
    "    \n",
    "    for p in parameters:\n",
    "        p.grad = None\n",
    "\n",
    "    loss.backward()\n",
    "\n",
    "    lr = 0.1 if i<100000 else 0.01\n",
    "    for p in parameters:\n",
    "        p.data += -lr * p.grad\n",
    "        \n",
    "    # track stats\n",
    "    if i % 10000 == 0: # print every once in a while\n",
    "      print(f'{i:7d}/{max_steps:7d}: {loss.item():.4f}')\n",
    "    lossi.append(loss.log10().item())\n",
    "    break"
   ]
  },
  {
   "cell_type": "code",
   "execution_count": 26,
   "id": "c0f2c346-8dbe-4326-9038-baa762dee865",
   "metadata": {},
   "outputs": [
    {
     "data": {
      "image/png": "[encoded data removed]",
      "text/plain": [
       "<Figure size 640x480 with 1 Axes>"
      ]
     },
     "metadata": {},
     "output_type": "display_data"
    }
   ],
   "source": [
    "\n",
    "plt.hist(h.view(-1).tolist(), 50);"
   ]
  },
  {
   "cell_type": "code",
   "execution_count": 24,
   "id": "327eb9f0-dcd0-494e-9716-3781609d7ff5",
   "metadata": {},
   "outputs": [
    {
     "data": {
      "text/plain": [
       "(array([  2.,   2.,   2.,   1.,   5.,   6.,  12.,  13.,  24.,  31.,  52.,\n",
       "         58.,  64., 114., 123., 173., 213., 277., 244., 319., 371., 371.,\n",
       "        413., 385., 390., 378., 359., 338., 262., 268., 266., 173., 185.,\n",
       "        127.,  90.,  94.,  57.,  44.,  31.,  11.,   9.,  11.,   5.,   4.,\n",
       "         12.,   3.,   3.,   2.,   1.,   2.]),\n",
       " array([-1.91677749, -1.83571437, -1.75465125, -1.67358813, -1.59252501,\n",
       "        -1.51146189, -1.43039877, -1.34933565, -1.26827253, -1.18720941,\n",
       "        -1.10614629, -1.02508317, -0.94402005, -0.86295693, -0.78189381,\n",
       "        -0.70083069, -0.61976757, -0.53870445, -0.45764132, -0.3765782 ,\n",
       "        -0.29551508, -0.21445196, -0.13338884, -0.05232572,  0.0287374 ,\n",
       "         0.10980052,  0.19086364,  0.27192676,  0.35298988,  0.434053  ,\n",
       "         0.51511612,  0.59617924,  0.67724236,  0.75830548,  0.8393686 ,\n",
       "         0.92043172,  1.00149484,  1.08255796,  1.16362108,  1.2446842 ,\n",
       "         1.32574732,  1.40681044,  1.48787356,  1.56893668,  1.6499998 ,\n",
       "         1.73106292,  1.81212605,  1.89318917,  1.97425229,  2.05531541,\n",
       "         2.13637853]),\n",
       " <BarContainer object of 50 artists>)"
      ]
     },
     "execution_count": 24,
     "metadata": {},
     "output_type": "execute_result"
    },
    {
     "data": {
      "image/png": "[encoded data removed]",
      "text/plain": [
       "<Figure size 640x480 with 1 Axes>"
      ]
     },
     "metadata": {},
     "output_type": "display_data"
    }
   ],
   "source": [
    "hpreact = emb.view(-1, block_size * n_embed) @ W1 + b1\n",
    "plt.hist(hpreact.view(-1).tolist(), 50)"
   ]
  },
  {
   "cell_type": "code",
   "execution_count": 25,
   "id": "948375c7-8397-42b9-8278-38107725439e",
   "metadata": {},
   "outputs": [
    {
     "data": {
      "text/plain": [
       "<matplotlib.image.AxesImage at 0x75a1f806b490>"
      ]
     },
     "execution_count": 25,
     "metadata": {},
     "output_type": "execute_result"
    },
    {
     "data": {
      "image/png": "[encoded data removed]",
      "text/plain": [
       "<Figure size 2000x1000 with 1 Axes>"
      ]
     },
     "metadata": {},
     "output_type": "display_data"
    }
   ],
   "source": [
    "plt.figure(figsize=(20,10))\n",
    "plt.imshow(h.abs()>0.99, cmap=\"gray\", interpolation=\"nearest\")"
   ]
  },
  {
   "cell_type": "markdown",
   "id": "5af69fe2-736d-44ea-b12b-2c07c18744b9",
   "metadata": {},
   "source": [
    "no neurons saturated at -1,1.\n",
    "but might be better if W1 is multiplied with 0.2 rather than with 0.1"
   ]
  },
  {
   "cell_type": "code",
   "execution_count": 27,
   "id": "3b1a05b9-b413-4727-b502-e408fcdd9229",
   "metadata": {},
   "outputs": [
    {
     "name": "stdout",
     "output_type": "stream",
     "text": [
      "num of parameters: 11897\n"
     ]
    }
   ],
   "source": [
    "g = torch.Generator().manual_seed(2147483647)\n",
    "\n",
    "n_embed = 10\n",
    "n_hidden = 200\n",
    "\n",
    "C = torch.randn((27, n_embed), generator = g) #embedding matrix\n",
    "\n",
    "W1 = torch.randn((n_embed * block_size, n_hidden), generator=g) * 0.2\n",
    "b1 = torch.randn(n_hidden, generator=g) * 0.01\n",
    "\n",
    "\n",
    "W2 = torch.randn((n_hidden, vocab_size), generator=g) * 0.01\n",
    "b2 = torch.randn(vocab_size, generator=g) * 0\n",
    "\n",
    "parameters = [C, W1, W2, b1, b2]\n",
    "\n",
    "for p in parameters:\n",
    "    p.requires_grad = True\n",
    "\n",
    "print(f\"num of parameters: {sum(p.nelement() for p in parameters)}\")"
   ]
  },
  {
   "cell_type": "code",
   "execution_count": 29,
   "id": "c9dc940c-3dd9-4640-9de6-f692108bcea4",
   "metadata": {},
   "outputs": [
    {
     "name": "stdout",
     "output_type": "stream",
     "text": [
      "      0/ 200000: 3.3026\n"
     ]
    }
   ],
   "source": [
    "max_steps = 200000\n",
    "batch_size = 32\n",
    "lossi = []\n",
    "\n",
    "for i in range(max_steps):\n",
    "\n",
    "    #minibatch\n",
    "    ix = torch.randint(0, Xtr.shape[0], (batch_size,))\n",
    "    Xb, Yb = Xtr[ix], Ytr[ix]\n",
    "\n",
    "    emb = C[Xb]\n",
    "    h = torch.tanh(emb.view(-1, block_size * n_embed) @ W1 + b1)\n",
    "    logits = h @ W2 + b2\n",
    "\n",
    "    loss = F.cross_entropy(logits, Yb)\n",
    "    \n",
    "    for p in parameters:\n",
    "        p.grad = None\n",
    "\n",
    "    loss.backward()\n",
    "\n",
    "    lr = 0.1 if i<100000 else 0.01\n",
    "    for p in parameters:\n",
    "        p.data += -lr * p.grad\n",
    "        \n",
    "    # track stats\n",
    "    if i % 10000 == 0: # print every once in a while\n",
    "      print(f'{i:7d}/{max_steps:7d}: {loss.item():.4f}')\n",
    "    lossi.append(loss.log10().item())\n",
    "    break"
   ]
  },
  {
   "cell_type": "code",
   "execution_count": 30,
   "id": "0d82f3e0-aea0-47e4-b25b-09a8ff886ad4",
   "metadata": {},
   "outputs": [
    {
     "data": {
      "text/plain": [
       "<matplotlib.image.AxesImage at 0x75a1f80d77d0>"
      ]
     },
     "execution_count": 30,
     "metadata": {},
     "output_type": "execute_result"
    },
    {
     "data": {
      "image/png": "[encoded data removed]",
      "text/plain": [
       "<Figure size 2000x1000 with 1 Axes>"
      ]
     },
     "metadata": {},
     "output_type": "display_data"
    }
   ],
   "source": [
    "\n",
    "plt.figure(figsize=(20,10))\n",
    "plt.imshow(h.abs()>0.99, cmap=\"gray\", interpolation=\"nearest\")"
   ]
  },
  {
   "cell_type": "markdown",
   "id": "fd5d6d0c-4366-4563-8438-4e7ead6a7953",
   "metadata": {},
   "source": [
    "Run the full optimization"
   ]
  },
  {
   "cell_type": "code",
   "execution_count": 33,
   "id": "b7db5256-166e-4f1f-8b9b-9d52fbfd768a",
   "metadata": {},
   "outputs": [],
   "source": [
    "device = torch.device(\"cuda\" if torch.cuda.is_available() else \"cpu\")\n",
    "\n",
    "Xtr.to(device), Ytr.to(device)\n",
    "for p in parameters:\n",
    "    p.to(device)"
   ]
  },
  {
   "cell_type": "code",
   "execution_count": 34,
   "id": "2b041601-58ea-4d6b-943f-e779e3987e5c",
   "metadata": {},
   "outputs": [
    {
     "name": "stdout",
     "output_type": "stream",
     "text": [
      "      0/ 200000: 3.2081\n",
      "  10000/ 200000: 2.2939\n",
      "  20000/ 200000: 2.6292\n",
      "  30000/ 200000: 1.5742\n",
      "  40000/ 200000: 2.3389\n",
      "  50000/ 200000: 2.1643\n",
      "  60000/ 200000: 2.6583\n",
      "  70000/ 200000: 2.2245\n",
      "  80000/ 200000: 1.6620\n",
      "  90000/ 200000: 1.9746\n",
      " 100000/ 200000: 1.9621\n",
      " 110000/ 200000: 2.2002\n",
      " 120000/ 200000: 1.6428\n",
      " 130000/ 200000: 2.2990\n",
      " 140000/ 200000: 2.0787\n",
      " 150000/ 200000: 2.0834\n",
      " 160000/ 200000: 1.9017\n",
      " 170000/ 200000: 1.8190\n",
      " 180000/ 200000: 2.1743\n",
      " 190000/ 200000: 2.0982\n"
     ]
    }
   ],
   "source": [
    "max_steps = 200000\n",
    "batch_size = 32\n",
    "lossi = []\n",
    "\n",
    "for i in range(max_steps):\n",
    "\n",
    "    #minibatch\n",
    "    ix = torch.randint(0, Xtr.shape[0], (batch_size,))\n",
    "    Xb, Yb = Xtr[ix], Ytr[ix]\n",
    "\n",
    "    emb = C[Xb]\n",
    "    h = torch.tanh(emb.view(-1, block_size * n_embed) @ W1 + b1)\n",
    "    logits = h @ W2 + b2\n",
    "\n",
    "    loss = F.cross_entropy(logits, Yb)\n",
    "    \n",
    "    for p in parameters:\n",
    "        p.grad = None\n",
    "\n",
    "    loss.backward()\n",
    "\n",
    "    lr = 0.1 if i<100000 else 0.01\n",
    "    for p in parameters:\n",
    "        p.data += -lr * p.grad\n",
    "        \n",
    "    # track stats\n",
    "    if i % 10000 == 0: # print every once in a while\n",
    "      print(f'{i:7d}/{max_steps:7d}: {loss.item():.4f}')\n",
    "    lossi.append(loss.log10().item())"
   ]
  },
  {
   "cell_type": "code",
   "execution_count": 35,
   "id": "594f051f-2285-4fcf-ad1a-4bfe92bbfb7e",
   "metadata": {},
   "outputs": [
    {
     "name": "stdout",
     "output_type": "stream",
     "text": [
      "train 2.038377046585083\n",
      "dev 2.1042044162750244\n"
     ]
    }
   ],
   "source": [
    "@torch.no_grad()\n",
    "def split_loss(split):\n",
    "    x, y = {\n",
    "       \"train\" : (Xtr, Ytr),\n",
    "        \"test\" : (Xte, Yte),\n",
    "        \"dev\": (Xdev, Ydev)\n",
    "    }[split] \n",
    "    emb = C[x]\n",
    "    h = torch.tanh(emb.view(emb.shape[0], -1) @ W1 + b1)\n",
    "    logits = h @ W2 + b2\n",
    "    loss = F.cross_entropy(logits, y)\n",
    "    print(split, loss.item()) \n",
    "\n",
    "split_loss(\"train\")\n",
    "split_loss(\"dev\")"
   ]
  },
  {
   "cell_type": "markdown",
   "id": "c159fc8a-acae-4261-98c8-fdb00ba1f9a1",
   "metadata": {},
   "source": [
    "### Defining init scale: kaiming init"
   ]
  },
  {
   "cell_type": "code",
   "execution_count": 41,
   "id": "921e302c-a3b3-4723-9251-ecf3f055c2a2",
   "metadata": {},
   "outputs": [
    {
     "name": "stdout",
     "output_type": "stream",
     "text": [
      "tensor(0.0022) tensor(1.0028)\n",
      "tensor(-0.0011) tensor(3.1763)\n"
     ]
    },
    {
     "data": {
      "image/png": "[encoded data removed]",
      "text/plain": [
       "<Figure size 2000x500 with 2 Axes>"
      ]
     },
     "metadata": {},
     "output_type": "display_data"
    }
   ],
   "source": [
    "x = torch.randn(1000, 10)\n",
    "w = torch.randn(10, 200)\n",
    "\n",
    "y = x @ w\n",
    "print(x.mean(), x.std())\n",
    "print(y.mean(), y.std())\n",
    "\n",
    "plt.figure(figsize=(20,5))\n",
    "plt.subplot(121)\n",
    "plt.hist(x.view(-1).tolist(), bins=50, density=True);\n",
    "\n",
    "\n",
    "plt.subplot(122)\n",
    "plt.hist(y.view(-1).tolist(), bins=50, density=True);"
   ]
  },
  {
   "cell_type": "markdown",
   "id": "ff036826-e0ca-4907-8b8a-cb8d6f160dd9",
   "metadata": {},
   "source": [
    "ideal would be to keep the std of both to 1. so we need to multiply x distribution with a small number."
   ]
  },
  {
   "cell_type": "code",
   "execution_count": 42,
   "id": "cf71433a-004b-4432-b81c-ec191725c4e5",
   "metadata": {},
   "outputs": [
    {
     "name": "stdout",
     "output_type": "stream",
     "text": [
      "tensor(-0.0062) tensor(0.9905)\n",
      "tensor(0.0004) tensor(0.3206)\n"
     ]
    },
    {
     "data": {
      "image/png": "[encoded data removed]",
      "text/plain": [
       "<Figure size 2000x500 with 2 Axes>"
      ]
     },
     "metadata": {},
     "output_type": "display_data"
    }
   ],
   "source": [
    "x = torch.randn(1000, 10)\n",
    "w = torch.randn(10, 200) * 0.1\n",
    "\n",
    "y = x @ w\n",
    "print(x.mean(), x.std())\n",
    "print(y.mean(), y.std())\n",
    "\n",
    "plt.figure(figsize=(20,5))\n",
    "plt.subplot(121)\n",
    "plt.hist(x.view(-1).tolist(), bins=50, density=True);\n",
    "\n",
    "\n",
    "plt.subplot(122)\n",
    "plt.hist(y.view(-1).tolist(), bins=50, density=True);"
   ]
  },
  {
   "cell_type": "markdown",
   "id": "6b342e88-cc15-4178-98da-9d15e0a3af36",
   "metadata": {},
   "source": [
    "https://math.stackexchange.com/questions/3170393/standard-deviation-of-product-of-two-gaussian-distribution\n",
    "\n",
    "to normalize the gaussian which is a product of two other gaussians"
   ]
  },
  {
   "cell_type": "code",
   "execution_count": 45,
   "id": "850c8f0b-466a-4131-803d-9a0f7e405483",
   "metadata": {},
   "outputs": [
    {
     "name": "stdout",
     "output_type": "stream",
     "text": [
      "tensor(0.0007) tensor(0.9938)\n",
      "tensor(0.0007) tensor(1.0012)\n"
     ]
    },
    {
     "data": {
      "image/png": "[encoded data removed]",
      "text/plain": [
       "<Figure size 2000x500 with 2 Axes>"
      ]
     },
     "metadata": {},
     "output_type": "display_data"
    }
   ],
   "source": [
    "x = torch.randn(1000, 10)\n",
    "w = torch.randn(10, 200) * 10**(-0.5)\n",
    "\n",
    "y = x @w\n",
    "print(x.mean(), x.std())\n",
    "print(y.mean(), y.std())\n",
    "\n",
    "plt.figure(figsize=(20,5))\n",
    "plt.subplot(121)\n",
    "plt.hist(x.view(-1).tolist(), bins=50, density=True);\n",
    "\n",
    "\n",
    "plt.subplot(122)\n",
    "plt.hist(y.view(-1).tolist(), bins=50, density=True);"
   ]
  },
  {
   "cell_type": "markdown",
   "id": "d141ccfd-512f-43ae-8ddb-24ab4608068d",
   "metadata": {},
   "source": [
    "https://pytorch.org/docs/stable/nn.init.html#torch.nn.init.kaiming_normal_\n",
    "\n",
    "A factor need to be multiplied to gaussian weights of the nn which is gain/sqrt(fan in). for tanh, gain = 5/3"
   ]
  },
  {
   "cell_type": "code",
   "execution_count": 13,
   "id": "d7667478-47fe-4957-8ec7-78a7256afa1f",
   "metadata": {},
   "outputs": [
    {
     "name": "stdout",
     "output_type": "stream",
     "text": [
      "num of parameters: 11897\n"
     ]
    }
   ],
   "source": [
    "g = torch.Generator().manual_seed(2147483647)\n",
    "\n",
    "n_embed = 10\n",
    "n_hidden = 200\n",
    "\n",
    "C = torch.randn((27, n_embed), generator = g) #embedding matrix\n",
    "\n",
    "W1 = torch.randn((n_embed * block_size, n_hidden), generator=g) * (5/3) / (n_embed * block_size)**0.5\n",
    "b1 = torch.randn(n_hidden, generator=g) * 0.01\n",
    "\n",
    "\n",
    "W2 = torch.randn((n_hidden, vocab_size), generator=g) * 0.01\n",
    "b2 = torch.randn(vocab_size, generator=g) * 0\n",
    "\n",
    "parameters = [C, W1, W2, b1, b2]\n",
    "\n",
    "for p in parameters:\n",
    "    p.requires_grad = True\n",
    "\n",
    "print(f\"num of parameters: {sum(p.nelement() for p in parameters)}\")"
   ]
  },
  {
   "cell_type": "code",
   "execution_count": 15,
   "id": "0d576b31-3c26-4cfb-899c-34d69fe83a89",
   "metadata": {},
   "outputs": [],
   "source": [
    "device = torch.device(\"cuda\" if torch.cuda.is_available() else \"cpu\")\n",
    "device=\"cpu\"\n",
    "Xtr = Xtr.to(device)\n",
    "Ytr= Ytr.to(device)\n",
    "# for p in parameters:\n",
    "#     p = p.to(device)\n",
    "C = C.to(device)\n",
    "\n",
    "W1 = W1.to(device)\n",
    "W2 = W2.to(device)\n",
    "\n",
    "b1 = b1.to(device)\n",
    "b2 = b2.to(device)"
   ]
  },
  {
   "cell_type": "code",
   "execution_count": 16,
   "id": "5429930a-e10b-4b53-a171-691b58a2c7bb",
   "metadata": {
    "scrolled": true
   },
   "outputs": [
    {
     "name": "stdout",
     "output_type": "stream",
     "text": [
      "      0/ 200000: 3.3279\n",
      "  10000/ 200000: 1.9742\n",
      "  20000/ 200000: 1.9860\n",
      "  30000/ 200000: 1.9473\n",
      "  40000/ 200000: 2.0718\n",
      "  50000/ 200000: 1.9087\n",
      "  60000/ 200000: 2.1487\n",
      "  70000/ 200000: 1.8424\n",
      "  80000/ 200000: 2.3512\n",
      "  90000/ 200000: 2.3963\n",
      " 100000/ 200000: 1.7392\n",
      " 110000/ 200000: 2.0752\n",
      " 120000/ 200000: 2.2780\n",
      " 130000/ 200000: 2.2498\n",
      " 140000/ 200000: 2.2646\n",
      " 150000/ 200000: 2.0655\n",
      " 160000/ 200000: 2.3440\n",
      " 170000/ 200000: 2.0081\n",
      " 180000/ 200000: 2.1473\n",
      " 190000/ 200000: 2.2576\n",
      "CPU times: user 8min 56s, sys: 3.51 s, total: 8min 59s\n",
      "Wall time: 1min 35s\n"
     ]
    }
   ],
   "source": [
    "%%time\n",
    "max_steps = 200000\n",
    "batch_size = 32\n",
    "lossi = []\n",
    "\n",
    "for i in range(max_steps):\n",
    "\n",
    "    #minibatch\n",
    "    ix = torch.randint(0, Xtr.shape[0], (batch_size,))\n",
    "    Xb, Yb = Xtr[ix], Ytr[ix]\n",
    "\n",
    "    emb = C[Xb]\n",
    "    embact = emb.view(-1, block_size * n_embed)\n",
    "    hpreact = embact @ W1 + b1\n",
    "    h = torch.tanh(hpreact)\n",
    "    logits = h @ W2 + b2\n",
    "\n",
    "    loss = F.cross_entropy(logits, Yb)\n",
    "    \n",
    "    for p in parameters:\n",
    "        p.grad = None\n",
    "\n",
    "    loss.backward()\n",
    "\n",
    "    lr = 0.1 if i<100000 else 0.01\n",
    "    for p in parameters:\n",
    "        p.data += -lr * p.grad\n",
    "        \n",
    "    # track stats\n",
    "    if i % 10000 == 0: # print every once in a while\n",
    "      print(f'{i:7d}/{max_steps:7d}: {loss.item():.4f}')\n",
    "    lossi.append(loss.log10().item())"
   ]
  },
  {
   "cell_type": "markdown",
   "id": "5b77636d-a021-4048-90f7-43a3ba3a77b8",
   "metadata": {},
   "source": [
    "#### Training with GPU"
   ]
  },
  {
   "cell_type": "code",
   "execution_count": 5,
   "id": "d011ce47-a811-4486-8615-45387611bf8c",
   "metadata": {},
   "outputs": [
    {
     "name": "stdout",
     "output_type": "stream",
     "text": [
      "num of parameters: 11897\n"
     ]
    }
   ],
   "source": [
    "g = torch.Generator().manual_seed(2147483647)\n",
    "\n",
    "n_embed = 10\n",
    "n_hidden = 200\n",
    "\n",
    "C = torch.randn((27, n_embed), generator = g) #embedding matrix\n",
    "\n",
    "W1 = torch.randn((n_embed * block_size, n_hidden), generator=g) * (5/3) / (n_embed * block_size)**0.5\n",
    "b1 = torch.randn(n_hidden, generator=g) * 0.01\n",
    "\n",
    "\n",
    "W2 = torch.randn((n_hidden, vocab_size), generator=g) * 0.01\n",
    "b2 = torch.randn(vocab_size, generator=g) * 0\n",
    "\n",
    "parameters = [C, W1, W2, b1, b2]\n",
    "\n",
    "for p in parameters:\n",
    "    p.requires_grad = True\n",
    "\n",
    "print(f\"num of parameters: {sum(p.nelement() for p in parameters)}\")"
   ]
  },
  {
   "cell_type": "code",
   "execution_count": 6,
   "id": "ef9307d9-6b55-4721-85aa-36c08bb0f7a6",
   "metadata": {},
   "outputs": [],
   "source": [
    "# device = torch.device(\"cuda\" if torch.cuda.is_available() else \"cpu\")\n",
    "# Xtr = Xtr.to(device)\n",
    "# Ytr= Ytr.to(device)\n",
    "# # for p in parameters:\n",
    "# #     p = p.to(device)\n",
    "# C = C.to(device)\n",
    "\n",
    "# W1 = W1.to(device)\n",
    "# W2 = W2.to(device)\n",
    "\n",
    "# b1 = b1.to(device)\n",
    "# b2 = b2.to(device)"
   ]
  },
  {
   "cell_type": "code",
   "execution_count": null,
   "id": "9e0adf6b-89ee-4f43-9d05-e0363555e0d7",
   "metadata": {},
   "outputs": [
    {
     "name": "stdout",
     "output_type": "stream",
     "text": [
      "      0/ 200000: 3.2870\n",
      "  10000/ 200000: 3.3197\n"
     ]
    }
   ],
   "source": [
    "%%time\n",
    "max_steps = 200000\n",
    "batch_size = 32\n",
    "lossi = []\n",
    "\n",
    "for i in range(max_steps):\n",
    "\n",
    "    #minibatch\n",
    "    ix = torch.randint(0, Xtr.shape[0], (batch_size,))\n",
    "    Xb, Yb = Xtr[ix], Ytr[ix]\n",
    "\n",
    "    emb = C[Xb]\n",
    "    embact = emb.view(-1, block_size * n_embed)\n",
    "    hpreact = embact @ W1 + b1\n",
    "    h = torch.tanh(hpreact)\n",
    "    logits = h @ W2 + b2\n",
    "\n",
    "    loss = F.cross_entropy(logits, Yb)\n",
    "    \n",
    "    for p in parameters:\n",
    "        p.grad = None\n",
    "\n",
    "    loss.backward()\n",
    "\n",
    "    lr = 0.1 if i<100000 else 0.01\n",
    "    for p in parameters:\n",
    "        p.data += -lr * p.grad\n",
    "        \n",
    "    # track stats\n",
    "    if i % 10000 == 0: # print every once in a while\n",
    "      print(f'{i:7d}/{max_steps:7d}: {loss.item():.4f}')\n",
    "    lossi.append(loss.log10().item())"
   ]
  },
  {
   "cell_type": "code",
   "execution_count": 31,
   "id": "d5ee5841-fad8-4d52-bc7e-129bcdb5d786",
   "metadata": {},
   "outputs": [],
   "source": [
    "torch.cuda.empty_cache() "
   ]
  },
  {
   "cell_type": "code",
   "execution_count": 10,
   "id": "d65d015c-2c95-477e-87f7-e5d2ed2cf2a5",
   "metadata": {},
   "outputs": [
    {
     "name": "stdout",
     "output_type": "stream",
     "text": [
      "train 2.037274122238159\n",
      "dev 2.1074886322021484\n"
     ]
    }
   ],
   "source": [
    "@torch.no_grad()\n",
    "def split_loss(split):\n",
    "    x, y = {\n",
    "       \"train\" : (Xtr, Ytr),\n",
    "        \"test\" : (Xte, Yte),\n",
    "        \"dev\": (Xdev, Ydev)\n",
    "    }[split] \n",
    "    emb = C[x]\n",
    "    h = torch.tanh(emb.view(emb.shape[0], -1) @ W1 + b1)\n",
    "    logits = h @ W2 + b2\n",
    "    loss = F.cross_entropy(logits, y)\n",
    "    print(split, loss.item()) \n",
    "\n",
    "split_loss(\"train\")\n",
    "split_loss(\"dev\")"
   ]
  },
  {
   "cell_type": "markdown",
   "id": "10893d62-fe9d-4ab7-b3cc-b74d72c8dba8",
   "metadata": {},
   "source": [
    "hpreact should be gaussian with 0 mean and 1 std => so that they are not too large or not too small to be killed by tanh.\n",
    "\n",
    "it can be normalized into N(0,1)=> just normalize the hidden state =>batch normalization.\n",
    "\n",
    "but it should be gaussian only at initialization. at other cases the the gaussian should be allowed to be expanded+moved around so that the loss is the minimum\n"
   ]
  },
  {
   "cell_type": "markdown",
   "id": "774d6baf-e47d-44db-954e-96ac6c89e950",
   "metadata": {},
   "source": [
    "### Batch normalization"
   ]
  },
  {
   "cell_type": "code",
   "execution_count": 48,
   "id": "a5546942-54f3-4db6-9aba-a5a96cdb07c8",
   "metadata": {},
   "outputs": [
    {
     "data": {
      "text/plain": [
       "torch.Size([32, 200])"
      ]
     },
     "execution_count": 48,
     "metadata": {},
     "output_type": "execute_result"
    }
   ],
   "source": [
    "hpreact.shape #(batch size, hidden layer)"
   ]
  },
  {
   "cell_type": "code",
   "execution_count": 36,
   "id": "3e2ef8e9-dd6c-4b90-8a30-6fbb525e0dda",
   "metadata": {},
   "outputs": [
    {
     "data": {
      "text/plain": [
       "torch.Size([1, 200])"
      ]
     },
     "execution_count": 36,
     "metadata": {},
     "output_type": "execute_result"
    }
   ],
   "source": [
    "#mean across batches\n",
    "hpreact.mean(dim=0, keepdim=True).shape"
   ]
  },
  {
   "cell_type": "code",
   "execution_count": 37,
   "id": "31f0d71c-0679-40f5-92f1-2941d8a08e53",
   "metadata": {},
   "outputs": [
    {
     "data": {
      "text/plain": [
       "torch.Size([1, 200])"
      ]
     },
     "execution_count": 37,
     "metadata": {},
     "output_type": "execute_result"
    }
   ],
   "source": [
    "hpreact.std(dim=0, keepdim=True).shape"
   ]
  },
  {
   "cell_type": "code",
   "execution_count": 47,
   "id": "dffcaa38-3165-4f4a-888a-516bb0b73283",
   "metadata": {},
   "outputs": [
    {
     "name": "stdout",
     "output_type": "stream",
     "text": [
      "      0/ 200000: 3.2868\n",
      "  10000/ 200000: 3.3256\n",
      "  20000/ 200000: 3.2949\n",
      "  30000/ 200000: 3.3291\n",
      "  40000/ 200000: 3.2826\n",
      "  50000/ 200000: 3.2988\n",
      "  60000/ 200000: 3.2851\n",
      "  70000/ 200000: 3.3352\n",
      "  80000/ 200000: 3.3030\n",
      "  90000/ 200000: 3.3030\n",
      " 100000/ 200000: 3.2990\n",
      " 110000/ 200000: 3.3181\n",
      " 120000/ 200000: 3.2950\n",
      " 130000/ 200000: 3.3220\n",
      " 140000/ 200000: 3.3031\n",
      " 150000/ 200000: 3.3262\n",
      " 160000/ 200000: 3.2986\n",
      " 170000/ 200000: 3.2822\n",
      " 180000/ 200000: 3.2830\n",
      " 190000/ 200000: 3.3059\n"
     ]
    }
   ],
   "source": [
    "max_steps = 200000\n",
    "batch_size = 32\n",
    "lossi = []\n",
    "\n",
    "for i in range(max_steps):\n",
    "\n",
    "    #minibatch\n",
    "    ix = torch.randint(0, Xtr.shape[0], (batch_size,))\n",
    "    ix = ix.to(device)\n",
    "    Xb, Yb = Xtr[ix], Ytr[ix]\n",
    "\n",
    "    emb = C[Xb]\n",
    "    embact = emb.view(-1, block_size * n_embed)\n",
    "    hpreact = embact @ W1 + b1\n",
    "\n",
    "    #Normalize the batches\n",
    "    epsilon = 1e-5\n",
    "    # mean = hpreact.mean(dim=0, keepdims=True).to(device)\n",
    "    # std = hpreact.std(dim=0, keepdim=True).to(device)\n",
    "\n",
    "    hpreact = (hpreact - hpreact.mean(dim=0, keepdims=True))/(hpreact.std(dim=0, keepdim=True).to(device) + epsilon)\n",
    "    \n",
    "    h = torch.tanh(hpreact)\n",
    "    logits = h @ W2 + b2\n",
    "\n",
    "    loss = F.cross_entropy(logits, Yb)\n",
    "    \n",
    "    for p in parameters:\n",
    "        p.grad = None\n",
    "\n",
    "    loss.backward()\n",
    "\n",
    "    lr = 0.1 if i<100000 else 0.01\n",
    "    for p in parameters:\n",
    "        p.data += -lr * p.grad\n",
    "        \n",
    "    # track stats\n",
    "    if i % 10000 == 0: # print every once in a while\n",
    "      print(f'{i:7d}/{max_steps:7d}: {loss.item():.4f}')\n",
    "    lossi.append(loss.log10().item())"
   ]
  },
  {
   "cell_type": "markdown",
   "id": "8c17df92-d483-4a4a-a913-1d6e2785206c",
   "metadata": {},
   "source": [
    "Performance degraded because it was initialised at every iteration. but we want to initialize only at first and then the model will deicde. so we want learnable parameters to help the gaussian move freely as the model wish"
   ]
  },
  {
   "cell_type": "code",
   "execution_count": 32,
   "id": "b5a64f62-ee77-4b0d-aace-1122fce0d2d9",
   "metadata": {},
   "outputs": [
    {
     "name": "stdout",
     "output_type": "stream",
     "text": [
      "num of parameters: 11897\n"
     ]
    }
   ],
   "source": [
    "g = torch.Generator().manual_seed(2147483647)\n",
    "\n",
    "n_embed = 10\n",
    "n_hidden = 200\n",
    "\n",
    "C = torch.randn((27, n_embed), generator = g) #embedding matrix\n",
    "\n",
    "W1 = torch.randn((n_embed * block_size, n_hidden), generator=g) * (5/3) / (n_embed * block_size)**0.5\n",
    "b1 = torch.randn(n_hidden, generator=g) * 0.01\n",
    "\n",
    "#Batch normalization parameters\n",
    "#one for each hidden layer\n",
    "bngain = torch.ones((1, n_hidden))\n",
    "bnbias = torch.zeros((1, n_hidden))\n",
    "\n",
    "\n",
    "W2 = torch.randn((n_hidden, vocab_size), generator=g) * 0.01\n",
    "b2 = torch.randn(vocab_size, generator=g) * 0\n",
    "\n",
    "# parameters = [C, W1, W2, b1, b2]\n",
    "parameters = [C, W1, W2, b1, b2] #bn params must be added\n",
    "\n",
    "for p in parameters:\n",
    "    p.requires_grad = True\n",
    "\n",
    "print(f\"num of parameters: {sum(p.nelement() for p in parameters)}\")"
   ]
  },
  {
   "cell_type": "code",
   "execution_count": 33,
   "id": "cc571f13-fe30-4a70-a4e2-810a84e71da7",
   "metadata": {},
   "outputs": [],
   "source": [
    "# device = torch.device(\"cuda\" if torch.cuda.is_available() else \"cpu\")\n",
    "\n",
    "# Xtr = Xtr.to(device)\n",
    "# Ytr= Ytr.to(device)\n",
    "\n",
    "# C = C.to(device)\n",
    "\n",
    "# W1 = W1.to(device)\n",
    "# W2 = W2.to(device)\n",
    "\n",
    "# bngain = bngain.to(device)\n",
    "# bnbias = bnbias.to(device)\n",
    "\n",
    "# b1 = b1.to(device)\n",
    "# b2 = b2.to(device)"
   ]
  },
  {
   "cell_type": "code",
   "execution_count": 34,
   "id": "3cea416d-a9dc-4b21-a98e-64fa3c84903b",
   "metadata": {},
   "outputs": [
    {
     "name": "stdout",
     "output_type": "stream",
     "text": [
      "      0/ 200000: 3.3217\n",
      "  10000/ 200000: 2.1949\n",
      "  20000/ 200000: 2.0421\n",
      "  30000/ 200000: 2.1342\n",
      "  40000/ 200000: 2.1259\n",
      "  50000/ 200000: 2.2033\n",
      "  60000/ 200000: 2.4894\n",
      "  70000/ 200000: 2.3485\n",
      "  80000/ 200000: 2.5252\n",
      "  90000/ 200000: 2.1278\n",
      " 100000/ 200000: 1.8137\n",
      " 110000/ 200000: 2.0090\n",
      " 120000/ 200000: 1.8853\n",
      " 130000/ 200000: 1.9639\n",
      " 140000/ 200000: 2.0212\n",
      " 150000/ 200000: 2.1426\n",
      " 160000/ 200000: 2.6622\n",
      " 170000/ 200000: 2.5909\n",
      " 180000/ 200000: 2.0997\n",
      " 190000/ 200000: 1.7875\n",
      "CPU times: user 13min 14s, sys: 4.17 s, total: 13min 19s\n",
      "Wall time: 2min 18s\n"
     ]
    }
   ],
   "source": [
    "%%time\n",
    "\n",
    "max_steps = 200000\n",
    "batch_size = 32\n",
    "lossi = []\n",
    "\n",
    "for i in range(max_steps):\n",
    "\n",
    "    #minibatch\n",
    "    ix = torch.randint(0, Xtr.shape[0], (batch_size,))\n",
    "    Xb, Yb = Xtr[ix], Ytr[ix]\n",
    "\n",
    "    emb = C[Xb]\n",
    "    embact = emb.view(-1, block_size * n_embed)\n",
    "    hpreact = embact @ W1 + b1\n",
    "\n",
    "    #Normalize the batches\n",
    "    epsilon = 1e-5\n",
    "    mean = hpreact.mean(dim=0, keepdims=True)\n",
    "    std = hpreact.std(dim=0, keepdim=True)\n",
    "\n",
    "    hpreact = (hpreact - mean)/(std + epsilon) \n",
    "    # hpreact = bngain * (hpreact - mean)/std + bnbias\n",
    "    \n",
    "    h = torch.tanh(hpreact)\n",
    "    logits = h @ W2 + b2\n",
    "\n",
    "    loss = F.cross_entropy(logits, Yb)\n",
    "    \n",
    "    for p in parameters:\n",
    "        p.grad = None\n",
    "\n",
    "    loss.backward()\n",
    "\n",
    "    lr = 0.1 if i<100000 else 0.01\n",
    "    for p in parameters:\n",
    "        p.data += -lr * p.grad\n",
    "        \n",
    "    # track stats\n",
    "    if i % 10000 == 0: # print every once in a while\n",
    "      print(f'{i:7d}/{max_steps:7d}: {loss.item():.4f}')\n",
    "    lossi.append(loss.log10().item())"
   ]
  },
  {
   "cell_type": "markdown",
   "id": "d62bd645-2b27-4070-9f49-74b2a97e3835",
   "metadata": {},
   "source": [
    "Using shift and variance parameters with BN"
   ]
  },
  {
   "cell_type": "code",
   "execution_count": 35,
   "id": "e693d201-84bf-44d8-ab41-3813644d61b3",
   "metadata": {},
   "outputs": [
    {
     "name": "stdout",
     "output_type": "stream",
     "text": [
      "num of parameters: 12297\n"
     ]
    }
   ],
   "source": [
    "g = torch.Generator().manual_seed(2147483647)\n",
    "\n",
    "n_embed = 10\n",
    "n_hidden = 200\n",
    "\n",
    "C = torch.randn((27, n_embed), generator = g) #embedding matrix\n",
    "\n",
    "W1 = torch.randn((n_embed * block_size, n_hidden), generator=g) * (5/3) / (n_embed * block_size)**0.5\n",
    "b1 = torch.randn(n_hidden, generator=g) * 0.01\n",
    "\n",
    "#Batch normalization parameters\n",
    "#one for each hidden layer\n",
    "bngain = torch.ones((1, n_hidden))\n",
    "# bnbias = torch.ones((1, n_hidden)) #b must be zero initialized\n",
    "bnbias = torch.zeros((1, n_hidden))\n",
    "\n",
    "\n",
    "W2 = torch.randn((n_hidden, vocab_size), generator=g) * 0.01\n",
    "b2 = torch.randn(vocab_size, generator=g) * 0\n",
    "\n",
    "parameters = [C, W1, W2, b1, b2, bngain, bnbias]\n",
    "\n",
    "for p in parameters:\n",
    "    p.requires_grad = True\n",
    "\n",
    "print(f\"num of parameters: {sum(p.nelement() for p in parameters)}\")"
   ]
  },
  {
   "cell_type": "code",
   "execution_count": 36,
   "id": "60909a9e-2a04-4bb0-aa81-f1acb941d36d",
   "metadata": {
    "scrolled": true
   },
   "outputs": [
    {
     "name": "stdout",
     "output_type": "stream",
     "text": [
      "      0/ 200000: 3.2934\n",
      "  10000/ 200000: 2.5492\n",
      "  20000/ 200000: 2.3339\n",
      "  30000/ 200000: 2.1717\n",
      "  40000/ 200000: 2.1802\n",
      "  50000/ 200000: 2.1497\n",
      "  60000/ 200000: 2.0439\n",
      "  70000/ 200000: 2.1809\n",
      "  80000/ 200000: 2.2921\n",
      "  90000/ 200000: 2.1028\n",
      " 100000/ 200000: 2.2643\n",
      " 110000/ 200000: 1.9304\n",
      " 120000/ 200000: 1.9325\n",
      " 130000/ 200000: 1.8583\n",
      " 140000/ 200000: 2.1421\n",
      " 150000/ 200000: 1.8834\n",
      " 160000/ 200000: 2.4429\n",
      " 170000/ 200000: 2.2021\n",
      " 180000/ 200000: 2.0950\n",
      " 190000/ 200000: 2.1146\n",
      "CPU times: user 15min 55s, sys: 5.12 s, total: 16min\n",
      "Wall time: 2min 51s\n"
     ]
    }
   ],
   "source": [
    "%%time\n",
    "\n",
    "max_steps = 200000\n",
    "batch_size = 32\n",
    "lossi = []\n",
    "\n",
    "for i in range(max_steps):\n",
    "\n",
    "    #minibatch\n",
    "    ix = torch.randint(0, Xtr.shape[0], (batch_size,))\n",
    "    Xb, Yb = Xtr[ix], Ytr[ix]\n",
    "\n",
    "    emb = C[Xb]\n",
    "    embact = emb.view(-1, block_size * n_embed)\n",
    "    hpreact = embact @ W1 + b1\n",
    "\n",
    "    #Normalize the batches\n",
    "    epsilon = 1e-5\n",
    "    mean = hpreact.mean(dim=0, keepdims=True)\n",
    "    std = hpreact.std(dim=0, keepdim=True)\n",
    "\n",
    "    # hpreact = (hpreact - mean)/(std + epsilon) \n",
    "    hpreact = bngain * (hpreact - mean)/std + bnbias\n",
    "    \n",
    "    h = torch.tanh(hpreact)\n",
    "    logits = h @ W2 + b2\n",
    "\n",
    "    loss = F.cross_entropy(logits, Yb)\n",
    "    \n",
    "    for p in parameters:\n",
    "        p.grad = None\n",
    "\n",
    "    loss.backward()\n",
    "\n",
    "    lr = 0.1 if i<100000 else 0.01\n",
    "    for p in parameters:\n",
    "        p.data += -lr * p.grad\n",
    "        \n",
    "    # track stats\n",
    "    if i % 10000 == 0: # print every once in a while\n",
    "      print(f'{i:7d}/{max_steps:7d}: {loss.item():.4f}')\n",
    "    lossi.append(loss.log10().item())"
   ]
  },
  {
   "cell_type": "code",
   "execution_count": 37,
   "id": "62b53b4e-3700-4004-a016-ee5adb5f82a0",
   "metadata": {},
   "outputs": [
    {
     "name": "stdout",
     "output_type": "stream",
     "text": [
      "train 2.065760374069214\n",
      "dev 2.105980634689331\n"
     ]
    }
   ],
   "source": [
    "@torch.no_grad()\n",
    "def split_loss(split):\n",
    "    x, y = {\n",
    "       \"train\" : (Xtr, Ytr),\n",
    "        \"test\" : (Xte, Yte),\n",
    "        \"dev\": (Xdev, Ydev)\n",
    "    }[split] \n",
    "    emb = C[x]\n",
    "    embact = emb.view(emb.shape[0], -1)\n",
    "    hpreact = embact @ W1 + b1\n",
    "    epsilon = 1e-5\n",
    "    mean = hpreact.mean(dim=0, keepdims=True)\n",
    "    std = hpreact.std(dim=0, keepdim=True)\n",
    "    hpreact = bngain * (hpreact - mean)/std + bnbias\n",
    "    h = torch.tanh(hpreact)\n",
    "     \n",
    "    logits = h @ W2 + b2\n",
    "    loss = F.cross_entropy(logits, y)\n",
    "    print(split, loss.item()) \n",
    "\n",
    "split_loss(\"train\")\n",
    "split_loss(\"dev\")"
   ]
  },
  {
   "cell_type": "markdown",
   "id": "36b662d1-51bc-46a7-a565-277afc8fec22",
   "metadata": {},
   "source": [
    "#### Explicitly Calibrating mean and std"
   ]
  },
  {
   "cell_type": "code",
   "execution_count": 38,
   "id": "8707841d-6afc-498d-aba9-42c65a8eebcf",
   "metadata": {},
   "outputs": [],
   "source": [
    "#calibrate batch norm at the end of training to avoid repeat calculation\n",
    "\n",
    "with torch.no_grad():\n",
    "    emb = C[Xtr]\n",
    "    embact = emb.view(emb.shape[0], -1)\n",
    "    hpreact = embact @ W1 + b1\n",
    "    epsilon = 1e-5\n",
    "    mean = hpreact.mean(dim=0, keepdims=True)\n",
    "    std = hpreact.std(dim=0, keepdim=True)   "
   ]
  },
  {
   "cell_type": "markdown",
   "id": "72dac0b7-9c4d-4edf-96c1-b485a851ad1d",
   "metadata": {},
   "source": [
    "the same mean and std as collected in the training time can be used at test time"
   ]
  },
  {
   "cell_type": "code",
   "execution_count": 39,
   "id": "83e1c735-d0fd-4815-b35a-cae83e0a812c",
   "metadata": {},
   "outputs": [
    {
     "name": "stdout",
     "output_type": "stream",
     "text": [
      "train 2.065760374069214\n",
      "dev 2.1060261726379395\n"
     ]
    }
   ],
   "source": [
    "@torch.no_grad()\n",
    "def split_loss(split):\n",
    "    x, y = {\n",
    "       \"train\" : (Xtr, Ytr),\n",
    "        \"test\" : (Xte, Yte),\n",
    "        \"dev\": (Xdev, Ydev)\n",
    "    }[split] \n",
    "    emb = C[x]\n",
    "    embact = emb.view(emb.shape[0], -1)\n",
    "    hpreact = embact @ W1 + b1\n",
    "    epsilon = 1e-5\n",
    "    # mean = hpreact.mean(dim=0, keepdims=True)\n",
    "    # std = hpreact.std(dim=0, keepdim=True)\n",
    "    hpreact = bngain * (hpreact - mean)/std + bnbias\n",
    "    h = torch.tanh(hpreact)\n",
    "     \n",
    "    logits = h @ W2 + b2\n",
    "    loss = F.cross_entropy(logits, y)\n",
    "    print(split, loss.item()) \n",
    "\n",
    "split_loss(\"train\")\n",
    "split_loss(\"dev\")"
   ]
  },
  {
   "cell_type": "markdown",
   "id": "842831e4-1194-4de0-8b58-f65ee6ddbb54",
   "metadata": {},
   "source": [
    "the loss is almost the same"
   ]
  },
  {
   "cell_type": "markdown",
   "id": "61a54c81-7e17-4090-87ed-90060450ddb1",
   "metadata": {},
   "source": [
    "but we dont need to explicitly calibrate mean and variance if we use the idea of running mean and variance"
   ]
  },
  {
   "cell_type": "code",
   "execution_count": 41,
   "id": "f7639f64-494f-4913-a323-d860f2a29f05",
   "metadata": {},
   "outputs": [
    {
     "name": "stdout",
     "output_type": "stream",
     "text": [
      "num of parameters: 12297\n"
     ]
    }
   ],
   "source": [
    "g = torch.Generator().manual_seed(2147483647)\n",
    "\n",
    "n_embed = 10\n",
    "n_hidden = 200\n",
    "\n",
    "C = torch.randn((27, n_embed), generator = g) #embedding matrix\n",
    "\n",
    "W1 = torch.randn((n_embed * block_size, n_hidden), generator=g) * (5/3) / (n_embed * block_size)**0.5\n",
    "b1 = torch.randn(n_hidden, generator=g) * 0.01\n",
    "\n",
    "#Batch normalization parameters\n",
    "#one for each hidden layer\n",
    "bngain = torch.ones((1, n_hidden))\n",
    "# bnbias = torch.ones((1, n_hidden)) #b must be zero initialized\n",
    "bnbias = torch.zeros((1, n_hidden))\n",
    "\n",
    "bnmean_running = torch.zeros((1, n_hidden))\n",
    "bnstd_running = torch.ones((1, n_hidden))\n",
    "\n",
    "W2 = torch.randn((n_hidden, vocab_size), generator=g) * 0.01\n",
    "b2 = torch.randn(vocab_size, generator=g) * 0\n",
    "\n",
    "parameters = [C, W1, W2, b1, b2, bngain, bnbias]\n",
    "\n",
    "for p in parameters:\n",
    "    p.requires_grad = True\n",
    "\n",
    "print(f\"num of parameters: {sum(p.nelement() for p in parameters)}\")"
   ]
  },
  {
   "cell_type": "code",
   "execution_count": 43,
   "id": "7fadd22a-2099-49c9-93e9-042f4eac918d",
   "metadata": {},
   "outputs": [
    {
     "name": "stdout",
     "output_type": "stream",
     "text": [
      "      0/ 200000: 3.3076\n",
      "  10000/ 200000: 2.4408\n",
      "  20000/ 200000: 2.2835\n",
      "  30000/ 200000: 2.1108\n",
      "  40000/ 200000: 1.9648\n",
      "  50000/ 200000: 2.5353\n",
      "  60000/ 200000: 2.4693\n",
      "  70000/ 200000: 1.8445\n",
      "  80000/ 200000: 2.1082\n",
      "  90000/ 200000: 1.9451\n",
      " 100000/ 200000: 1.8926\n",
      " 110000/ 200000: 2.1386\n",
      " 120000/ 200000: 2.5172\n",
      " 130000/ 200000: 1.8954\n",
      " 140000/ 200000: 2.2367\n",
      " 150000/ 200000: 2.2103\n",
      " 160000/ 200000: 2.2155\n",
      " 170000/ 200000: 1.9122\n",
      " 180000/ 200000: 2.3280\n",
      " 190000/ 200000: 2.0058\n",
      "CPU times: user 16min 59s, sys: 6.05 s, total: 17min 5s\n",
      "Wall time: 3min 3s\n"
     ]
    }
   ],
   "source": [
    "%%time\n",
    "\n",
    "max_steps = 200000\n",
    "batch_size = 32\n",
    "lossi = []\n",
    "\n",
    "for i in range(max_steps):\n",
    "\n",
    "    #minibatch\n",
    "    ix = torch.randint(0, Xtr.shape[0], (batch_size,))\n",
    "    Xb, Yb = Xtr[ix], Ytr[ix]\n",
    "\n",
    "    emb = C[Xb]\n",
    "    embact = emb.view(-1, block_size * n_embed)\n",
    "    hpreact = embact @ W1 + b1\n",
    "\n",
    "    #Normalize the batches\n",
    "    epsilon = 1e-5\n",
    "    bnmeani = hpreact.mean(dim=0, keepdims=True)\n",
    "    bnstdi = hpreact.std(dim=0, keepdim=True)\n",
    "\n",
    "    # hpreact = (hpreact - mean)/(std + epsilon) \n",
    "    hpreact = bngain * (hpreact - bnmeani)/bnstdi + bnbias\n",
    "\n",
    "    with torch.no_grad():\n",
    "        bnmean_running = 0.999 * bnmean_running + 0.001 * bnmeani\n",
    "        bnstd_running = 0.999 * bnstd_running + 0.001 * bnstdi\n",
    "\n",
    "    \n",
    "    h = torch.tanh(hpreact)\n",
    "    logits = h @ W2 + b2\n",
    "\n",
    "    loss = F.cross_entropy(logits, Yb)\n",
    "    \n",
    "    for p in parameters:\n",
    "        p.grad = None\n",
    "\n",
    "    loss.backward()\n",
    "\n",
    "    lr = 0.1 if i<100000 else 0.01\n",
    "    for p in parameters:\n",
    "        p.data += -lr * p.grad\n",
    "        \n",
    "    # track stats\n",
    "    if i % 10000 == 0: # print every once in a while\n",
    "      print(f'{i:7d}/{max_steps:7d}: {loss.item():.4f}')\n",
    "    lossi.append(loss.log10().item())"
   ]
  },
  {
   "cell_type": "code",
   "execution_count": 44,
   "id": "c11f71d8-2cf3-40fb-b1b7-cc1efad05b41",
   "metadata": {},
   "outputs": [
    {
     "name": "stdout",
     "output_type": "stream",
     "text": [
      "train 2.067415952682495\n",
      "dev 2.107334613800049\n"
     ]
    }
   ],
   "source": [
    "@torch.no_grad()\n",
    "def split_loss(split):\n",
    "    x, y = {\n",
    "       \"train\" : (Xtr, Ytr),\n",
    "        \"test\" : (Xte, Yte),\n",
    "        \"dev\": (Xdev, Ydev)\n",
    "    }[split] \n",
    "    emb = C[x]\n",
    "    embact = emb.view(emb.shape[0], -1)\n",
    "    hpreact = embact @ W1 + b1\n",
    "    epsilon = 1e-5\n",
    "    # mean = hpreact.mean(dim=0, keepdims=True)\n",
    "    # std = hpreact.std(dim=0, keepdim=True)\n",
    "    hpreact = bngain * (hpreact - bnmean_running)/bnstd_running + bnbias\n",
    "    h = torch.tanh(hpreact)\n",
    "     \n",
    "    logits = h @ W2 + b2\n",
    "    loss = F.cross_entropy(logits, y)\n",
    "    print(split, loss.item()) \n",
    "\n",
    "split_loss(\"train\")\n",
    "split_loss(\"dev\")"
   ]
  },
  {
   "cell_type": "markdown",
   "id": "976b9cc4-c59f-47e0-ad1a-20ccf0d9b79f",
   "metadata": {},
   "source": [
    "validation loss not much affected"
   ]
  },
  {
   "cell_type": "markdown",
   "id": "16dc5b16-5162-49ec-8835-a6dcff131a14",
   "metadata": {},
   "source": [
    "b1 is being added at hpreact but again subtracted when mean subtraction happening. So b1 has no effect and b1.grad should be 0"
   ]
  },
  {
   "cell_type": "code",
   "execution_count": 45,
   "id": "7a1ee5bc-1c15-4b33-9b82-83494129ed41",
   "metadata": {},
   "outputs": [
    {
     "data": {
      "text/plain": [
       "tensor([ 6.9849e-10,  9.3132e-10,  9.3132e-10,  9.3132e-10, -1.8626e-09,\n",
       "        -4.6566e-10, -2.3283e-10, -1.6298e-09, -9.3132e-10,  1.3970e-09,\n",
       "         9.3132e-10,  3.4925e-10,  0.0000e+00,  0.0000e+00, -9.3132e-10,\n",
       "         4.6566e-09, -4.6566e-10,  9.3132e-10,  1.5134e-09,  4.6566e-10,\n",
       "        -9.3132e-10, -1.8626e-09, -3.4925e-09, -2.3283e-09,  1.1642e-09,\n",
       "         1.6298e-09,  1.8626e-09, -3.7253e-09,  9.3132e-10,  9.3132e-10,\n",
       "        -5.5879e-09,  0.0000e+00,  1.3970e-09, -9.3132e-10,  1.8626e-09,\n",
       "        -2.7940e-09,  1.3970e-09,  9.3132e-10, -4.6566e-10,  1.8626e-09,\n",
       "        -9.3132e-10,  9.3132e-10,  6.9849e-10, -2.9104e-11, -5.5879e-09,\n",
       "        -1.8626e-09,  0.0000e+00,  1.8626e-09,  2.5611e-09, -1.1642e-10,\n",
       "         0.0000e+00,  5.5879e-09,  9.3132e-10,  5.1223e-09,  8.1491e-10,\n",
       "        -6.9849e-10,  2.7940e-09,  9.3132e-10,  1.3970e-09,  1.6298e-09,\n",
       "        -9.3132e-10,  9.3132e-10,  9.3132e-10,  9.3132e-10,  0.0000e+00,\n",
       "         3.7253e-09, -9.3132e-10, -5.8208e-10, -3.4925e-10, -1.3970e-09,\n",
       "        -4.6566e-10, -1.1642e-10,  4.6566e-10, -3.7253e-09,  1.8626e-09,\n",
       "        -1.2224e-09, -1.8626e-09,  1.3970e-09, -2.5611e-09, -9.3132e-10,\n",
       "        -9.3132e-10, -4.6566e-10,  0.0000e+00,  2.7940e-09,  1.3970e-09,\n",
       "         0.0000e+00,  9.3132e-10,  9.3132e-10, -2.0955e-09,  0.0000e+00,\n",
       "        -2.7940e-09, -1.3970e-09, -9.3132e-10, -2.3283e-10, -1.3970e-09,\n",
       "        -9.3132e-10, -9.3132e-10, -1.8626e-09,  7.4506e-09,  0.0000e+00,\n",
       "         4.6566e-10,  7.5670e-10, -1.3970e-09, -9.3132e-10, -3.0268e-09,\n",
       "        -9.3132e-10,  1.8626e-09,  9.3132e-10, -8.1491e-10, -1.3970e-09,\n",
       "        -9.3132e-10,  2.3283e-09, -6.9849e-10, -1.1642e-09,  1.1642e-09,\n",
       "        -9.3132e-10, -1.8626e-09, -2.7940e-09,  9.3132e-10, -1.8626e-09,\n",
       "        -9.3132e-10, -2.3283e-09,  6.9849e-10,  1.8626e-09,  4.6566e-10,\n",
       "         9.3132e-10, -3.7253e-09, -9.3132e-10, -9.3132e-10, -5.5879e-09,\n",
       "        -2.7940e-09,  5.8208e-11,  4.6566e-10,  2.7940e-09, -1.8626e-09,\n",
       "         4.6566e-10,  1.3970e-09,  1.8626e-09, -1.8626e-09, -1.8626e-09,\n",
       "         2.7940e-09,  0.0000e+00,  0.0000e+00,  1.8626e-09,  0.0000e+00,\n",
       "         9.3132e-10, -9.3132e-10, -9.3132e-10, -5.8208e-10,  1.8626e-09,\n",
       "         0.0000e+00, -3.4925e-10, -2.3283e-10,  9.3132e-10,  2.3283e-09,\n",
       "        -1.1642e-10,  1.1642e-09,  1.1642e-09,  2.3283e-10,  2.3283e-09,\n",
       "        -1.8626e-09, -2.7940e-09, -1.0477e-09, -2.3283e-10, -2.3283e-10,\n",
       "         4.6566e-10, -4.6566e-10,  1.8626e-09, -2.7940e-09, -9.3132e-10,\n",
       "         3.7253e-09,  0.0000e+00,  1.3970e-09,  6.9849e-10, -4.6566e-10,\n",
       "         3.7253e-09,  9.3132e-10,  9.3132e-10, -3.4925e-09, -2.3283e-09,\n",
       "        -9.3132e-10, -3.7253e-09, -3.7253e-09,  0.0000e+00,  4.6566e-10,\n",
       "         1.7462e-09, -1.3970e-09, -9.3132e-10, -1.3097e-10, -1.8626e-09,\n",
       "        -6.9849e-10, -1.8626e-09,  0.0000e+00,  0.0000e+00, -9.3132e-10,\n",
       "        -9.3132e-10,  9.3132e-10, -1.8626e-09, -4.6566e-10, -3.9290e-10])"
      ]
     },
     "execution_count": 45,
     "metadata": {},
     "output_type": "execute_result"
    }
   ],
   "source": [
    "b1.grad "
   ]
  },
  {
   "cell_type": "code",
   "execution_count": null,
   "id": "d08c7abc-f455-4e8e-b100-552951f11b73",
   "metadata": {},
   "outputs": [],
   "source": []
  }
 ],
 "metadata": {
  "kernelspec": {
   "display_name": "Python 3 (ipykernel)",
   "language": "python",
   "name": "python3"
  },
  "language_info": {
   "codemirror_mode": {
    "name": "ipython",
    "version": 3
   },
   "file_extension": ".py",
   "mimetype": "text/x-python",
   "name": "python",
   "nbconvert_exporter": "python",
   "pygments_lexer": "ipython3",
   "version": "3.11.9"
  }
 },
 "nbformat": 4,
 "nbformat_minor": 5
}
