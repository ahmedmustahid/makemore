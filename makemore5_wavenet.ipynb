{
 "cells": [
  {
   "cell_type": "code",
   "execution_count": 1,
   "id": "ff132186-1b7b-40a6-b854-0a1382195989",
   "metadata": {},
   "outputs": [],
   "source": [
    "import torch\n",
    "import torch.nn.functional as F\n",
    "import matplotlib.pyplot as plt\n",
    "%matplotlib inline"
   ]
  },
  {
   "cell_type": "markdown",
   "id": "d90ae07f-e747-4c44-a056-08eafff5787b",
   "metadata": {},
   "source": [
    "### Preparing the dataset"
   ]
  },
  {
   "cell_type": "code",
   "execution_count": 2,
   "id": "a2be0117-7637-4c69-90b9-e6e5bcc356e5",
   "metadata": {},
   "outputs": [],
   "source": [
    "words = open(\"names.txt\", \"r\").read().splitlines()"
   ]
  },
  {
   "cell_type": "code",
   "execution_count": 3,
   "id": "5dff0f4a-8140-4b52-ba6b-c6270203250a",
   "metadata": {},
   "outputs": [
    {
     "data": {
      "text/plain": [
       "27"
      ]
     },
     "execution_count": 3,
     "metadata": {},
     "output_type": "execute_result"
    }
   ],
   "source": [
    "chars = sorted(list(set(\"\".join(words))))\n",
    "stoi = {s:i+1 for i,s in enumerate(chars)}\n",
    "stoi[\".\"] = 0\n",
    "itos = {i:s for s,i in stoi.items()}\n",
    "vocab_size = len(stoi)\n",
    "vocab_size"
   ]
  },
  {
   "cell_type": "code",
   "execution_count": 4,
   "id": "a2382afe-b838-442a-ab52-5e04ae16fd74",
   "metadata": {},
   "outputs": [],
   "source": [
    "block_size = 3\n",
    "def build_dataset(words):\n",
    "    block_size = 3\n",
    "    X, Y = [], []\n",
    "    \n",
    "    for w in words:\n",
    "    \n",
    "        context = [0] * block_size\n",
    "        for ch in w+\".\":\n",
    "            ix = stoi[ch]\n",
    "            X.append(context)\n",
    "            Y.append(ix)\n",
    "    \n",
    "            context = context[1:]+[ix]\n",
    "    \n",
    "    X = torch.tensor(X)\n",
    "    Y = torch.tensor(Y)   \n",
    "\n",
    "    return X, Y\n",
    "\n",
    "import random\n",
    "random.seed(42)\n",
    "random.shuffle(words)\n",
    "\n",
    "n1 = int(0.8*len(words))\n",
    "n2 = int(0.9*len(words))\n",
    "\n",
    "Xtr, Ytr = build_dataset(words[:n1])\n",
    "Xdev, Ydev = build_dataset(words[n1:n2])\n",
    "Xte, Yte = build_dataset(words[n2:])"
   ]
  },
  {
   "cell_type": "markdown",
   "id": "054654e2-ba55-44b9-a84c-b8a22d0dafb3",
   "metadata": {},
   "source": [
    "### Defining the layers"
   ]
  },
  {
   "cell_type": "code",
   "execution_count": 5,
   "id": "55609dde-6e52-4111-a445-e895483f830a",
   "metadata": {},
   "outputs": [],
   "source": [
    "from makemore.linear import Linear\n",
    "from makemore.tanh import Tanh\n",
    "from makemore.batchNorm1d import BatchNorm1d"
   ]
  },
  {
   "cell_type": "code",
   "execution_count": 6,
   "id": "2755d51b-aab8-4a97-b6df-1b4488b8de86",
   "metadata": {},
   "outputs": [
    {
     "name": "stdout",
     "output_type": "stream",
     "text": [
      "47024\n"
     ]
    }
   ],
   "source": [
    "n_embed = 10\n",
    "n_hidden = 100\n",
    "g = torch.Generator().manual_seed(2147483647)\n",
    "\n",
    "C = torch.randn((vocab_size, n_embed), generator=g)\n",
    "\n",
    "\n",
    "layers = [\n",
    "  Linear(n_embed * block_size, n_hidden, bias=False), BatchNorm1d(n_hidden), Tanh(),\n",
    "  Linear(           n_hidden, n_hidden, bias=False), BatchNorm1d(n_hidden), Tanh(),\n",
    "  Linear(           n_hidden, n_hidden, bias=False), BatchNorm1d(n_hidden), Tanh(),\n",
    "  Linear(           n_hidden, n_hidden, bias=False), BatchNorm1d(n_hidden), Tanh(),\n",
    "  Linear(           n_hidden, n_hidden, bias=False), BatchNorm1d(n_hidden), Tanh(),\n",
    "  Linear(           n_hidden, vocab_size, bias=False), BatchNorm1d(vocab_size),\n",
    "]\n",
    "\n",
    "with torch.no_grad():\n",
    "  # last layer: make less confident\n",
    "  layers[-1].gamma *= 0.1\n",
    "  #layers[-1].weight *= 0.1\n",
    "  # all other layers: apply gain\n",
    "  for layer in layers[:-1]:\n",
    "    if isinstance(layer, Linear):\n",
    "      layer.weight *= 1.0 #5/3\n",
    "\n",
    "parameters = [C] + [p for layer in layers for p in layer.parameters()]\n",
    "print(sum(p.nelement() for p in parameters)) # number of parameters in total\n",
    "for p in parameters:\n",
    "  p.requires_grad = True"
   ]
  },
  {
   "cell_type": "markdown",
   "id": "cfd61a86-2392-47d3-a331-6bac90e12ab6",
   "metadata": {},
   "source": [
    "### Training loop"
   ]
  },
  {
   "cell_type": "code",
   "execution_count": 11,
   "id": "29862502-688b-4cc7-93d1-96f5c5c63e2e",
   "metadata": {},
   "outputs": [
    {
     "name": "stdout",
     "output_type": "stream",
     "text": [
      "      0/ 200000: 2.1189\n",
      "  10000/ 200000: 2.4210\n",
      "  20000/ 200000: 1.8325\n",
      "  30000/ 200000: 1.9717\n",
      "  40000/ 200000: 1.9369\n",
      "  50000/ 200000: 2.8048\n",
      "  60000/ 200000: 1.9833\n",
      "  70000/ 200000: 2.0637\n",
      "  80000/ 200000: 2.3088\n",
      "  90000/ 200000: 2.2504\n",
      " 100000/ 200000: 2.0926\n",
      " 110000/ 200000: 2.0370\n",
      " 120000/ 200000: 1.8982\n",
      " 130000/ 200000: 1.5689\n",
      " 140000/ 200000: 2.0867\n",
      " 150000/ 200000: 1.9026\n",
      " 160000/ 200000: 1.6841\n",
      " 170000/ 200000: 1.5990\n",
      " 180000/ 200000: 1.8545\n",
      " 190000/ 200000: 2.1288\n",
      "CPU times: user 55min 2s, sys: 13.5 s, total: 55min 15s\n",
      "Wall time: 9min 54s\n"
     ]
    }
   ],
   "source": [
    "%%time\n",
    "\n",
    "max_steps = 200000\n",
    "batch_size = 32\n",
    "lossi = []\n",
    "ud = []\n",
    "\n",
    "for i in range(max_steps):\n",
    "\n",
    "    #minibatch\n",
    "    ix = torch.randint(0, Xtr.shape[0], (batch_size,))\n",
    "    Xb, Yb = Xtr[ix], Ytr[ix]\n",
    "\n",
    "    emb = C[Xb]\n",
    "    x = emb.view(-1, block_size * n_embed)\n",
    "\n",
    "    for layer in layers:\n",
    "        x = layer(x)\n",
    "    \n",
    "    loss = F.cross_entropy(x, Yb)\n",
    "\n",
    "     # backward pass\n",
    "    for layer in layers:\n",
    "      layer.out.retain_grad() # AFTER_DEBUG: would take out retain_graph\n",
    "      \n",
    "    for p in parameters:\n",
    "        p.grad = None\n",
    "\n",
    "    loss.backward()\n",
    "\n",
    "    lr = 0.1 if i<100000 else 0.01\n",
    "    for p in parameters:\n",
    "        p.data += -lr * p.grad\n",
    "        \n",
    "    # track stats\n",
    "    if i % 10000 == 0: # print every once in a while\n",
    "      print(f'{i:7d}/{max_steps:7d}: {loss.item():.4f}')\n",
    "    lossi.append(loss.log10().item())\n",
    "\n",
    "    with torch.no_grad(): #checks how large are the update compared to values\n",
    "        ud.append([((lr*p.grad).std() / p.data.std()).log10().item() for p in parameters])\n",
    "\n",
    "    # # if i >= 1000:\n",
    "    # #   break # AFTER_DEBUG: would take out obviously to run full optimization\n",
    "    # if i % 10000 == 0: # print every once in a while\n",
    "    #   print(f'{i:7d}/{max_steps:7d}: {loss.item():.4f}')\n",
    "    # lossi.append(loss.log10().item())"
   ]
  },
  {
   "cell_type": "markdown",
   "id": "519d72d2-358f-46c5-ba50-239dd39b8289",
   "metadata": {},
   "source": [
    "### Evaluation"
   ]
  },
  {
   "cell_type": "code",
   "execution_count": 12,
   "id": "5f088497-14d1-49ff-9215-94976c378fe8",
   "metadata": {},
   "outputs": [],
   "source": [
    "for layer in layers:\n",
    "    layer.training = False"
   ]
  },
  {
   "cell_type": "code",
   "execution_count": 13,
   "id": "6c65969a-e3c8-4157-b35a-7944b0ee59c0",
   "metadata": {},
   "outputs": [
    {
     "name": "stdout",
     "output_type": "stream",
     "text": [
      "train 1.96268630027771\n",
      "dev 2.09045672416687\n"
     ]
    }
   ],
   "source": [
    "@torch.no_grad()\n",
    "def split_loss(split):\n",
    "    x, y = {\n",
    "       \"train\" : (Xtr, Ytr),\n",
    "        \"test\" : (Xte, Yte),\n",
    "        \"dev\": (Xdev, Ydev)\n",
    "    }[split] \n",
    "    emb = C[x]\n",
    "    x = emb.view(emb.shape[0], -1)\n",
    "\n",
    "    for layer in layers:\n",
    "        x = layer(x)    \n",
    "    \n",
    "    loss = F.cross_entropy(x, y)\n",
    "    print(split, loss.item()) \n",
    "\n",
    "split_loss(\"train\")\n",
    "split_loss(\"dev\")"
   ]
  },
  {
   "cell_type": "markdown",
   "id": "ca18dd61-f77a-4cdf-9c07-c7527fcad845",
   "metadata": {},
   "source": [
    "### Sample from the data"
   ]
  },
  {
   "cell_type": "code",
   "execution_count": 17,
   "id": "f2d79116-e3ce-4250-8e0a-bd26f9c5247d",
   "metadata": {},
   "outputs": [
    {
     "name": "stdout",
     "output_type": "stream",
     "text": [
      "mayan.\n",
      "abdulkota.\n",
      "kameel.\n",
      "phoailah.\n",
      "zelarshika.\n",
      "aah.\n",
      "vika.\n",
      "dashi.\n",
      "maxzeyan.\n",
      "jeya.\n",
      "kah.\n",
      "ozemani.\n",
      "hapmaddie.\n",
      "kaegen.\n",
      "shannathl.\n",
      "calunay.\n",
      "zaidalyn.\n",
      "sim.\n",
      "westyn.\n",
      "araahi.\n"
     ]
    }
   ],
   "source": [
    "for _ in range(20):\n",
    "    context = [0]*block_size\n",
    "    out = []\n",
    "\n",
    "    while True:\n",
    "        emb = C[torch.tensor([context])]\n",
    "\n",
    "        x = emb.view(emb.shape[0], -1)\n",
    "        for layer in layers:\n",
    "            x = layer(x)\n",
    "\n",
    "        logits = x\n",
    "        probs = F.softmax(logits, dim=1)\n",
    "\n",
    "        ix = torch.multinomial(probs, num_samples=1).item()\n",
    "\n",
    "        context = context[1:] + [ix]\n",
    "        out.append(ix)\n",
    "\n",
    "        if ix==0:\n",
    "            break\n",
    "\n",
    "    print(\"\".join(itos[i] for i in out))\n",
    "    \n",
    "    "
   ]
  },
  {
   "cell_type": "markdown",
   "id": "04587dd1-749d-4278-978f-6610678d8990",
   "metadata": {},
   "source": [
    "### Visualizing loss"
   ]
  },
  {
   "cell_type": "code",
   "execution_count": 18,
   "id": "21f8bf29-5e97-4fed-8c3b-4082bcd5f2da",
   "metadata": {},
   "outputs": [
    {
     "data": {
      "text/plain": [
       "[<matplotlib.lines.Line2D at 0x756d47d484d0>]"
      ]
     },
     "execution_count": 18,
     "metadata": {},
     "output_type": "execute_result"
    },
    {
     "data": {
      "image/png": "[encoded data removed]",
      "text/plain": [
       "<Figure size 640x480 with 1 Axes>"
      ]
     },
     "metadata": {},
     "output_type": "display_data"
    }
   ],
   "source": [
    "plt.plot(lossi)"
   ]
  },
  {
   "cell_type": "code",
   "execution_count": 20,
   "id": "3917fcf3-1e2c-40b0-b8f4-1e334bec8214",
   "metadata": {},
   "outputs": [
    {
     "data": {
      "text/plain": [
       "200000"
      ]
     },
     "execution_count": 20,
     "metadata": {},
     "output_type": "execute_result"
    }
   ],
   "source": [
    "len(lossi)"
   ]
  },
  {
   "cell_type": "markdown",
   "id": "f97bbaa5-afef-4d90-aaeb-66bd4e447c80",
   "metadata": {},
   "source": [
    "this looks too ugly"
   ]
  },
  {
   "cell_type": "code",
   "execution_count": 21,
   "id": "4776120d-5684-4219-a40f-ff0f3d1a83e9",
   "metadata": {},
   "outputs": [
    {
     "data": {
      "text/plain": [
       "[<matplotlib.lines.Line2D at 0x756c68d6b9d0>]"
      ]
     },
     "execution_count": 21,
     "metadata": {},
     "output_type": "execute_result"
    },
    {
     "data": {
      "image/png": "[encoded data removed]",
      "text/plain": [
       "<Figure size 640x480 with 1 Axes>"
      ]
     },
     "metadata": {},
     "output_type": "display_data"
    }
   ],
   "source": [
    "plt.plot(torch.tensor(lossi).view(-1, 1000).mean(1))"
   ]
  },
  {
   "cell_type": "markdown",
   "id": "8a15e465-7c2f-4155-9aaa-83170e53e55a",
   "metadata": {},
   "source": [
    "the steep fall at around 100 is due to the learning rate decay"
   ]
  },
  {
   "cell_type": "markdown",
   "id": "ffd52ff3-d489-4ba9-be43-e3e9793e98b1",
   "metadata": {},
   "source": [
    "### Cleaning up layers"
   ]
  },
  {
   "cell_type": "code",
   "execution_count": 5,
   "id": "ab0f7cb4-8d66-44f7-b998-fa2ac6a818b8",
   "metadata": {},
   "outputs": [],
   "source": [
    "from makemore.linear import Linear\n",
    "from makemore.tanh import Tanh\n",
    "from makemore.batchNorm1d import BatchNorm1d\n",
    "\n",
    "from makemore.embedding import Embedding\n",
    "from makemore.flatten import Flatten"
   ]
  },
  {
   "cell_type": "code",
   "execution_count": 6,
   "id": "675f28fc-9545-4679-8c8f-e7107a7e6e75",
   "metadata": {},
   "outputs": [],
   "source": [
    "from makemore.sequential import Sequential"
   ]
  },
  {
   "cell_type": "code",
   "execution_count": 7,
   "id": "54d7d81f-ed9d-41c3-8d8f-dd3b4f3be2dd",
   "metadata": {},
   "outputs": [
    {
     "name": "stdout",
     "output_type": "stream",
     "text": [
      "47024\n"
     ]
    }
   ],
   "source": [
    "n_embed = 10\n",
    "n_hidden = 100\n",
    "g = torch.Generator().manual_seed(2147483647)\n",
    "\n",
    "# C = torch.randn((vocab_size, n_embed), generator=g)\n",
    "layers = [\n",
    "    \n",
    "  Embedding(vocab_size, n_embed),\n",
    "  Flatten(),\n",
    "  Linear(n_embed * block_size, n_hidden, bias=False), BatchNorm1d(n_hidden), Tanh(),\n",
    "  Linear(           n_hidden, n_hidden, bias=False), BatchNorm1d(n_hidden), Tanh(),\n",
    "  Linear(           n_hidden, n_hidden, bias=False), BatchNorm1d(n_hidden), Tanh(),\n",
    "  Linear(           n_hidden, n_hidden, bias=False), BatchNorm1d(n_hidden), Tanh(),\n",
    "  Linear(           n_hidden, n_hidden, bias=False), BatchNorm1d(n_hidden), Tanh(),\n",
    "  Linear(           n_hidden, vocab_size, bias=False), BatchNorm1d(vocab_size),\n",
    "]\n",
    "\n",
    "\n",
    "model = Sequential([\n",
    "  Embedding(vocab_size, n_embed),\n",
    "  Flatten(),\n",
    "  Linear(n_embed * block_size, n_hidden, bias=False), BatchNorm1d(n_hidden), Tanh(),\n",
    "  Linear(           n_hidden, n_hidden, bias=False), BatchNorm1d(n_hidden), Tanh(),\n",
    "  Linear(           n_hidden, n_hidden, bias=False), BatchNorm1d(n_hidden), Tanh(),\n",
    "  Linear(           n_hidden, n_hidden, bias=False), BatchNorm1d(n_hidden), Tanh(),\n",
    "  Linear(           n_hidden, n_hidden, bias=False), BatchNorm1d(n_hidden), Tanh(),\n",
    "  Linear(           n_hidden, vocab_size, bias=False), BatchNorm1d(vocab_size),\n",
    "])\n",
    "\n",
    "with torch.no_grad():\n",
    "  # last layer: make less confident\n",
    "  layers[-1].gamma *= 0.1\n",
    "  #layers[-1].weight *= 0.1\n",
    "  # all other layers: apply gain\n",
    "  for layer in layers[:-1]:\n",
    "    if isinstance(layer, Linear):\n",
    "      layer.weight *= 1.0 #5/3\n",
    "\n",
    "parameters = model.parameters()\n",
    "print(sum(p.nelement() for p in parameters)) # number of parameters in total\n",
    "for p in parameters:\n",
    "  p.requires_grad = True"
   ]
  },
  {
   "cell_type": "code",
   "execution_count": 8,
   "id": "c0390747-3385-40f9-b2fd-c3d38021e8a2",
   "metadata": {},
   "outputs": [
    {
     "name": "stdout",
     "output_type": "stream",
     "text": [
      "      0/ 200000: 3.7937\n",
      "CPU times: user 268 ms, sys: 26.8 ms, total: 295 ms\n",
      "Wall time: 99.6 ms\n"
     ]
    }
   ],
   "source": [
    "%%time\n",
    "\n",
    "max_steps = 200000\n",
    "batch_size = 32\n",
    "lossi = []\n",
    "ud = []\n",
    "\n",
    "for i in range(max_steps):\n",
    "\n",
    "    #minibatch\n",
    "    ix = torch.randint(0, Xtr.shape[0], (batch_size,))\n",
    "    Xb, Yb = Xtr[ix], Ytr[ix]\n",
    "\n",
    "    # emb = C[Xb]\n",
    "    # x = emb.view(-1, block_size * n_embed)\n",
    "    \n",
    "    # x = Xb\n",
    "    # for layer in layers:\n",
    "    #     x = layer(x)\n",
    "\n",
    "    logits = model(Xb)\n",
    "    \n",
    "    # loss = F.cross_entropy(x, Yb)\n",
    "    loss = F.cross_entropy(logits, Yb)\n",
    "\n",
    "     # backward pass\n",
    "    # for layer in layers:\n",
    "    #   layer.out.retain_grad() # AFTER_DEBUG: would take out retain_graph\n",
    "      \n",
    "    for p in parameters:\n",
    "        p.grad = None\n",
    "\n",
    "    loss.backward()\n",
    "\n",
    "    lr = 0.1 if i<100000 else 0.01\n",
    "    for p in parameters:\n",
    "        p.data += -lr * p.grad\n",
    "        \n",
    "    # track stats\n",
    "    if i % 10000 == 0: # print every once in a while\n",
    "      print(f'{i:7d}/{max_steps:7d}: {loss.item():.4f}')\n",
    "    lossi.append(loss.log10().item())\n",
    "\n",
    "    with torch.no_grad(): #checks how large are the update compared to values\n",
    "        ud.append([((lr*p.grad).std() / p.data.std()).log10().item() for p in parameters])\n",
    "\n",
    "    # if i >= 1000:\n",
    "    break # AFTER_DEBUG: would take out obviously to run full optimization\n",
    "    # if i % 10000 == 0: # print every once in a while\n",
    "    #   print(f'{i:7d}/{max_steps:7d}: {loss.item():.4f}')\n",
    "    # lossi.append(loss.log10().item())"
   ]
  },
  {
   "cell_type": "markdown",
   "id": "fbfffae3-415e-4bb0-a363-802e1c965c06",
   "metadata": {},
   "source": [
    "### Evaluation"
   ]
  },
  {
   "cell_type": "code",
   "execution_count": 10,
   "id": "109c2b36-c67c-44df-8e81-66ecc62b5c74",
   "metadata": {},
   "outputs": [
    {
     "name": "stdout",
     "output_type": "stream",
     "text": [
      "train 3.3055880069732666\n",
      "dev 3.302670478820801\n"
     ]
    }
   ],
   "source": [
    "@torch.no_grad()\n",
    "def split_loss(split):\n",
    "    x, y = {\n",
    "       \"train\" : (Xtr, Ytr),\n",
    "        \"test\" : (Xte, Yte),\n",
    "        \"dev\": (Xdev, Ydev)\n",
    "    }[split] \n",
    "    # emb = C[x]\n",
    "    # x = emb.view(emb.shape[0], -1)\n",
    "\n",
    "    # for layer in layers:\n",
    "    #     x = layer(x)    \n",
    "\n",
    "    logits = model(x)\n",
    "    \n",
    "    loss = F.cross_entropy(logits, y)\n",
    "    print(split, loss.item()) \n",
    "\n",
    "split_loss(\"train\")\n",
    "split_loss(\"dev\")"
   ]
  },
  {
   "cell_type": "markdown",
   "id": "b39e507e-a39a-4208-8c22-7833c5540236",
   "metadata": {},
   "source": [
    "### Sample from data"
   ]
  },
  {
   "cell_type": "code",
   "execution_count": 11,
   "id": "c3049652-3dc3-40f8-9c11-9d6de1d0e459",
   "metadata": {},
   "outputs": [
    {
     "name": "stdout",
     "output_type": "stream",
     "text": [
      "caqzouiuffq.\n",
      "lmscscyhzqcpxlnmmxwjyeysxapspbliexabm.\n",
      "yyyswkcqdelapqtqbjytignqeqzaofhtcohbeaphztrlduvayhybwczhyqztbtwkygnfohhhqbcrzoewbrmyleq.\n",
      "buwwqltmyzvbrfthctpyhtmournraahb.\n",
      "srrrfhilsupniamwlabbievwjwd.\n",
      "vktajz.\n",
      "ysqpvfovsmmyhhgc.\n",
      "qpjchoysgfjhugsjdh.\n",
      "orvdkos.\n",
      "eqpjhorsupyte.\n",
      "nflyomq.\n",
      "fazhd.\n",
      ".\n",
      "qywlnptwdbenhz.\n",
      "fvdjrcfw.\n",
      "haxhdmkalcyqbxiyiveybxpjqdmvniktkyzdmupgkl.\n",
      "ih.\n",
      "oekoylxobjqnoj.\n",
      "s.\n",
      ".\n"
     ]
    }
   ],
   "source": [
    "for _ in range(20):\n",
    "    context = [0]*block_size\n",
    "    out = []\n",
    "\n",
    "    while True:\n",
    "        # emb = C[torch.tensor([context])]\n",
    "\n",
    "        # x = emb.view(emb.shape[0], -1)\n",
    "        # for layer in layers:\n",
    "        #     x = layer(x)\n",
    "\n",
    "        # logits = x\n",
    "\n",
    "        logits = model(torch.tensor([context]))\n",
    "        probs = F.softmax(logits, dim=1)\n",
    "\n",
    "        ix = torch.multinomial(probs, num_samples=1).item()\n",
    "\n",
    "        context = context[1:] + [ix]\n",
    "        out.append(ix)\n",
    "\n",
    "        if ix==0:\n",
    "            break\n",
    "\n",
    "    print(\"\".join(itos[i] for i in out))\n",
    "    \n",
    "    "
   ]
  },
  {
   "cell_type": "markdown",
   "id": "3fdd35d6-9cff-40c1-be42-5ea8a5c5df3e",
   "metadata": {},
   "source": [
    "the error is because layers arent in training mode.so batchnorm being activated and variance of a single number isnt a number"
   ]
  },
  {
   "cell_type": "markdown",
   "id": "afee2f1e-53ff-43e2-b8ff-eb39fcbf448a",
   "metadata": {},
   "source": [
    "the layers are in eval mode"
   ]
  },
  {
   "cell_type": "code",
   "execution_count": 9,
   "id": "2eb8b99b-ac1a-48ce-a8cb-9f03d67c88b8",
   "metadata": {},
   "outputs": [],
   "source": [
    "for layer in model.layers:\n",
    "    layer.training = False"
   ]
  },
  {
   "cell_type": "code",
   "execution_count": 12,
   "id": "5ec61e3f-3859-4e2d-9818-ee1bb6081a1d",
   "metadata": {},
   "outputs": [
    {
     "name": "stdout",
     "output_type": "stream",
     "text": [
      "lfjdyqdauekgktgvkiwoyhmjzx.\n",
      ".\n",
      "mv.\n",
      "lkqzaalgyllrpnhohlqswbuciik.\n",
      "clfommtnzfxuelxbe.\n",
      ".\n",
      "sszcre.\n",
      "ejtkbkvwudtmmtjsgroklahcledhdcmicbcxmpbm.\n",
      "vtvbhduvejtzhhysskyzp.\n",
      "adazb.\n",
      ".\n",
      "cdtrxn.\n",
      "bqxkuswdeosorymjawzeuqnhyiria.\n",
      "fqqvotpbblygxbt.\n",
      "cqscelunkhs.\n",
      "dmbwlokelenfyzwjra.\n",
      ".\n",
      "deacjihfziwefqtaqh.\n",
      "dajip.\n",
      "pk.\n"
     ]
    }
   ],
   "source": [
    "for _ in range(20):\n",
    "    context = [0]*block_size\n",
    "    out = []\n",
    "\n",
    "    while True:\n",
    "        # emb = C[torch.tensor([context])]\n",
    "\n",
    "        # x = emb.view(emb.shape[0], -1)\n",
    "        # for layer in layers:\n",
    "        #     x = layer(x)\n",
    "\n",
    "        # logits = x\n",
    "\n",
    "        logits = model(torch.tensor([context]))\n",
    "        probs = F.softmax(logits, dim=1)\n",
    "\n",
    "        ix = torch.multinomial(probs, num_samples=1).item()\n",
    "\n",
    "        context = context[1:] + [ix]\n",
    "        out.append(ix)\n",
    "\n",
    "        if ix==0:\n",
    "            break\n",
    "\n",
    "    print(\"\".join(itos[i] for i in out))"
   ]
  },
  {
   "cell_type": "markdown",
   "id": "8e5f13cd-c878-44b3-9e27-f02f45284254",
   "metadata": {},
   "source": [
    "### Change Dataset Context Length"
   ]
  },
  {
   "cell_type": "code",
   "execution_count": 8,
   "id": "98c22583-cc79-4693-87fb-f51ef6ed2dcf",
   "metadata": {},
   "outputs": [],
   "source": [
    "block_size = 8\n",
    "def build_dataset(words):\n",
    "    X, Y = [], []\n",
    "    \n",
    "    for w in words:\n",
    "    \n",
    "        context = [0] * block_size\n",
    "        for ch in w+\".\":\n",
    "            ix = stoi[ch]\n",
    "            X.append(context)\n",
    "            Y.append(ix)\n",
    "    \n",
    "            context = context[1:]+[ix]\n",
    "    \n",
    "    X = torch.tensor(X)\n",
    "    Y = torch.tensor(Y)   \n",
    "\n",
    "    return X, Y\n",
    "\n",
    "import random\n",
    "random.seed(42)\n",
    "random.shuffle(words)\n",
    "\n",
    "n1 = int(0.8*len(words))\n",
    "n2 = int(0.9*len(words))\n",
    "\n",
    "Xtr, Ytr = build_dataset(words[:n1])\n",
    "Xdev, Ydev = build_dataset(words[n1:n2])\n",
    "Xte, Yte = build_dataset(words[n2:])"
   ]
  },
  {
   "cell_type": "code",
   "execution_count": 9,
   "id": "0b9b7533-a281-4564-8c1d-594429851b03",
   "metadata": {},
   "outputs": [
    {
     "name": "stdout",
     "output_type": "stream",
     "text": [
      "........ ---> e\n",
      ".......e ---> b\n",
      "......eb ---> r\n",
      ".....ebr ---> i\n",
      "....ebri ---> m\n",
      "...ebrim ---> a\n",
      "..ebrima ---> .\n",
      "........ ---> h\n",
      ".......h ---> i\n",
      "......hi ---> l\n",
      ".....hil ---> t\n",
      "....hilt ---> o\n",
      "...hilto ---> n\n",
      "..hilton ---> .\n",
      "........ ---> j\n",
      ".......j ---> h\n",
      "......jh ---> e\n",
      ".....jhe ---> n\n",
      "....jhen ---> e\n",
      "...jhene ---> .\n"
     ]
    }
   ],
   "source": [
    "for x,y in zip(Xtr[:20], Ytr[:20]):\n",
    "    print(''.join(itos[ix.item()] for ix in x), '--->', itos[y.item()])"
   ]
  },
  {
   "cell_type": "code",
   "execution_count": 10,
   "id": "e3732689-cb67-4189-95c1-858c9d4b0da9",
   "metadata": {},
   "outputs": [
    {
     "name": "stdout",
     "output_type": "stream",
     "text": [
      "52024\n"
     ]
    }
   ],
   "source": [
    "n_embed = 10\n",
    "n_hidden = 100\n",
    "g = torch.Generator().manual_seed(2147483647)\n",
    "\n",
    "# C = torch.randn((vocab_size, n_embed), generator=g)\n",
    "layers = [\n",
    "    \n",
    "  Embedding(vocab_size, n_embed),\n",
    "  Flatten(),\n",
    "  Linear(n_embed * block_size, n_hidden, bias=False), BatchNorm1d(n_hidden), Tanh(),\n",
    "  Linear(           n_hidden, n_hidden, bias=False), BatchNorm1d(n_hidden), Tanh(),\n",
    "  Linear(           n_hidden, n_hidden, bias=False), BatchNorm1d(n_hidden), Tanh(),\n",
    "  Linear(           n_hidden, n_hidden, bias=False), BatchNorm1d(n_hidden), Tanh(),\n",
    "  Linear(           n_hidden, n_hidden, bias=False), BatchNorm1d(n_hidden), Tanh(),\n",
    "  Linear(           n_hidden, vocab_size, bias=False), BatchNorm1d(vocab_size),\n",
    "]\n",
    "\n",
    "\n",
    "model = Sequential([\n",
    "  Embedding(vocab_size, n_embed),\n",
    "  Flatten(),\n",
    "  Linear(n_embed * block_size, n_hidden, bias=False), BatchNorm1d(n_hidden), Tanh(),\n",
    "  Linear(           n_hidden, n_hidden, bias=False), BatchNorm1d(n_hidden), Tanh(),\n",
    "  Linear(           n_hidden, n_hidden, bias=False), BatchNorm1d(n_hidden), Tanh(),\n",
    "  Linear(           n_hidden, n_hidden, bias=False), BatchNorm1d(n_hidden), Tanh(),\n",
    "  Linear(           n_hidden, n_hidden, bias=False), BatchNorm1d(n_hidden), Tanh(),\n",
    "  Linear(           n_hidden, vocab_size, bias=False), BatchNorm1d(vocab_size),\n",
    "])\n",
    "\n",
    "with torch.no_grad():\n",
    "  # last layer: make less confident\n",
    "  layers[-1].gamma *= 0.1\n",
    "  #layers[-1].weight *= 0.1\n",
    "  # all other layers: apply gain\n",
    "  for layer in layers[:-1]:\n",
    "    if isinstance(layer, Linear):\n",
    "      layer.weight *= 1.0 #5/3\n",
    "\n",
    "parameters = model.parameters()\n",
    "print(sum(p.nelement() for p in parameters)) # number of parameters in total\n",
    "for p in parameters:\n",
    "  p.requires_grad = True"
   ]
  },
  {
   "cell_type": "markdown",
   "id": "e0bbbf16-ffe9-417b-8dee-1dcd67e6a9bd",
   "metadata": {},
   "source": [
    "Number of parameters has increased but still not much effective. because crushing too much information at the first layer"
   ]
  },
  {
   "cell_type": "markdown",
   "id": "95581f3c-50e5-49fc-8843-fca97539a723",
   "metadata": {},
   "source": [
    "#### Training"
   ]
  },
  {
   "cell_type": "code",
   "execution_count": 14,
   "id": "aac4da38-9e1e-4fca-a238-f208e9e7121f",
   "metadata": {},
   "outputs": [],
   "source": [
    "device = torch.device(\"cuda\" if torch.cuda.is_available() else \"cpu\")\n",
    "device = \"cpu\"\n",
    "Xtr, Ytr = Xtr.to(device), Ytr.to(device)\n",
    "for p in parameters:\n",
    "    p = p.to(device)"
   ]
  },
  {
   "cell_type": "code",
   "execution_count": 15,
   "id": "024704e1-d3da-40c5-8fc1-7db56c70c866",
   "metadata": {},
   "outputs": [
    {
     "name": "stdout",
     "output_type": "stream",
     "text": [
      "      0/ 200000: 3.5122\n",
      "  10000/ 200000: 2.3321\n",
      "  20000/ 200000: 1.8866\n",
      "  30000/ 200000: 1.8489\n",
      "  40000/ 200000: 2.2040\n",
      "  50000/ 200000: 2.1646\n",
      "  60000/ 200000: 1.8606\n",
      "  70000/ 200000: 1.9460\n",
      "  80000/ 200000: 2.0502\n",
      "  90000/ 200000: 2.1754\n",
      " 100000/ 200000: 1.6681\n",
      " 110000/ 200000: 2.2135\n",
      " 120000/ 200000: 1.8240\n",
      " 130000/ 200000: 2.2933\n",
      " 140000/ 200000: 2.1262\n",
      " 150000/ 200000: 1.9064\n",
      " 160000/ 200000: 1.6681\n",
      " 170000/ 200000: 2.1288\n",
      " 180000/ 200000: 2.1957\n",
      " 190000/ 200000: 2.0349\n",
      "CPU times: user 1h 1min 49s, sys: 9.68 s, total: 1h 1min 58s\n",
      "Wall time: 10min 39s\n"
     ]
    }
   ],
   "source": [
    "%%time\n",
    "\n",
    "max_steps = 200000\n",
    "batch_size = 32\n",
    "lossi = []\n",
    "ud = []\n",
    "\n",
    "for i in range(max_steps):\n",
    "\n",
    "    #minibatch\n",
    "    ix = torch.randint(0, Xtr.shape[0], (batch_size,))\n",
    "    ix = ix.to(device)\n",
    "    Xb, Yb = Xtr[ix], Ytr[ix]\n",
    "\n",
    "    Xb = Xb.to(device)\n",
    "    Yb = Yb.to(device)\n",
    "    # emb = C[Xb]\n",
    "    # x = emb.view(-1, block_size * n_embed)\n",
    "    \n",
    "    # x = Xb\n",
    "    # for layer in layers:\n",
    "    #     x = layer(x)\n",
    "\n",
    "    logits = model(Xb)\n",
    "    \n",
    "    # loss = F.cross_entropy(x, Yb)\n",
    "    loss = F.cross_entropy(logits, Yb)\n",
    "\n",
    "     # backward pass\n",
    "    # for layer in layers:\n",
    "    #   layer.out.retain_grad() # AFTER_DEBUG: would take out retain_graph\n",
    "      \n",
    "    for p in parameters:\n",
    "        p.grad = None\n",
    "\n",
    "    loss.backward()\n",
    "\n",
    "    lr = 0.1 if i<100000 else 0.01\n",
    "    for p in parameters:\n",
    "        p.data += -lr * p.grad\n",
    "        \n",
    "    # track stats\n",
    "    if i % 10000 == 0: # print every once in a while\n",
    "      print(f'{i:7d}/{max_steps:7d}: {loss.item():.4f}')\n",
    "    lossi.append(loss.log10().item())\n",
    "\n",
    "    with torch.no_grad(): #checks how large are the update compared to values\n",
    "        ud.append([((lr*p.grad).std() / p.data.std()).log10().item() for p in parameters])\n",
    "\n",
    "    # if i >= 1000:\n",
    "    # break # AFTER_DEBUG: would take out obviously to run full optimization\n",
    "    # if i % 10000 == 0: # print every once in a while\n",
    "    #   print(f'{i:7d}/{max_steps:7d}: {loss.item():.4f}')\n",
    "    # lossi.append(loss.log10().item())"
   ]
  },
  {
   "cell_type": "code",
   "execution_count": 16,
   "id": "35635f07-9eae-48df-958f-9a1c6b5a14ff",
   "metadata": {},
   "outputs": [],
   "source": [
    "for layer in model.layers:\n",
    "    layer.training = False"
   ]
  },
  {
   "cell_type": "code",
   "execution_count": 17,
   "id": "554a35ce-628c-4293-96b8-d3679c4c3d2a",
   "metadata": {},
   "outputs": [
    {
     "name": "stdout",
     "output_type": "stream",
     "text": [
      "train 1.8525460958480835\n",
      "dev 1.999637484550476\n"
     ]
    }
   ],
   "source": [
    "@torch.no_grad()\n",
    "def split_loss(split):\n",
    "    x, y = {\n",
    "       \"train\" : (Xtr, Ytr),\n",
    "        \"test\" : (Xte, Yte),\n",
    "        \"dev\": (Xdev, Ydev)\n",
    "    }[split] \n",
    "\n",
    "    logits = model(x)\n",
    "    \n",
    "    loss = F.cross_entropy(logits, y)\n",
    "    print(split, loss.item()) \n",
    "\n",
    "split_loss(\"train\")\n",
    "split_loss(\"dev\")"
   ]
  },
  {
   "cell_type": "markdown",
   "id": "d1c62465-6d1a-4008-b6f4-c1b32b5f4033",
   "metadata": {},
   "source": [
    "Increasing context length has reduced the loss but still a lot of information being squashed at the first layer"
   ]
  },
  {
   "cell_type": "markdown",
   "id": "b35da6af-6f08-4dc6-bfee-258bf94c97b0",
   "metadata": {},
   "source": [
    "#### Logging"
   ]
  },
  {
   "cell_type": "markdown",
   "id": "3a3c2ba6-0cde-4eb8-9eea-98366ac8acd4",
   "metadata": {},
   "source": [
    "Context len: 3 loss: 2.10\n",
    "Context len: 8 loss: 1.99"
   ]
  },
  {
   "cell_type": "markdown",
   "id": "322c3e06-cb63-49a1-9e2f-e1db7e41ba49",
   "metadata": {},
   "source": [
    "#### Scratch space"
   ]
  },
  {
   "cell_type": "code",
   "execution_count": 19,
   "id": "041a060b-5b4c-4c3c-b0d0-41eb809a010a",
   "metadata": {},
   "outputs": [
    {
     "name": "stdout",
     "output_type": "stream",
     "text": [
      "torch.Size([4, 8])\n"
     ]
    },
    {
     "data": {
      "text/plain": [
       "tensor([[ 0,  0,  0,  0, 26,  1,  6,  9],\n",
       "        [ 0,  0,  0,  0,  0,  0,  0,  1],\n",
       "        [ 0,  0,  0,  0,  0,  0,  0,  0],\n",
       "        [ 0,  0,  0,  0,  0,  0, 16, 18]])"
      ]
     },
     "execution_count": 19,
     "metadata": {},
     "output_type": "execute_result"
    }
   ],
   "source": [
    "ix = torch.randint(0, Xtr.shape[0], (4,))\n",
    "Xb, Yb = Xtr[ix], Ytr[ix]\n",
    "logits = model(Xb)\n",
    "print(Xb.shape)\n",
    "Xb"
   ]
  },
  {
   "cell_type": "code",
   "execution_count": 20,
   "id": "c070bd11-c019-471f-ad77-ec354e5c55ef",
   "metadata": {},
   "outputs": [
    {
     "data": {
      "text/plain": [
       "torch.Size([4, 8, 10])"
      ]
     },
     "execution_count": 20,
     "metadata": {},
     "output_type": "execute_result"
    }
   ],
   "source": [
    "model.layers[0].out.shape #embedding layer"
   ]
  },
  {
   "cell_type": "code",
   "execution_count": 21,
   "id": "f455fcbd-7eac-4dcc-922d-e7c781fd48d8",
   "metadata": {},
   "outputs": [
    {
     "data": {
      "text/plain": [
       "torch.Size([4, 80])"
      ]
     },
     "execution_count": 21,
     "metadata": {},
     "output_type": "execute_result"
    }
   ],
   "source": [
    "model.layers[1].out.shape #flatten layer"
   ]
  },
  {
   "cell_type": "code",
   "execution_count": 23,
   "id": "6b30ad85-5f6b-4c3c-a129-644edecedd49",
   "metadata": {},
   "outputs": [
    {
     "data": {
      "text/plain": [
       "torch.Size([4, 100])"
      ]
     },
     "execution_count": 23,
     "metadata": {},
     "output_type": "execute_result"
    }
   ],
   "source": [
    "\n",
    "model.layers[2].out.shape #linear layer"
   ]
  },
  {
   "cell_type": "code",
   "execution_count": 24,
   "id": "c7d331d4-98bb-4feb-ad68-09a0c84827ec",
   "metadata": {},
   "outputs": [
    {
     "data": {
      "text/plain": [
       "torch.Size([4, 100])"
      ]
     },
     "execution_count": 24,
     "metadata": {},
     "output_type": "execute_result"
    }
   ],
   "source": [
    "(torch.randn(4, 80) @ torch.randn(80,100) + torch.randn(100)).shape"
   ]
  },
  {
   "cell_type": "code",
   "execution_count": 25,
   "id": "f211ad40-9566-4958-b443-8e246adbf1be",
   "metadata": {},
   "outputs": [
    {
     "data": {
      "text/plain": [
       "torch.Size([4, 5, 100])"
      ]
     },
     "execution_count": 25,
     "metadata": {},
     "output_type": "execute_result"
    }
   ],
   "source": [
    "\n",
    "(torch.randn(4,5, 80) @ torch.randn(80,100) + torch.randn(100)).shape"
   ]
  },
  {
   "cell_type": "markdown",
   "id": "3f632e21-8608-4792-977a-188135fca029",
   "metadata": {},
   "source": [
    "any batch dimension can be added before the last dimension"
   ]
  },
  {
   "cell_type": "markdown",
   "id": "29dc8ef3-8a14-4ee0-99a7-a394b1aec6e1",
   "metadata": {},
   "source": [
    "we want to create 4 extra batch dimension corresponding to 4 bigram groups"
   ]
  },
  {
   "cell_type": "markdown",
   "id": "e17a96cf-d116-4257-9480-cb79fc3006b8",
   "metadata": {},
   "source": [
    "Two consecutive characters packed into one group at the last dimenstion\n",
    "(1, 2), (3, 4), (5, 6), (7, 8). We need to change the flatten layer"
   ]
  },
  {
   "cell_type": "code",
   "execution_count": 31,
   "id": "2b1637d2-351f-4c5e-bf3e-5d208a584f44",
   "metadata": {},
   "outputs": [
    {
     "data": {
      "text/plain": [
       "torch.Size([4, 8, 10])"
      ]
     },
     "execution_count": 31,
     "metadata": {},
     "output_type": "execute_result"
    }
   ],
   "source": [
    "e = torch.randn(4, 8, 10) # want this to be (4, 2, 20) where consecutive 10D vectors get concatenated\n",
    "e.shape"
   ]
  },
  {
   "cell_type": "code",
   "execution_count": 26,
   "id": "9981a842-360e-4936-b555-1ff08fe3f79f",
   "metadata": {},
   "outputs": [
    {
     "name": "stdout",
     "output_type": "stream",
     "text": [
      "[0, 2, 4, 6, 8]\n",
      "[1, 3, 5, 7, 9]\n"
     ]
    }
   ],
   "source": [
    "#even parts \n",
    "print(list(range(10))[::2])\n",
    "#odd parts\n",
    "print(list(range(10))[1::2])"
   ]
  },
  {
   "cell_type": "code",
   "execution_count": 29,
   "id": "f132e229-ac2e-4747-a6e6-d899ad7684bd",
   "metadata": {},
   "outputs": [
    {
     "data": {
      "text/plain": [
       "torch.Size([4, 4, 10])"
      ]
     },
     "execution_count": 29,
     "metadata": {},
     "output_type": "execute_result"
    }
   ],
   "source": [
    "#even parts\n",
    "e[:,::2,:].shape"
   ]
  },
  {
   "cell_type": "code",
   "execution_count": 30,
   "id": "73d1ebbd-8727-48af-bc69-9a2c05f3252f",
   "metadata": {},
   "outputs": [
    {
     "data": {
      "text/plain": [
       "torch.Size([4, 4, 10])"
      ]
     },
     "execution_count": 30,
     "metadata": {},
     "output_type": "execute_result"
    }
   ],
   "source": [
    "#odd parts\n",
    "e[:,1::2,:].shape"
   ]
  },
  {
   "cell_type": "code",
   "execution_count": 32,
   "id": "3405599d-0f30-429d-b2de-d27333dbd576",
   "metadata": {},
   "outputs": [
    {
     "data": {
      "text/plain": [
       "torch.Size([4, 4, 20])"
      ]
     },
     "execution_count": 32,
     "metadata": {},
     "output_type": "execute_result"
    }
   ],
   "source": [
    "torch.cat((e[:,::2,:], e[:,1::2,:]), dim=2).shape"
   ]
  },
  {
   "cell_type": "markdown",
   "id": "03fc62d5-7a90-466f-a6bb-2dd4c46f85c6",
   "metadata": {},
   "source": [
    "we can concatenate the even and odd parts to obtain consecutive characters"
   ]
  },
  {
   "cell_type": "code",
   "execution_count": 37,
   "id": "ab1e6072-2a66-4df8-91ab-4c82c583f61f",
   "metadata": {},
   "outputs": [
    {
     "data": {
      "text/plain": [
       "tensor(True)"
      ]
     },
     "execution_count": 37,
     "metadata": {},
     "output_type": "execute_result"
    }
   ],
   "source": [
    "(e.view(4,4,20)==torch.cat((e[:,::2,:], e[:,1::2,:]), dim=2)).all()"
   ]
  },
  {
   "cell_type": "code",
   "execution_count": null,
   "id": "e0efbf2d-8b7f-4169-b484-575f3105a019",
   "metadata": {},
   "outputs": [],
   "source": []
  }
 ],
 "metadata": {
  "kernelspec": {
   "display_name": "Python 3 (ipykernel)",
   "language": "python",
   "name": "python3"
  },
  "language_info": {
   "codemirror_mode": {
    "name": "ipython",
    "version": 3
   },
   "file_extension": ".py",
   "mimetype": "text/x-python",
   "name": "python",
   "nbconvert_exporter": "python",
   "pygments_lexer": "ipython3",
   "version": "3.11.9"
  }
 },
 "nbformat": 4,
 "nbformat_minor": 5
}
