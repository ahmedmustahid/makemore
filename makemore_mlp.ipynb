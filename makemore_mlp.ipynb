{
 "cells": [
  {
   "cell_type": "code",
   "execution_count": 1,
   "id": "314d24e1-4dd0-4788-a6fa-5653e1e1269a",
   "metadata": {},
   "outputs": [],
   "source": [
    "import torch\n",
    "import torch.nn.functional as F\n",
    "import matplotlib.pyplot as plt\n",
    "%matplotlib inline"
   ]
  },
  {
   "cell_type": "code",
   "execution_count": 2,
   "id": "ef90965f-647e-456a-a2da-463d4cabbd74",
   "metadata": {},
   "outputs": [],
   "source": [
    "words = open(\"names.txt\", \"r\").read().splitlines()"
   ]
  },
  {
   "cell_type": "code",
   "execution_count": 3,
   "id": "6cd15b58-a655-4eba-a158-1ea4e92875d4",
   "metadata": {},
   "outputs": [
    {
     "data": {
      "text/plain": [
       "'emmaoliviaavaisabella'"
      ]
     },
     "execution_count": 3,
     "metadata": {},
     "output_type": "execute_result"
    }
   ],
   "source": [
    "\"\".join(words[:4])"
   ]
  },
  {
   "cell_type": "code",
   "execution_count": 4,
   "id": "30a56388-03c0-4b62-ba68-19186290314f",
   "metadata": {},
   "outputs": [
    {
     "data": {
      "text/plain": [
       "{'a', 'b', 'e', 'i', 'l', 'm', 'o', 's', 'v'}"
      ]
     },
     "execution_count": 4,
     "metadata": {},
     "output_type": "execute_result"
    }
   ],
   "source": [
    "set(\"\".join(words[:4]))"
   ]
  },
  {
   "cell_type": "code",
   "execution_count": 3,
   "id": "8977a2a1-e22c-4685-9980-761e8c0b3580",
   "metadata": {},
   "outputs": [],
   "source": [
    "chars = sorted(list(set(\"\".join(words))))\n",
    "stoi = {s:i+1 for i,s in enumerate(chars)}\n",
    "stoi[\".\"] = 0\n",
    "itos = {i:s for s,i in stoi.items()}"
   ]
  },
  {
   "cell_type": "code",
   "execution_count": 10,
   "id": "83cdddde-25c5-4150-b7aa-39908fc09dcc",
   "metadata": {},
   "outputs": [
    {
     "data": {
      "text/plain": [
       "{1: 'a',\n",
       " 2: 'b',\n",
       " 3: 'c',\n",
       " 4: 'd',\n",
       " 5: 'e',\n",
       " 6: 'f',\n",
       " 7: 'g',\n",
       " 8: 'h',\n",
       " 9: 'i',\n",
       " 10: 'j',\n",
       " 11: 'k',\n",
       " 12: 'l',\n",
       " 13: 'm',\n",
       " 14: 'n',\n",
       " 15: 'o',\n",
       " 16: 'p',\n",
       " 17: 'q',\n",
       " 18: 'r',\n",
       " 19: 's',\n",
       " 20: 't',\n",
       " 21: 'u',\n",
       " 22: 'v',\n",
       " 23: 'w',\n",
       " 24: 'x',\n",
       " 25: 'y',\n",
       " 26: 'z',\n",
       " 0: '.'}"
      ]
     },
     "execution_count": 10,
     "metadata": {},
     "output_type": "execute_result"
    }
   ],
   "source": [
    "itos"
   ]
  },
  {
   "cell_type": "markdown",
   "id": "f9557c16-40eb-4c73-8803-957ab78a9d2e",
   "metadata": {},
   "source": [
    "### Build Dataset"
   ]
  },
  {
   "cell_type": "code",
   "execution_count": 7,
   "id": "d2de39c9-c05c-4d6b-be78-f67d6021b8b4",
   "metadata": {
    "scrolled": true
   },
   "outputs": [
    {
     "name": "stdout",
     "output_type": "stream",
     "text": [
      "emma\n",
      "... ----> e\n",
      "..e ----> m\n",
      ".em ----> m\n",
      "emm ----> a\n",
      "mma ----> .\n",
      "olivia\n",
      "... ----> o\n",
      "..o ----> l\n",
      ".ol ----> i\n",
      "oli ----> v\n",
      "liv ----> i\n",
      "ivi ----> a\n",
      "via ----> .\n",
      "ava\n",
      "... ----> a\n",
      "..a ----> v\n",
      ".av ----> a\n",
      "ava ----> .\n",
      "isabella\n",
      "... ----> i\n",
      "..i ----> s\n",
      ".is ----> a\n",
      "isa ----> b\n",
      "sab ----> e\n",
      "abe ----> l\n",
      "bel ----> l\n",
      "ell ----> a\n",
      "lla ----> .\n",
      "sophia\n",
      "... ----> s\n",
      "..s ----> o\n",
      ".so ----> p\n",
      "sop ----> h\n",
      "oph ----> i\n",
      "phi ----> a\n",
      "hia ----> .\n"
     ]
    }
   ],
   "source": [
    "block_size = 3\n",
    "X, Y = [], []\n",
    "\n",
    "for w in words[:5]:\n",
    "    print(w)\n",
    "\n",
    "    context = [0] * block_size\n",
    "    for ch in w+\".\":\n",
    "        ix = stoi[ch]\n",
    "        X.append(context)\n",
    "        Y.append(ix)\n",
    "        print(\"\".join(itos[i] for i in context), \"---->\", itos[ix])\n",
    "\n",
    "        context = context[1:]+[ix]\n",
    "\n",
    "X = torch.tensor(X)\n",
    "Y = torch.tensor(Y)"
   ]
  },
  {
   "cell_type": "code",
   "execution_count": 8,
   "id": "399c2c34-8dab-4f64-a8d1-af650c4f67e1",
   "metadata": {},
   "outputs": [
    {
     "data": {
      "text/plain": [
       "(torch.Size([32, 3]), torch.int64, torch.Size([32]), torch.int64)"
      ]
     },
     "execution_count": 8,
     "metadata": {},
     "output_type": "execute_result"
    }
   ],
   "source": [
    "X.shape, X.dtype, Y.shape, Y.dtype"
   ]
  },
  {
   "cell_type": "markdown",
   "id": "d06ffd4f-daae-42ff-a357-d6f6e6e99ce0",
   "metadata": {},
   "source": [
    "### Embedding Lookup table"
   ]
  },
  {
   "cell_type": "code",
   "execution_count": 13,
   "id": "aa574344-a488-4b86-9b73-1ea99f16dc8c",
   "metadata": {},
   "outputs": [],
   "source": [
    "C = torch.randn((27,2))"
   ]
  },
  {
   "cell_type": "code",
   "execution_count": 14,
   "id": "f96eea37-141c-4c79-bc74-88e58f4c929c",
   "metadata": {},
   "outputs": [
    {
     "data": {
      "text/plain": [
       "tensor([-1.6058, -0.0563])"
      ]
     },
     "execution_count": 14,
     "metadata": {},
     "output_type": "execute_result"
    }
   ],
   "source": [
    "C[5]"
   ]
  },
  {
   "cell_type": "code",
   "execution_count": 16,
   "id": "793552eb-47cf-43be-9726-e17cfb0ef28d",
   "metadata": {},
   "outputs": [
    {
     "data": {
      "text/plain": [
       "torch.Size([27, 2])"
      ]
     },
     "execution_count": 16,
     "metadata": {},
     "output_type": "execute_result"
    }
   ],
   "source": [
    "C.shape"
   ]
  },
  {
   "cell_type": "code",
   "execution_count": 18,
   "id": "230b55f1-55f4-492f-a666-bdc41cfd18e0",
   "metadata": {},
   "outputs": [
    {
     "data": {
      "text/plain": [
       "tensor([-1.6058, -0.0563])"
      ]
     },
     "execution_count": 18,
     "metadata": {},
     "output_type": "execute_result"
    }
   ],
   "source": [
    "F.one_hot(torch.tensor(5), num_classes=27).float() @ C"
   ]
  },
  {
   "cell_type": "markdown",
   "id": "44b5571a-7cd1-455e-ad5f-02b1cbd48b5f",
   "metadata": {},
   "source": [
    "we'll just index instead of one hot"
   ]
  },
  {
   "cell_type": "code",
   "execution_count": 19,
   "id": "e17fde00-5f2d-4b09-8627-1fe9dc7c26a2",
   "metadata": {},
   "outputs": [
    {
     "data": {
      "text/plain": [
       "tensor([-1.6558,  0.8278])"
      ]
     },
     "execution_count": 19,
     "metadata": {},
     "output_type": "execute_result"
    }
   ],
   "source": [
    "C[1]"
   ]
  },
  {
   "cell_type": "code",
   "execution_count": 20,
   "id": "6a9e9a90-7a16-4ecc-b7de-bdd48f71557b",
   "metadata": {},
   "outputs": [
    {
     "data": {
      "text/plain": [
       "tensor(1)"
      ]
     },
     "execution_count": 20,
     "metadata": {},
     "output_type": "execute_result"
    }
   ],
   "source": [
    "X[13,2]"
   ]
  },
  {
   "cell_type": "code",
   "execution_count": 21,
   "id": "d212838d-4a13-4ae4-a36c-f38c8ec9691e",
   "metadata": {},
   "outputs": [
    {
     "data": {
      "text/plain": [
       "tensor([-1.6558,  0.8278])"
      ]
     },
     "execution_count": 21,
     "metadata": {},
     "output_type": "execute_result"
    }
   ],
   "source": [
    "C[X][13,2]"
   ]
  },
  {
   "cell_type": "code",
   "execution_count": 22,
   "id": "02fd60c7-d63e-4d4c-badb-a7e8e4d2c119",
   "metadata": {},
   "outputs": [
    {
     "data": {
      "text/plain": [
       "torch.Size([32, 3, 2])"
      ]
     },
     "execution_count": 22,
     "metadata": {},
     "output_type": "execute_result"
    }
   ],
   "source": [
    "C[X].shape"
   ]
  },
  {
   "cell_type": "markdown",
   "id": "be9495fe-33a6-4edb-8394-d56efba4698f",
   "metadata": {},
   "source": [
    "take every element of X and pass each as index of C"
   ]
  },
  {
   "cell_type": "code",
   "execution_count": 23,
   "id": "78130eb7-9e2e-4865-93b9-57d2e6777401",
   "metadata": {},
   "outputs": [
    {
     "data": {
      "text/plain": [
       "torch.Size([32, 3, 2])"
      ]
     },
     "execution_count": 23,
     "metadata": {},
     "output_type": "execute_result"
    }
   ],
   "source": [
    "emb = C[X]\n",
    "emb.shape"
   ]
  },
  {
   "cell_type": "markdown",
   "id": "29cb2904-dfb6-4f9f-ac13-76f9aabe34c3",
   "metadata": {},
   "source": [
    "#### Layer 1"
   ]
  },
  {
   "cell_type": "code",
   "execution_count": 24,
   "id": "a6bb72d1-97ca-4fe7-8e20-b743e7cb101b",
   "metadata": {},
   "outputs": [],
   "source": [
    "W1 = torch.randn((6,100))\n",
    "b1 = torch.randn(100)"
   ]
  },
  {
   "cell_type": "markdown",
   "id": "c046f441-527f-4d87-a850-c4ad30cd8dbd",
   "metadata": {},
   "source": [
    "C[X] => the 3 embeddings need to be concatenated"
   ]
  },
  {
   "cell_type": "code",
   "execution_count": 26,
   "id": "c9916c0d-75a7-4376-b312-826a3ff170b8",
   "metadata": {},
   "outputs": [
    {
     "data": {
      "text/plain": [
       "torch.Size([32, 6])"
      ]
     },
     "execution_count": 26,
     "metadata": {},
     "output_type": "execute_result"
    }
   ],
   "source": [
    "torch.cat([emb[:, 0, :], emb[:, 1, :], emb[:, 2, :]], dim=1).shape"
   ]
  },
  {
   "cell_type": "code",
   "execution_count": 27,
   "id": "4fc24e0f-0cbd-4d0f-bc95-843d1b29c9f7",
   "metadata": {},
   "outputs": [
    {
     "data": {
      "text/plain": [
       "3"
      ]
     },
     "execution_count": 27,
     "metadata": {},
     "output_type": "execute_result"
    }
   ],
   "source": [
    "len(torch.unbind(emb,1))"
   ]
  },
  {
   "cell_type": "code",
   "execution_count": 29,
   "id": "b0d57b3c-1237-4946-90b4-3ca7bcf35e7c",
   "metadata": {},
   "outputs": [
    {
     "data": {
      "text/plain": [
       "tensor([ 0,  1,  2,  3,  4,  5,  6,  7,  8,  9, 10, 11, 12, 13, 14, 15, 16, 17])"
      ]
     },
     "execution_count": 29,
     "metadata": {},
     "output_type": "execute_result"
    }
   ],
   "source": [
    "a = torch.arange(18)\n",
    "a"
   ]
  },
  {
   "cell_type": "code",
   "execution_count": 30,
   "id": "3f56d1c8-91ac-4b7f-9854-af57d67ee31e",
   "metadata": {},
   "outputs": [
    {
     "data": {
      "text/plain": [
       "tensor([[ 0,  1],\n",
       "        [ 2,  3],\n",
       "        [ 4,  5],\n",
       "        [ 6,  7],\n",
       "        [ 8,  9],\n",
       "        [10, 11],\n",
       "        [12, 13],\n",
       "        [14, 15],\n",
       "        [16, 17]])"
      ]
     },
     "execution_count": 30,
     "metadata": {},
     "output_type": "execute_result"
    }
   ],
   "source": [
    "a.view(9,2)"
   ]
  },
  {
   "cell_type": "code",
   "execution_count": 31,
   "id": "1c21bab8-11fc-4c86-a0ab-2ef03c27e8d4",
   "metadata": {},
   "outputs": [
    {
     "data": {
      "text/plain": [
       "tensor([[[ 0,  1],\n",
       "         [ 2,  3],\n",
       "         [ 4,  5]],\n",
       "\n",
       "        [[ 6,  7],\n",
       "         [ 8,  9],\n",
       "         [10, 11]],\n",
       "\n",
       "        [[12, 13],\n",
       "         [14, 15],\n",
       "         [16, 17]]])"
      ]
     },
     "execution_count": 31,
     "metadata": {},
     "output_type": "execute_result"
    }
   ],
   "source": [
    "a.view(3,3,2)"
   ]
  },
  {
   "cell_type": "markdown",
   "id": "03fbadbd-4f62-48fb-9775-7b588467a07c",
   "metadata": {},
   "source": [
    "no memory is copied when viewed. just interpretation is changed"
   ]
  },
  {
   "cell_type": "code",
   "execution_count": 32,
   "id": "792b912a-2dda-4f5b-9e5f-87540ee220c5",
   "metadata": {},
   "outputs": [
    {
     "data": {
      "text/plain": [
       "tensor([[-1.6102, -0.1468, -1.6102, -0.1468, -1.6102, -0.1468],\n",
       "        [-1.6102, -0.1468, -1.6102, -0.1468, -1.6058, -0.0563],\n",
       "        [-1.6102, -0.1468, -1.6058, -0.0563,  0.2482, -0.4006],\n",
       "        [-1.6058, -0.0563,  0.2482, -0.4006,  0.2482, -0.4006],\n",
       "        [ 0.2482, -0.4006,  0.2482, -0.4006, -1.6558,  0.8278],\n",
       "        [-1.6102, -0.1468, -1.6102, -0.1468, -1.6102, -0.1468],\n",
       "        [-1.6102, -0.1468, -1.6102, -0.1468, -0.7134, -0.5332],\n",
       "        [-1.6102, -0.1468, -0.7134, -0.5332, -0.4005,  1.2352],\n",
       "        [-0.7134, -0.5332, -0.4005,  1.2352, -1.0746,  0.5261],\n",
       "        [-0.4005,  1.2352, -1.0746,  0.5261,  1.5129,  1.3195],\n",
       "        [-1.0746,  0.5261,  1.5129,  1.3195, -1.0746,  0.5261],\n",
       "        [ 1.5129,  1.3195, -1.0746,  0.5261, -1.6558,  0.8278],\n",
       "        [-1.6102, -0.1468, -1.6102, -0.1468, -1.6102, -0.1468],\n",
       "        [-1.6102, -0.1468, -1.6102, -0.1468, -1.6558,  0.8278],\n",
       "        [-1.6102, -0.1468, -1.6558,  0.8278,  1.5129,  1.3195],\n",
       "        [-1.6558,  0.8278,  1.5129,  1.3195, -1.6558,  0.8278],\n",
       "        [-1.6102, -0.1468, -1.6102, -0.1468, -1.6102, -0.1468],\n",
       "        [-1.6102, -0.1468, -1.6102, -0.1468, -1.0746,  0.5261],\n",
       "        [-1.6102, -0.1468, -1.0746,  0.5261,  1.0871,  1.3214],\n",
       "        [-1.0746,  0.5261,  1.0871,  1.3214, -1.6558,  0.8278],\n",
       "        [ 1.0871,  1.3214, -1.6558,  0.8278, -0.7575,  0.0361],\n",
       "        [-1.6558,  0.8278, -0.7575,  0.0361, -1.6058, -0.0563],\n",
       "        [-0.7575,  0.0361, -1.6058, -0.0563, -0.4005,  1.2352],\n",
       "        [-1.6058, -0.0563, -0.4005,  1.2352, -0.4005,  1.2352],\n",
       "        [-0.4005,  1.2352, -0.4005,  1.2352, -1.6558,  0.8278],\n",
       "        [-1.6102, -0.1468, -1.6102, -0.1468, -1.6102, -0.1468],\n",
       "        [-1.6102, -0.1468, -1.6102, -0.1468,  1.0871,  1.3214],\n",
       "        [-1.6102, -0.1468,  1.0871,  1.3214, -0.7134, -0.5332],\n",
       "        [ 1.0871,  1.3214, -0.7134, -0.5332,  0.4164, -0.2087],\n",
       "        [-0.7134, -0.5332,  0.4164, -0.2087,  0.0867,  1.6660],\n",
       "        [ 0.4164, -0.2087,  0.0867,  1.6660, -1.0746,  0.5261],\n",
       "        [ 0.0867,  1.6660, -1.0746,  0.5261, -1.6558,  0.8278]])"
      ]
     },
     "execution_count": 32,
     "metadata": {},
     "output_type": "execute_result"
    }
   ],
   "source": [
    "emb.view(32,6)"
   ]
  },
  {
   "cell_type": "code",
   "execution_count": 33,
   "id": "563279ba-d17b-4377-b4db-8aacbce57750",
   "metadata": {},
   "outputs": [],
   "source": [
    "h = emb.view(-1, 6) @ W1 + b1"
   ]
  },
  {
   "cell_type": "code",
   "execution_count": 35,
   "id": "383147bb-17f7-489f-a3a9-2db58241b096",
   "metadata": {},
   "outputs": [
    {
     "data": {
      "text/plain": [
       "torch.Size([32, 100])"
      ]
     },
     "execution_count": 35,
     "metadata": {},
     "output_type": "execute_result"
    }
   ],
   "source": [
    "h.shape"
   ]
  },
  {
   "cell_type": "markdown",
   "id": "08cf20e9-c9d3-4e09-a065-975f117e66dd",
   "metadata": {},
   "source": [
    "concatenation is inefficient compared to view"
   ]
  },
  {
   "cell_type": "code",
   "execution_count": 36,
   "id": "700c5c20-926f-4110-b4b1-af92f43e8731",
   "metadata": {},
   "outputs": [],
   "source": [
    "h = torch.tanh(emb.view(-1, 6) @ W1 + b1)"
   ]
  },
  {
   "cell_type": "code",
   "execution_count": 37,
   "id": "f28130a4-ed00-4f9d-ab3b-b594e30a3720",
   "metadata": {},
   "outputs": [
    {
     "data": {
      "text/plain": [
       "torch.Size([32, 100])"
      ]
     },
     "execution_count": 37,
     "metadata": {},
     "output_type": "execute_result"
    }
   ],
   "source": [
    "h.shape"
   ]
  },
  {
   "cell_type": "code",
   "execution_count": 38,
   "id": "e07bfb52-de97-4ea1-8daa-c82450bb1f05",
   "metadata": {},
   "outputs": [
    {
     "data": {
      "text/plain": [
       "tensor([[-0.9468,  0.3974, -0.9903,  ...,  0.9957, -0.9916, -0.8656],\n",
       "        [-0.9356,  0.4128, -0.9937,  ...,  0.9958, -0.9929, -0.8789],\n",
       "        [ 0.4031, -0.9265, -0.7942,  ...,  0.9787,  0.9690, -0.5065],\n",
       "        ...,\n",
       "        [ 0.9784,  0.4578, -0.9996,  ..., -0.3568, -0.9530, -0.6028],\n",
       "        [-0.0860, -0.2669, -0.9967,  ..., -0.9864, -0.9996,  0.9158],\n",
       "        [-0.8321, -0.9235, -0.9993,  ...,  0.9959, -0.9993, -0.3709]])"
      ]
     },
     "execution_count": 38,
     "metadata": {},
     "output_type": "execute_result"
    }
   ],
   "source": [
    "h"
   ]
  },
  {
   "cell_type": "markdown",
   "id": "857c1a6c-dd75-43ad-a050-0fcfb002e8c0",
   "metadata": {},
   "source": [
    "#### Layer 2"
   ]
  },
  {
   "cell_type": "code",
   "execution_count": 39,
   "id": "8be37e74-d9f3-42d1-9248-f9b2cfa4262c",
   "metadata": {},
   "outputs": [],
   "source": [
    "W2 = torch.randn((100, 27))\n",
    "b2 = torch.randn(27)"
   ]
  },
  {
   "cell_type": "code",
   "execution_count": 40,
   "id": "e19baf1f-02b2-4860-9372-a707efd68ecf",
   "metadata": {},
   "outputs": [
    {
     "data": {
      "text/plain": [
       "torch.Size([32, 27])"
      ]
     },
     "execution_count": 40,
     "metadata": {},
     "output_type": "execute_result"
    }
   ],
   "source": [
    "logits = h @ W2 + b2\n",
    "logits.shape"
   ]
  },
  {
   "cell_type": "code",
   "execution_count": 42,
   "id": "5b1b0f2e-d3a3-46ba-a8ef-77481c1ea353",
   "metadata": {},
   "outputs": [],
   "source": [
    "counts = logits.exp()"
   ]
  },
  {
   "cell_type": "code",
   "execution_count": 44,
   "id": "0b72b36b-1130-4786-b1e0-3630c81bafec",
   "metadata": {},
   "outputs": [],
   "source": [
    "probs = counts/counts.sum(dim=1, keepdims = True)"
   ]
  },
  {
   "cell_type": "markdown",
   "id": "807b747f-bbf5-4d2e-b244-a7c474b7c77a",
   "metadata": {},
   "source": [
    "obtain prob for each index corresponding to the value of Y"
   ]
  },
  {
   "cell_type": "code",
   "execution_count": 45,
   "id": "876360c4-37e6-43fa-8932-711e0e37b074",
   "metadata": {},
   "outputs": [
    {
     "data": {
      "text/plain": [
       "tensor([ 5, 13, 13,  1,  0, 15, 12,  9, 22,  9,  1,  0,  1, 22,  1,  0,  9, 19,\n",
       "         1,  2,  5, 12, 12,  1,  0, 19, 15, 16,  8,  9,  1,  0])"
      ]
     },
     "execution_count": 45,
     "metadata": {},
     "output_type": "execute_result"
    }
   ],
   "source": [
    "Y"
   ]
  },
  {
   "cell_type": "code",
   "execution_count": 46,
   "id": "24a53f2b-e3ee-47f4-a691-ab7edb911298",
   "metadata": {},
   "outputs": [
    {
     "data": {
      "text/plain": [
       "tensor([9.6833e-01, 3.2665e-09, 2.3291e-09, 1.5504e-09, 1.3050e-10, 3.4718e-09,\n",
       "        2.6831e-18, 1.7874e-10, 2.2824e-11, 6.1442e-10, 4.2551e-12, 2.3661e-13,\n",
       "        1.0851e-09, 2.2041e-08, 2.0871e-09, 7.0646e-03, 1.4510e-11, 1.9801e-10,\n",
       "        1.8765e-09, 3.3796e-11, 2.5241e-02, 6.8772e-15, 8.1102e-13, 1.0115e-10,\n",
       "        9.0794e-12, 3.2575e-13, 1.0918e-10, 1.5851e-04, 5.7997e-06, 1.1566e-15,\n",
       "        1.1049e-10, 3.1012e-13])"
      ]
     },
     "execution_count": 46,
     "metadata": {},
     "output_type": "execute_result"
    }
   ],
   "source": [
    "probs[torch.arange(32), Y]"
   ]
  },
  {
   "cell_type": "code",
   "execution_count": 48,
   "id": "61e21be2-0efb-4c49-ae05-ffe95d876dfe",
   "metadata": {},
   "outputs": [
    {
     "data": {
      "text/plain": [
       "21.617198944091797"
      ]
     },
     "execution_count": 48,
     "metadata": {},
     "output_type": "execute_result"
    }
   ],
   "source": [
    "loss = - probs[torch.arange(32), Y].log().mean()\n",
    "loss.item()"
   ]
  },
  {
   "cell_type": "markdown",
   "id": "40a9a993-fad2-467d-9552-97d431b6a2b6",
   "metadata": {},
   "source": [
    "### Overall Flow"
   ]
  },
  {
   "cell_type": "code",
   "execution_count": 51,
   "id": "a07bb9da-cc3f-4472-8915-b52c5b81e2c2",
   "metadata": {},
   "outputs": [],
   "source": [
    "g = torch.Generator().manual_seed(2147483647)\n",
    "C = torch.randn((27, 2), generator = g) #embedding matrix\n",
    "\n",
    "W1 = torch.randn((6,100), generator=g)\n",
    "b1 = torch.randn(100, generator=g)\n",
    "\n",
    "\n",
    "W2 = torch.randn((100,27), generator=g)\n",
    "b2 = torch.randn(27, generator=g)"
   ]
  },
  {
   "cell_type": "code",
   "execution_count": 55,
   "id": "ae9821fb-f1b9-4394-83b7-dc29883f0f58",
   "metadata": {},
   "outputs": [
    {
     "data": {
      "text/plain": [
       "3481"
      ]
     },
     "execution_count": 55,
     "metadata": {},
     "output_type": "execute_result"
    }
   ],
   "source": [
    "parameters = [C, W1, W2, b1, b2]\n",
    "\n",
    "sum(p.nelement() for p in parameters)"
   ]
  },
  {
   "cell_type": "code",
   "execution_count": 52,
   "id": "aa0adf1d-40f7-4f8e-97b7-8b18d95b9f67",
   "metadata": {},
   "outputs": [
    {
     "data": {
      "text/plain": [
       "17.769710540771484"
      ]
     },
     "execution_count": 52,
     "metadata": {},
     "output_type": "execute_result"
    }
   ],
   "source": [
    "emb = C[X]\n",
    "h = (emb.view(-1, 6) @ W1 + b1).tanh()\n",
    "logits = h @ W2 + b2\n",
    "counts = logits.exp()\n",
    "prob = counts / counts.sum(dim=1, keepdims=True)\n",
    "loss = - prob[torch.arange(32), Y].log().mean()\n",
    "loss.item()"
   ]
  },
  {
   "cell_type": "code",
   "execution_count": 56,
   "id": "ca5908ac-9129-4481-8f95-eac29a1830b5",
   "metadata": {},
   "outputs": [
    {
     "data": {
      "text/plain": [
       "tensor(17.7697)"
      ]
     },
     "execution_count": 56,
     "metadata": {},
     "output_type": "execute_result"
    }
   ],
   "source": [
    "F.cross_entropy(logits, Y)"
   ]
  },
  {
   "cell_type": "code",
   "execution_count": 57,
   "id": "93280569-a6c0-4ae0-b2c6-529b0ed3df7c",
   "metadata": {},
   "outputs": [
    {
     "data": {
      "text/plain": [
       "17.769712448120117"
      ]
     },
     "execution_count": 57,
     "metadata": {},
     "output_type": "execute_result"
    }
   ],
   "source": [
    "emb = C[X]\n",
    "h = (emb.view(-1, 6) @ W1 + b1).tanh()\n",
    "logits = h @ W2 + b2\n",
    "# counts = logits.exp()\n",
    "# prob = counts / counts.sum(dim=1, keepdims=True)\n",
    "# loss = - prob[torch.arange(32), Y].log().mean()\n",
    "loss = F.cross_entropy(logits, Y)\n",
    "loss.item()"
   ]
  },
  {
   "cell_type": "markdown",
   "id": "eb783e5f-56f4-4e51-ad60-bf8c040391c8",
   "metadata": {},
   "source": [
    "Exponentiation for positive values may cause go out of the floating range and produce inf"
   ]
  },
  {
   "cell_type": "code",
   "execution_count": 59,
   "id": "426c0d55-2a57-4091-9074-58b07265b45e",
   "metadata": {},
   "outputs": [
    {
     "data": {
      "text/plain": [
       "tensor([0., 0., 0., nan])"
      ]
     },
     "execution_count": 59,
     "metadata": {},
     "output_type": "execute_result"
    }
   ],
   "source": [
    "logits = torch.tensor([-100, -4, -3, 100])\n",
    "counts = logits.exp()\n",
    "counts = counts / counts.sum()\n",
    "counts"
   ]
  },
  {
   "cell_type": "markdown",
   "id": "7293593c-e1a6-4b96-ac20-c392b3a37f4b",
   "metadata": {},
   "source": [
    "any offset doesnt change the counts due to normalization. pytorch internally subtracts the maximum value as offset "
   ]
  },
  {
   "cell_type": "code",
   "execution_count": 60,
   "id": "33854380-ec5b-4af6-b100-2d70dc20f50d",
   "metadata": {},
   "outputs": [
    {
     "data": {
      "text/plain": [
       "tensor([0.0000e+00, 0.0000e+00, 1.4013e-45, 1.0000e+00])"
      ]
     },
     "execution_count": 60,
     "metadata": {},
     "output_type": "execute_result"
    }
   ],
   "source": [
    "logits = torch.tensor([-100, -4, -3, 100]) - 100\n",
    "counts = logits.exp()\n",
    "counts = counts / counts.sum()\n",
    "counts"
   ]
  },
  {
   "cell_type": "markdown",
   "id": "8c26aec4-a38a-4a56-9322-e318d46e13d3",
   "metadata": {},
   "source": [
    "### Training"
   ]
  },
  {
   "cell_type": "code",
   "execution_count": 62,
   "id": "66bb7019-d19c-4233-9832-ee8f936f9465",
   "metadata": {},
   "outputs": [],
   "source": [
    "for p in parameters:\n",
    "    p.requires_grad = True"
   ]
  },
  {
   "cell_type": "code",
   "execution_count": 65,
   "id": "150bbe44-c94b-4814-b9ac-0f6a9429f722",
   "metadata": {},
   "outputs": [
    {
     "name": "stdout",
     "output_type": "stream",
     "text": [
      "0.25603100657463074\n"
     ]
    }
   ],
   "source": [
    "for _ in range(1000):\n",
    "    #forward pass\n",
    "    emb = C[X]\n",
    "    h = (emb.view(-1, 6) @ W1 + b1).tanh()\n",
    "    logits = h @ W2 + b2\n",
    "    loss = F.cross_entropy(logits, Y)\n",
    "    #backward pass\n",
    "    for p in parameters:\n",
    "        p.grad = None\n",
    "    \n",
    "    loss.backward()\n",
    "    \n",
    "    for p in parameters:\n",
    "        p.data += -0.1 * p.grad\n",
    "\n",
    "\n",
    "print(loss.item())"
   ]
  },
  {
   "cell_type": "markdown",
   "id": "24bf37bc-3df0-4f8c-83d6-d137983eaa85",
   "metadata": {},
   "source": [
    "#### Training on full dataset"
   ]
  },
  {
   "cell_type": "code",
   "execution_count": 67,
   "id": "4014d057-d513-49e1-bfda-7bb3090a1d08",
   "metadata": {},
   "outputs": [],
   "source": [
    "block_size = 3\n",
    "X, Y = [], []\n",
    "\n",
    "for w in words:\n",
    "\n",
    "    context = [0] * block_size\n",
    "    for ch in w+\".\":\n",
    "        ix = stoi[ch]\n",
    "        X.append(context)\n",
    "        Y.append(ix)\n",
    "\n",
    "        context = context[1:]+[ix]\n",
    "\n",
    "X = torch.tensor(X)\n",
    "Y = torch.tensor(Y)"
   ]
  },
  {
   "cell_type": "code",
   "execution_count": 68,
   "id": "9d1def7a-2388-4434-b7e8-0bb5217d7098",
   "metadata": {},
   "outputs": [
    {
     "data": {
      "text/plain": [
       "(torch.Size([228146, 3]), torch.Size([228146]))"
      ]
     },
     "execution_count": 68,
     "metadata": {},
     "output_type": "execute_result"
    }
   ],
   "source": [
    "X.shape, Y.shape"
   ]
  },
  {
   "cell_type": "code",
   "execution_count": 76,
   "id": "d35876b7-f061-45ce-b71c-85de3691d5a3",
   "metadata": {},
   "outputs": [],
   "source": [
    "g = torch.Generator().manual_seed(2147483647)\n",
    "C = torch.randn((27, 2), generator = g) #embedding matrix\n",
    "\n",
    "W1 = torch.randn((6,100), generator=g)\n",
    "b1 = torch.randn(100, generator=g)\n",
    "\n",
    "\n",
    "W2 = torch.randn((100,27), generator=g)\n",
    "b2 = torch.randn(27, generator=g)"
   ]
  },
  {
   "cell_type": "code",
   "execution_count": 77,
   "id": "ec3d2194-78f4-49dc-be8f-1db4b607a2b0",
   "metadata": {},
   "outputs": [
    {
     "data": {
      "text/plain": [
       "3481"
      ]
     },
     "execution_count": 77,
     "metadata": {},
     "output_type": "execute_result"
    }
   ],
   "source": [
    "parameters = [C, W1, W2, b1, b2]\n",
    "\n",
    "sum(p.nelement() for p in parameters)"
   ]
  },
  {
   "cell_type": "code",
   "execution_count": 78,
   "id": "9186f9ff-5747-482f-92c3-4b9b2ed166e1",
   "metadata": {},
   "outputs": [],
   "source": [
    "for p in parameters:\n",
    "    p.requires_grad = True"
   ]
  },
  {
   "cell_type": "code",
   "execution_count": 72,
   "id": "8526ca1a-445a-436f-9568-397b7d658e33",
   "metadata": {
    "scrolled": true
   },
   "outputs": [
    {
     "name": "stdout",
     "output_type": "stream",
     "text": [
      "19.505229949951172\n",
      "17.08449363708496\n",
      "15.776532173156738\n",
      "14.833344459533691\n",
      "14.002608299255371\n",
      "13.253264427185059\n",
      "12.57992172241211\n",
      "11.98310661315918\n",
      "11.470499992370605\n",
      "11.051865577697754\n"
     ]
    }
   ],
   "source": [
    "for _ in range(10):\n",
    "    #forward pass\n",
    "    emb = C[X]\n",
    "    h = (emb.view(-1, 6) @ W1 + b1).tanh()\n",
    "    logits = h @ W2 + b2\n",
    "    loss = F.cross_entropy(logits, Y)\n",
    "\n",
    "    print(loss.item())\n",
    "    #backward pass\n",
    "    for p in parameters:\n",
    "        p.grad = None\n",
    "    \n",
    "    loss.backward()\n",
    "    \n",
    "    for p in parameters:\n",
    "        p.data += -0.1 * p.grad\n",
    "\n"
   ]
  },
  {
   "cell_type": "markdown",
   "id": "78a655f7-352b-4083-90b8-2f1b0cbdc4a4",
   "metadata": {},
   "source": [
    "this is very slow. we need to use minibatches instead. the gradient will not be perfect but will be alright"
   ]
  },
  {
   "cell_type": "markdown",
   "id": "04e8ad6f-a475-41f3-bc44-fd8321e01005",
   "metadata": {},
   "source": [
    "### Using minibatches"
   ]
  },
  {
   "cell_type": "code",
   "execution_count": 17,
   "id": "595cb73a-ab95-49c6-b6f0-8cb1362d7942",
   "metadata": {},
   "outputs": [],
   "source": [
    "g = torch.Generator().manual_seed(2147483647)\n",
    "C = torch.randn((27, 2), generator = g) #embedding matrix\n",
    "\n",
    "W1 = torch.randn((6,100), generator=g)\n",
    "b1 = torch.randn(100, generator=g)\n",
    "\n",
    "\n",
    "W2 = torch.randn((100,27), generator=g)\n",
    "b2 = torch.randn(27, generator=g)\n",
    "\n",
    "parameters = [C, W1, W2, b1, b2]\n",
    "\n",
    "for p in parameters:\n",
    "    p.requires_grad = True"
   ]
  },
  {
   "cell_type": "code",
   "execution_count": 5,
   "id": "ca0d9ad6-c595-4198-878b-71bfd5556b1e",
   "metadata": {},
   "outputs": [
    {
     "data": {
      "text/plain": [
       "tensor([4, 1, 3, 2, 1, 4, 1, 2, 0, 1, 4, 4, 0, 2, 4, 1, 2, 2, 3, 2, 3, 0, 2, 4,\n",
       "        1, 4, 4, 2, 2, 4, 2, 2])"
      ]
     },
     "execution_count": 5,
     "metadata": {},
     "output_type": "execute_result"
    }
   ],
   "source": [
    "torch.randint(0,5 , (32,))"
   ]
  },
  {
   "cell_type": "code",
   "execution_count": 9,
   "id": "e29bf45f-ba49-4810-bee1-4aff7ea41c2f",
   "metadata": {},
   "outputs": [
    {
     "name": "stdout",
     "output_type": "stream",
     "text": [
      "0.2542445659637451\n"
     ]
    }
   ],
   "source": [
    "for _ in range(1000):\n",
    "\n",
    "    \n",
    "    ix = torch.randint(0,X.shape[0] , (32,))\n",
    "    #forward pass\n",
    "    emb = C[X[ix]]\n",
    "    h = (emb.view(-1, 6) @ W1 + b1).tanh()\n",
    "    logits = h @ W2 + b2\n",
    "    loss = F.cross_entropy(logits, Y[ix])\n",
    "\n",
    "    #backward pass\n",
    "    for p in parameters:\n",
    "        p.grad = None\n",
    "    \n",
    "    loss.backward()\n",
    "    \n",
    "    for p in parameters:\n",
    "        p.data += -0.1 * p.grad\n",
    "\n",
    "\n",
    "print(loss.item())"
   ]
  },
  {
   "cell_type": "markdown",
   "id": "9b92b476-33ef-4a82-8392-78f2d8740938",
   "metadata": {},
   "source": [
    "#### Determining learning rate"
   ]
  },
  {
   "cell_type": "code",
   "execution_count": 19,
   "id": "300dcb21-0ecd-4051-b7e8-d8e260681f6c",
   "metadata": {},
   "outputs": [],
   "source": [
    "lre = torch.linspace(-3, 0, 1000)\n",
    "lrs = 10**lre\n"
   ]
  },
  {
   "cell_type": "code",
   "execution_count": 25,
   "id": "f707a38c-a23e-4378-a12f-03c8e79f6f90",
   "metadata": {},
   "outputs": [],
   "source": [
    "g = torch.Generator().manual_seed(2147483647)\n",
    "C = torch.randn((27, 2), generator = g) #embedding matrix\n",
    "\n",
    "W1 = torch.randn((6,100), generator=g)\n",
    "b1 = torch.randn(100, generator=g)\n",
    "\n",
    "\n",
    "W2 = torch.randn((100,27), generator=g)\n",
    "b2 = torch.randn(27, generator=g)\n",
    "\n",
    "parameters = [C, W1, W2, b1, b2]\n",
    "\n",
    "for p in parameters:\n",
    "    p.requires_grad = True"
   ]
  },
  {
   "cell_type": "code",
   "execution_count": 21,
   "id": "0e880dd1-9801-4ca0-89f5-84de38292883",
   "metadata": {},
   "outputs": [
    {
     "name": "stdout",
     "output_type": "stream",
     "text": [
      "0.6027141213417053\n"
     ]
    }
   ],
   "source": [
    "lri = []\n",
    "lrei = []\n",
    "lossi = []\n",
    "\n",
    "for i in range(1000):\n",
    "\n",
    "    \n",
    "    ix = torch.randint(0,X.shape[0] , (32,))\n",
    "    #forward pass\n",
    "    emb = C[X[ix]]\n",
    "    h = (emb.view(-1, 6) @ W1 + b1).tanh()\n",
    "    logits = h @ W2 + b2\n",
    "    loss = F.cross_entropy(logits, Y[ix])\n",
    "\n",
    "    #backward pass\n",
    "    for p in parameters:\n",
    "        p.grad = None\n",
    "    \n",
    "    loss.backward()\n",
    "    lr = lrs[i]\n",
    "    lri.append(lr)\n",
    "    lrei.append(lre[i])\n",
    "    lossi.append(loss.item())\n",
    "    for p in parameters:\n",
    "        p.data += -lr * p.grad\n",
    "\n",
    "\n",
    "print(loss.item())"
   ]
  },
  {
   "cell_type": "code",
   "execution_count": 22,
   "id": "14ecabf6-6665-4c61-87f6-62eb6f5ae510",
   "metadata": {},
   "outputs": [
    {
     "data": {
      "text/plain": [
       "[<matplotlib.lines.Line2D at 0x799b5a567d10>]"
      ]
     },
     "execution_count": 22,
     "metadata": {},
     "output_type": "execute_result"
    },
    {
     "data": {
      "image/png": "[encoded data removed]",
      "text/plain": [
       "<Figure size 640x480 with 1 Axes>"
      ]
     },
     "metadata": {},
     "output_type": "display_data"
    }
   ],
   "source": [
    "plt.plot(lri, lossi)"
   ]
  },
  {
   "cell_type": "code",
   "execution_count": 23,
   "id": "8dc7d6a0-e73e-44f0-ad8a-63eaa9e402b6",
   "metadata": {},
   "outputs": [
    {
     "data": {
      "text/plain": [
       "[<matplotlib.lines.Line2D at 0x799b5a74eb90>]"
      ]
     },
     "execution_count": 23,
     "metadata": {},
     "output_type": "execute_result"
    },
    {
     "data": {
      "image/png": "[encoded data removed]",
      "text/plain": [
       "<Figure size 640x480 with 1 Axes>"
      ]
     },
     "metadata": {},
     "output_type": "display_data"
    }
   ],
   "source": [
    "plt.plot(lrei, lossi)"
   ]
  },
  {
   "cell_type": "code",
   "execution_count": 26,
   "id": "4e6f36e2-150e-4369-b4c4-445422124c7c",
   "metadata": {},
   "outputs": [
    {
     "name": "stdout",
     "output_type": "stream",
     "text": [
      "0.23941880464553833\n"
     ]
    }
   ],
   "source": [
    "for i in range(1000):\n",
    "\n",
    "    \n",
    "    ix = torch.randint(0,X.shape[0] , (32,))\n",
    "    #forward pass\n",
    "    emb = C[X[ix]]\n",
    "    h = (emb.view(-1, 6) @ W1 + b1).tanh()\n",
    "    logits = h @ W2 + b2\n",
    "    loss = F.cross_entropy(logits, Y[ix])\n",
    "\n",
    "    #backward pass\n",
    "    for p in parameters:\n",
    "        p.grad = None\n",
    "    \n",
    "    loss.backward()\n",
    "    lr = 10**-1\n",
    "    for p in parameters:\n",
    "        p.data += -lr * p.grad\n",
    "\n",
    "\n",
    "print(loss.item())"
   ]
  },
  {
   "cell_type": "code",
   "execution_count": 29,
   "id": "2ba3c3c8-9213-4e81-bd00-419034acc734",
   "metadata": {},
   "outputs": [
    {
     "data": {
      "text/plain": [
       "0.2740665078163147"
      ]
     },
     "execution_count": 29,
     "metadata": {},
     "output_type": "execute_result"
    }
   ],
   "source": [
    "emb = C[X]\n",
    "h = torch.tanh(emb.view(-1, 6) @ W1 + b1)\n",
    "logits = h @ W2 + b2\n",
    "loss = F.cross_entropy(logits, Y)\n",
    "loss.item()"
   ]
  },
  {
   "cell_type": "markdown",
   "id": "f153e7b3-60f3-41dd-9546-37aef177d453",
   "metadata": {},
   "source": [
    "But model has to be divided into train, dev, test data. dev used for tuning the hyperparameters. Test loss need to be evaluated only a very few times. "
   ]
  },
  {
   "cell_type": "markdown",
   "id": "951ce080-c897-41da-902d-ac545ea8fc8b",
   "metadata": {},
   "source": [
    "### Build train, test, valid dataset"
   ]
  },
  {
   "cell_type": "code",
   "execution_count": 31,
   "id": "7a89eca9-5280-4c01-bb4c-eaf10b5b923e",
   "metadata": {},
   "outputs": [],
   "source": [
    "def build_dataset(words):\n",
    "    block_size = 3\n",
    "    X, Y = [], []\n",
    "    \n",
    "    for w in words:\n",
    "    \n",
    "        context = [0] * block_size\n",
    "        for ch in w+\".\":\n",
    "            ix = stoi[ch]\n",
    "            X.append(context)\n",
    "            Y.append(ix)\n",
    "    \n",
    "            context = context[1:]+[ix]\n",
    "    \n",
    "    X = torch.tensor(X)\n",
    "    Y = torch.tensor(Y)   \n",
    "\n",
    "    return X, Y\n",
    "\n",
    "import random\n",
    "random.seed(42)\n",
    "random.shuffle(words)\n",
    "\n",
    "n1 = int(0.8*len(words))\n",
    "n2 = int(0.9*len(words))\n",
    "\n",
    "Xtr, Ytr = build_dataset(words[:n1])\n",
    "Xdev, Ydev = build_dataset(words[n1:n2])\n",
    "Xte, Yte = build_dataset(words[n2:])"
   ]
  },
  {
   "cell_type": "markdown",
   "id": "68a1b007-0da2-4a97-b2a8-5b60e5318ad6",
   "metadata": {},
   "source": [
    "#### Parameters"
   ]
  },
  {
   "cell_type": "code",
   "execution_count": null,
   "id": "9e9884c6-d5cb-41cf-87d9-17f001e190ba",
   "metadata": {},
   "outputs": [],
   "source": [
    "g = torch.Generator().manual_seed(2147483647)\n",
    "C = torch.randn((27, 2), generator = g) #embedding matrix\n",
    "\n",
    "W1 = torch.randn((6,100), generator=g)\n",
    "b1 = torch.randn(100, generator=g)\n",
    "\n",
    "\n",
    "W2 = torch.randn((100,27), generator=g)\n",
    "b2 = torch.randn(27, generator=g)\n",
    "\n",
    "parameters = [C, W1, W2, b1, b2]\n",
    "\n",
    "for p in parameters:\n",
    "    p.requires_grad = True"
   ]
  },
  {
   "cell_type": "markdown",
   "id": "ddda357c-0245-43e1-860a-cef0522c3aa1",
   "metadata": {},
   "source": [
    "#### Training loop"
   ]
  },
  {
   "cell_type": "code",
   "execution_count": 35,
   "id": "144ca419-2dda-4786-afb2-fe03bd6dd261",
   "metadata": {},
   "outputs": [
    {
     "name": "stdout",
     "output_type": "stream",
     "text": [
      "2.4241466522216797\n"
     ]
    }
   ],
   "source": [
    "for i in range(30000):\n",
    "\n",
    "    \n",
    "    ix = torch.randint(0,Xtr.shape[0] , (32,))\n",
    "    #forward pass\n",
    "    emb = C[Xtr[ix]]\n",
    "    h = (emb.view(-1, 6) @ W1 + b1).tanh()\n",
    "    logits = h @ W2 + b2\n",
    "    loss = F.cross_entropy(logits, Ytr[ix])\n",
    "\n",
    "    #backward pass\n",
    "    for p in parameters:\n",
    "        p.grad = None\n",
    "    \n",
    "    loss.backward()\n",
    "    lr = 10**-1\n",
    "    for p in parameters:\n",
    "        p.data += -lr * p.grad\n",
    "\n",
    "\n",
    "print(loss.item())"
   ]
  },
  {
   "cell_type": "markdown",
   "id": "437c4614-0494-480d-9c47-b9f53d02ec9a",
   "metadata": {},
   "source": [
    "#### Evaluation"
   ]
  },
  {
   "cell_type": "code",
   "execution_count": 37,
   "id": "78dcece1-f205-4f03-85fb-3a137c923e2c",
   "metadata": {},
   "outputs": [
    {
     "data": {
      "text/plain": [
       "2.3313846588134766"
      ]
     },
     "execution_count": 37,
     "metadata": {},
     "output_type": "execute_result"
    }
   ],
   "source": [
    "emb = C[Xtr]\n",
    "h = torch.tanh(emb.view(-1, 6) @ W1 + b1)\n",
    "logits = h @ W2 + b2\n",
    "loss = F.cross_entropy(logits, Ytr)\n",
    "loss.item()"
   ]
  },
  {
   "cell_type": "code",
   "execution_count": 36,
   "id": "d4c7af28-94e8-479f-958c-36d2e18b2b67",
   "metadata": {},
   "outputs": [
    {
     "data": {
      "text/plain": [
       "2.337073802947998"
      ]
     },
     "execution_count": 36,
     "metadata": {},
     "output_type": "execute_result"
    }
   ],
   "source": [
    "emb = C[Xdev]\n",
    "h = torch.tanh(emb.view(-1, 6) @ W1 + b1)\n",
    "logits = h @ W2 + b2\n",
    "loss = F.cross_entropy(logits, Ydev)\n",
    "loss.item()"
   ]
  },
  {
   "cell_type": "markdown",
   "id": "122aded8-32b7-4493-b06e-1fa120424301",
   "metadata": {},
   "source": [
    "training loss and dev loss are equal. We can improve performance by scaling up the NN"
   ]
  },
  {
   "cell_type": "markdown",
   "id": "ba771798-95ab-4655-a434-8369b2029e0b",
   "metadata": {},
   "source": [
    "#### Large hidden layer"
   ]
  },
  {
   "cell_type": "code",
   "execution_count": 42,
   "id": "9aa71ff7-98a0-46d7-9cc6-e07a35545d9e",
   "metadata": {},
   "outputs": [],
   "source": [
    "g = torch.Generator().manual_seed(2147483647)\n",
    "C = torch.randn((27, 2), generator = g) #embedding matrix\n",
    "\n",
    "W1 = torch.randn((6,300), generator=g)\n",
    "b1 = torch.randn(300, generator=g)\n",
    "\n",
    "\n",
    "W2 = torch.randn((300,27), generator=g)\n",
    "b2 = torch.randn(27, generator=g)\n",
    "\n",
    "parameters = [C, W1, W2, b1, b2]\n",
    "\n",
    "for p in parameters:\n",
    "    p.requires_grad = True"
   ]
  },
  {
   "cell_type": "code",
   "execution_count": 39,
   "id": "174c8f28-1cf7-4132-a029-3a6de68ad775",
   "metadata": {},
   "outputs": [],
   "source": [
    "lre = torch.linspace(-3, 0, 30000)\n",
    "lrs = 10**lre\n"
   ]
  },
  {
   "cell_type": "code",
   "execution_count": 61,
   "id": "25c6d143-3577-4a8a-a68f-520c9c60f3b0",
   "metadata": {},
   "outputs": [
    {
     "name": "stdout",
     "output_type": "stream",
     "text": [
      "2.280832052230835\n"
     ]
    }
   ],
   "source": [
    "lossi = []\n",
    "stepi = []\n",
    "\n",
    "for i in range(30000):\n",
    "    \n",
    "    ix = torch.randint(0,Xtr.shape[0] , (32,))\n",
    "    #forward pass\n",
    "    emb = C[Xtr[ix]]\n",
    "    h = (emb.view(-1, 6) @ W1 + b1).tanh()\n",
    "    logits = h @ W2 + b2\n",
    "    loss = F.cross_entropy(logits, Ytr[ix])\n",
    "\n",
    "    lossi.append(loss.item())\n",
    "    stepi.append(i)\n",
    "\n",
    "    #backward pass\n",
    "    for p in parameters:\n",
    "        p.grad = None\n",
    "    \n",
    "    loss.backward()\n",
    "    lr = 0.01\n",
    "    for p in parameters:\n",
    "        p.data += -lr * p.grad\n",
    "\n",
    "\n",
    "print(loss.item())"
   ]
  },
  {
   "cell_type": "code",
   "execution_count": 58,
   "id": "03d09a75-f0b9-4bfe-a7cd-9064ce439d60",
   "metadata": {},
   "outputs": [
    {
     "data": {
      "text/plain": [
       "[<matplotlib.lines.Line2D at 0x799aef24cdd0>]"
      ]
     },
     "execution_count": 58,
     "metadata": {},
     "output_type": "execute_result"
    },
    {
     "data": {
      "image/png": "[encoded data removed]",
      "text/plain": [
       "<Figure size 640x480 with 1 Axes>"
      ]
     },
     "metadata": {},
     "output_type": "display_data"
    }
   ],
   "source": [
    "plt.plot(stepi, lossi)"
   ]
  },
  {
   "cell_type": "markdown",
   "id": "df232a94-0c0f-4533-af81-35abaa61069c",
   "metadata": {},
   "source": [
    "#### Evaluation"
   ]
  },
  {
   "cell_type": "code",
   "execution_count": 62,
   "id": "01af8767-66b4-49bf-b84a-0066d58a2ce5",
   "metadata": {},
   "outputs": [
    {
     "data": {
      "text/plain": [
       "2.2350828647613525"
      ]
     },
     "execution_count": 62,
     "metadata": {},
     "output_type": "execute_result"
    }
   ],
   "source": [
    "emb = C[Xtr]\n",
    "h = torch.tanh(emb.view(-1, 6) @ W1 + b1)\n",
    "logits = h @ W2 + b2\n",
    "loss = F.cross_entropy(logits, Ytr)\n",
    "loss.item()"
   ]
  },
  {
   "cell_type": "code",
   "execution_count": 63,
   "id": "c1345f0f-b449-4c7a-95fc-ea57219d288f",
   "metadata": {},
   "outputs": [
    {
     "data": {
      "text/plain": [
       "2.2465620040893555"
      ]
     },
     "execution_count": 63,
     "metadata": {},
     "output_type": "execute_result"
    }
   ],
   "source": [
    "emb = C[Xdev]\n",
    "h = torch.tanh(emb.view(-1, 6) @ W1 + b1)\n",
    "logits = h @ W2 + b2\n",
    "loss = F.cross_entropy(logits, Ydev)\n",
    "loss.item()"
   ]
  },
  {
   "cell_type": "markdown",
   "id": "550de7dc-aa46-46f2-a1c8-2b3cb34b6434",
   "metadata": {},
   "source": [
    "We will keep optimizing until training loss and dev loss equal"
   ]
  },
  {
   "cell_type": "code",
   "execution_count": 64,
   "id": "41334a93-e878-4c90-b91f-f769aa6d942f",
   "metadata": {},
   "outputs": [
    {
     "data": {
      "image/png": "[encoded data removed]",
      "text/plain": [
       "<Figure size 800x800 with 1 Axes>"
      ]
     },
     "metadata": {},
     "output_type": "display_data"
    }
   ],
   "source": [
    "# visualize dimensions 0 and 1 of the embedding matrix C for all characters\n",
    "plt.figure(figsize=(8,8))\n",
    "plt.scatter(C[:,0].data, C[:,1].data, s=200)\n",
    "for i in range(C.shape[0]):\n",
    "    plt.text(C[i,0].item(), C[i,1].item(), itos[i], ha=\"center\", va=\"center\", color='white')\n",
    "plt.grid('minor')"
   ]
  },
  {
   "cell_type": "markdown",
   "id": "d94eaf10-e5af-43e5-ad1a-053da25b6dd0",
   "metadata": {},
   "source": [
    "We have made the hidden layer bigger+decrease learning rate but still not converging. So the culprit may be the embedding layer. Let's make the embedding bigger"
   ]
  },
  {
   "cell_type": "markdown",
   "id": "ebff3943-7b37-4303-8ae5-66d33beb8b66",
   "metadata": {},
   "source": [
    "### Have 10 dim embeddings"
   ]
  },
  {
   "cell_type": "code",
   "execution_count": 67,
   "id": "163982ea-2fd6-46f9-a8a8-dc8469dbd290",
   "metadata": {},
   "outputs": [],
   "source": [
    "g = torch.Generator().manual_seed(2147483647)\n",
    "C = torch.randn((27, 10), generator = g) #embedding matrix\n",
    "\n",
    "W1 = torch.randn((30,200), generator=g)\n",
    "b1 = torch.randn(200, generator=g)\n",
    "\n",
    "\n",
    "W2 = torch.randn((200,27), generator=g)\n",
    "b2 = torch.randn(27, generator=g)\n",
    "\n",
    "parameters = [C, W1, W2, b1, b2]\n",
    "\n",
    "for p in parameters:\n",
    "    p.requires_grad = True"
   ]
  },
  {
   "cell_type": "code",
   "execution_count": 68,
   "id": "11f3cab0-5be2-4e87-a50e-8fe44690fa3e",
   "metadata": {},
   "outputs": [],
   "source": [
    "lossi = []\n",
    "stepi = []"
   ]
  },
  {
   "cell_type": "code",
   "execution_count": 90,
   "id": "603546e5-221c-41cf-8601-7d7e62ba1b14",
   "metadata": {},
   "outputs": [
    {
     "name": "stdout",
     "output_type": "stream",
     "text": [
      "2.259211540222168\n"
     ]
    }
   ],
   "source": [
    "\n",
    "\n",
    "for i in range(50000):\n",
    "    \n",
    "    ix = torch.randint(0,Xtr.shape[0] , (32,))\n",
    "    #forward pass\n",
    "    emb = C[Xtr[ix]]\n",
    "    h = (emb.view(-1, 30) @ W1 + b1).tanh()\n",
    "    logits = h @ W2 + b2\n",
    "    loss = F.cross_entropy(logits, Ytr[ix])\n",
    "\n",
    "    lossi.append(loss.log10().item())\n",
    "    stepi.append(i)\n",
    "\n",
    "    #backward pass\n",
    "    for p in parameters:\n",
    "        p.grad = None\n",
    "    \n",
    "    loss.backward()\n",
    "    lr = 0.01\n",
    "    for p in parameters:\n",
    "        p.data += -lr * p.grad\n",
    "\n",
    "\n",
    "print(loss.item())"
   ]
  },
  {
   "cell_type": "code",
   "execution_count": 91,
   "id": "9c99a77d-51ca-4491-bf35-3837d04c50d9",
   "metadata": {},
   "outputs": [
    {
     "data": {
      "text/plain": [
       "[<matplotlib.lines.Line2D at 0x799aeee75bd0>]"
      ]
     },
     "execution_count": 91,
     "metadata": {},
     "output_type": "execute_result"
    },
    {
     "data": {
      "image/png": "[encoded data removed]",
      "text/plain": [
       "<Figure size 640x480 with 1 Axes>"
      ]
     },
     "metadata": {},
     "output_type": "display_data"
    }
   ],
   "source": [
    "plt.plot(stepi, lossi)"
   ]
  },
  {
   "cell_type": "markdown",
   "id": "a156440c-a5aa-4233-83d4-3ac51f5a6a33",
   "metadata": {},
   "source": [
    "#### Evaluation"
   ]
  },
  {
   "cell_type": "code",
   "execution_count": 92,
   "id": "528e3068-0874-411a-85a3-f2efeb858a59",
   "metadata": {},
   "outputs": [
    {
     "data": {
      "text/plain": [
       "2.239295721054077"
      ]
     },
     "execution_count": 92,
     "metadata": {},
     "output_type": "execute_result"
    }
   ],
   "source": [
    "emb = C[Xtr]\n",
    "h = torch.tanh(emb.view(-1, 30) @ W1 + b1)\n",
    "logits = h @ W2 + b2\n",
    "loss = F.cross_entropy(logits, Ytr)\n",
    "loss.item()"
   ]
  },
  {
   "cell_type": "code",
   "execution_count": 93,
   "id": "45e74e43-1767-4336-abef-1fe4f0219381",
   "metadata": {},
   "outputs": [
    {
     "data": {
      "text/plain": [
       "2.2544102668762207"
      ]
     },
     "execution_count": 93,
     "metadata": {},
     "output_type": "execute_result"
    }
   ],
   "source": [
    "emb = C[Xdev]\n",
    "h = torch.tanh(emb.view(-1, 30) @ W1 + b1)\n",
    "logits = h @ W2 + b2\n",
    "loss = F.cross_entropy(logits, Ydev)\n",
    "loss.item()"
   ]
  },
  {
   "cell_type": "code",
   "execution_count": 94,
   "id": "5327f7b2-444b-4af4-b097-ddf385145998",
   "metadata": {},
   "outputs": [
    {
     "data": {
      "image/png": "[encoded data removed]",
      "text/plain": [
       "<Figure size 800x800 with 1 Axes>"
      ]
     },
     "metadata": {},
     "output_type": "display_data"
    }
   ],
   "source": [
    "# visualize dimensions 0 and 1 of the embedding matrix C for all characters\n",
    "plt.figure(figsize=(8,8))\n",
    "plt.scatter(C[:,0].data, C[:,1].data, s=200)\n",
    "for i in range(C.shape[0]):\n",
    "    plt.text(C[i,0].item(), C[i,1].item(), itos[i], ha=\"center\", va=\"center\", color='white')\n",
    "plt.grid('minor')"
   ]
  },
  {
   "cell_type": "markdown",
   "id": "9680dc05-1178-4302-98be-16acd763ce00",
   "metadata": {},
   "source": [
    "### Training for longer"
   ]
  },
  {
   "cell_type": "code",
   "execution_count": 95,
   "id": "7dd758e0-f3c7-4d23-a01e-9c9bc97918fd",
   "metadata": {},
   "outputs": [],
   "source": [
    "g = torch.Generator().manual_seed(2147483647)\n",
    "C = torch.randn((27, 10), generator = g) #embedding matrix\n",
    "\n",
    "W1 = torch.randn((30,200), generator=g)\n",
    "b1 = torch.randn(200, generator=g)\n",
    "\n",
    "\n",
    "W2 = torch.randn((200,27), generator=g)\n",
    "b2 = torch.randn(27, generator=g)\n",
    "\n",
    "parameters = [C, W1, W2, b1, b2]\n",
    "\n",
    "for p in parameters:\n",
    "    p.requires_grad = True"
   ]
  },
  {
   "cell_type": "code",
   "execution_count": 96,
   "id": "f0a00527-7a60-4390-9191-0acca0de1993",
   "metadata": {},
   "outputs": [],
   "source": [
    "lossi = []\n",
    "stepi = []"
   ]
  },
  {
   "cell_type": "markdown",
   "id": "55ce8c4d-ae4c-4ebc-99e0-42b0da73b6a1",
   "metadata": {},
   "source": [
    "#### Sending the parameters to gpu"
   ]
  },
  {
   "cell_type": "code",
   "execution_count": 100,
   "id": "e68bae6d-0103-49fe-8f07-8dce137ad56d",
   "metadata": {},
   "outputs": [],
   "source": [
    "device = torch.device(\"cuda\" if torch.cuda.is_available() else \"cpu\")"
   ]
  },
  {
   "cell_type": "code",
   "execution_count": 105,
   "id": "34b38fd2-5129-46ea-92be-46a8bbe096a3",
   "metadata": {},
   "outputs": [
    {
     "data": {
      "text/plain": [
       "device(type='cuda')"
      ]
     },
     "execution_count": 105,
     "metadata": {},
     "output_type": "execute_result"
    }
   ],
   "source": [
    "device"
   ]
  },
  {
   "cell_type": "code",
   "execution_count": 101,
   "id": "3f953ed1-28ca-4f8f-883c-782283a6123d",
   "metadata": {},
   "outputs": [
    {
     "data": {
      "text/plain": [
       "(tensor([[ 0,  0,  0],\n",
       "         [ 0,  0,  5],\n",
       "         [ 0,  5,  2],\n",
       "         ...,\n",
       "         [25,  1, 14],\n",
       "         [ 1, 14, 14],\n",
       "         [14, 14,  9]], device='cuda:0'),\n",
       " tensor([ 5,  2, 18,  ..., 14,  9,  0], device='cuda:0'))"
      ]
     },
     "execution_count": 101,
     "metadata": {},
     "output_type": "execute_result"
    }
   ],
   "source": [
    "Xtr.to(device), Ytr.to(device)"
   ]
  },
  {
   "cell_type": "code",
   "execution_count": 102,
   "id": "a30d9c3c-fbdc-41c3-a2a0-f46c425ffca8",
   "metadata": {},
   "outputs": [],
   "source": [
    "for p in parameters:\n",
    "    p.to(device)"
   ]
  },
  {
   "cell_type": "code",
   "execution_count": 104,
   "id": "bd24cd3d-a29f-4a7e-94db-dea7a86ce09b",
   "metadata": {},
   "outputs": [
    {
     "name": "stdout",
     "output_type": "stream",
     "text": [
      "1.7541700601577759\n"
     ]
    }
   ],
   "source": [
    "\n",
    "\n",
    "for i in range(4*50000):\n",
    "    \n",
    "    ix = torch.randint(0,Xtr.shape[0] , (32,))\n",
    "    #forward pass\n",
    "    emb = C[Xtr[ix]]\n",
    "    h = (emb.view(-1, 30) @ W1 + b1).tanh()\n",
    "    logits = h @ W2 + b2\n",
    "    loss = F.cross_entropy(logits, Ytr[ix])\n",
    "\n",
    "    lossi.append(loss.log10().item())\n",
    "    stepi.append(i)\n",
    "\n",
    "    #backward pass\n",
    "    for p in parameters:\n",
    "        p.grad = None\n",
    "    \n",
    "    loss.backward()\n",
    "    lr = 0.1 if i<100000 else 0.01\n",
    "    for p in parameters:\n",
    "        p.data += -lr * p.grad\n",
    "\n",
    "\n",
    "print(loss.item())"
   ]
  },
  {
   "cell_type": "code",
   "execution_count": 106,
   "id": "2b393761-1d99-4549-becb-8e08f34cf39d",
   "metadata": {},
   "outputs": [
    {
     "data": {
      "text/plain": [
       "[<matplotlib.lines.Line2D at 0x799aeea34590>]"
      ]
     },
     "execution_count": 106,
     "metadata": {},
     "output_type": "execute_result"
    },
    {
     "data": {
      "image/png": "[encoded data removed]",
      "text/plain": [
       "<Figure size 640x480 with 1 Axes>"
      ]
     },
     "metadata": {},
     "output_type": "display_data"
    }
   ],
   "source": [
    "plt.plot(stepi, lossi)"
   ]
  },
  {
   "cell_type": "code",
   "execution_count": 107,
   "id": "09512136-8ba8-4a93-bb07-4de060f9781a",
   "metadata": {},
   "outputs": [
    {
     "data": {
      "text/plain": [
       "2.1149299144744873"
      ]
     },
     "execution_count": 107,
     "metadata": {},
     "output_type": "execute_result"
    }
   ],
   "source": [
    "emb = C[Xtr]\n",
    "h = torch.tanh(emb.view(-1, 30) @ W1 + b1)\n",
    "logits = h @ W2 + b2\n",
    "loss = F.cross_entropy(logits, Ytr)\n",
    "loss.item()"
   ]
  },
  {
   "cell_type": "code",
   "execution_count": 108,
   "id": "14a97e85-05d5-4e8a-8817-1377ab0796d0",
   "metadata": {},
   "outputs": [
    {
     "data": {
      "text/plain": [
       "2.1645267009735107"
      ]
     },
     "execution_count": 108,
     "metadata": {},
     "output_type": "execute_result"
    }
   ],
   "source": [
    "emb = C[Xdev]\n",
    "h = torch.tanh(emb.view(-1, 30) @ W1 + b1)\n",
    "logits = h @ W2 + b2\n",
    "loss = F.cross_entropy(logits, Ydev)\n",
    "loss.item()"
   ]
  },
  {
   "cell_type": "code",
   "execution_count": 109,
   "id": "ff408d84-cd75-425e-950c-9daff1c4dfb1",
   "metadata": {},
   "outputs": [
    {
     "data": {
      "image/png": "[encoded data removed]",
      "text/plain": [
       "<Figure size 800x800 with 1 Axes>"
      ]
     },
     "metadata": {},
     "output_type": "display_data"
    }
   ],
   "source": [
    "# visualize dimensions 0 and 1 of the embedding matrix C for all characters\n",
    "plt.figure(figsize=(8,8))\n",
    "plt.scatter(C[:,0].data, C[:,1].data, s=200)\n",
    "for i in range(C.shape[0]):\n",
    "    plt.text(C[i,0].item(), C[i,1].item(), itos[i], ha=\"center\", va=\"center\", color='white')\n",
    "plt.grid('minor')"
   ]
  },
  {
   "cell_type": "markdown",
   "id": "c0854eda-5f85-40e8-8d78-2e1a369a61bc",
   "metadata": {},
   "source": [
    "### Sampling from the model"
   ]
  },
  {
   "cell_type": "code",
   "execution_count": 111,
   "id": "00068edd-363f-49e6-a74d-76665f4c67cb",
   "metadata": {},
   "outputs": [
    {
     "name": "stdout",
     "output_type": "stream",
     "text": [
      "mora.\n",
      "mayanniee.\n",
      "madhayla.\n",
      "remersleygon.\n",
      "gradee.\n",
      "daelin.\n",
      "mayanelle.\n",
      "elieananarielle.\n",
      "malaia.\n",
      "noshud.\n",
      "roshiriel.\n",
      "kinleen.\n",
      "jerenteron.\n",
      "ube.\n",
      "ged.\n",
      "ryylene.\n",
      "ehs.\n",
      "kayshaston.\n",
      "mahil.\n",
      "aalynn.\n"
     ]
    }
   ],
   "source": [
    "# sample from the model\n",
    "g = torch.Generator().manual_seed(2147483647 + 10)\n",
    "block_size = 3\n",
    "for _ in range(20):\n",
    "    out = []\n",
    "    context = [0] * block_size\n",
    "\n",
    "    while True:\n",
    "        emb = C[torch.tensor([context])] #(1, blocksize, d)\n",
    "        h = torch.tanh(emb.view(-1, 30) @ W1 + b1)\n",
    "        logits = h @ W2 + b2\n",
    "        probs = F.softmax(logits, dim=1)\n",
    "        ix = torch.multinomial(probs, generator=g, num_samples=1).item()\n",
    "\n",
    "        context = context[1:]+[ix]\n",
    "        out.append(itos[ix])\n",
    "        if ix==0:\n",
    "            break\n",
    "    print(\"\".join(out))"
   ]
  },
  {
   "cell_type": "code",
   "execution_count": 112,
   "id": "e749e81e-ad9f-4f51-a2ce-df1e67ced297",
   "metadata": {},
   "outputs": [],
   "source": [
    "torch.cuda.empty_cache() "
   ]
  },
  {
   "cell_type": "code",
   "execution_count": null,
   "id": "734aeba4-2590-4264-bf73-b8b060fdd3e4",
   "metadata": {},
   "outputs": [],
   "source": []
  }
 ],
 "metadata": {
  "kernelspec": {
   "display_name": "Python 3 (ipykernel)",
   "language": "python",
   "name": "python3"
  },
  "language_info": {
   "codemirror_mode": {
    "name": "ipython",
    "version": 3
   },
   "file_extension": ".py",
   "mimetype": "text/x-python",
   "name": "python",
   "nbconvert_exporter": "python",
   "pygments_lexer": "ipython3",
   "version": "3.11.9"
  }
 },
 "nbformat": 4,
 "nbformat_minor": 5
}
